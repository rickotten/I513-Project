{
 "cells": [
  {
   "cell_type": "code",
   "execution_count": 23,
   "id": "failing-mandate",
   "metadata": {},
   "outputs": [],
   "source": [
    "# This analysis is very similar to Vix analysis\n",
    "import numpy as np\n",
    "import pandas as pd\n",
    "import matplotlib.pyplot as plt\n",
    "\n",
    "from datetime import datetime\n",
    "from sklearn.linear_model import LogisticRegression\n",
    "from sklearn.metrics import accuracy_score\n",
    "from sklearn.model_selection import train_test_split\n",
    "from sklearn.preprocessing import StandardScaler, LabelEncoder\n",
    "from sklearn.svm import SVC"
   ]
  },
  {
   "cell_type": "code",
   "execution_count": 2,
   "id": "incorporate-applicant",
   "metadata": {},
   "outputs": [
    {
     "data": {
      "text/html": [
       "<div>\n",
       "<style scoped>\n",
       "    .dataframe tbody tr th:only-of-type {\n",
       "        vertical-align: middle;\n",
       "    }\n",
       "\n",
       "    .dataframe tbody tr th {\n",
       "        vertical-align: top;\n",
       "    }\n",
       "\n",
       "    .dataframe thead th {\n",
       "        text-align: right;\n",
       "    }\n",
       "</style>\n",
       "<table border=\"1\" class=\"dataframe\">\n",
       "  <thead>\n",
       "    <tr style=\"text-align: right;\">\n",
       "      <th></th>\n",
       "      <th>Name</th>\n",
       "      <th>Symbol</th>\n",
       "      <th>High</th>\n",
       "      <th>Low</th>\n",
       "      <th>Open</th>\n",
       "      <th>Close</th>\n",
       "      <th>Volume</th>\n",
       "      <th>Marketcap</th>\n",
       "    </tr>\n",
       "    <tr>\n",
       "      <th>Date</th>\n",
       "      <th></th>\n",
       "      <th></th>\n",
       "      <th></th>\n",
       "      <th></th>\n",
       "      <th></th>\n",
       "      <th></th>\n",
       "      <th></th>\n",
       "      <th></th>\n",
       "    </tr>\n",
       "  </thead>\n",
       "  <tbody>\n",
       "    <tr>\n",
       "      <th>2013-04-29</th>\n",
       "      <td>Bitcoin</td>\n",
       "      <td>BTC</td>\n",
       "      <td>147.488007</td>\n",
       "      <td>134.000000</td>\n",
       "      <td>134.444000</td>\n",
       "      <td>144.539993</td>\n",
       "      <td>0.0</td>\n",
       "      <td>1.603769e+09</td>\n",
       "    </tr>\n",
       "    <tr>\n",
       "      <th>2013-04-30</th>\n",
       "      <td>Bitcoin</td>\n",
       "      <td>BTC</td>\n",
       "      <td>146.929993</td>\n",
       "      <td>134.050003</td>\n",
       "      <td>144.000000</td>\n",
       "      <td>139.000000</td>\n",
       "      <td>0.0</td>\n",
       "      <td>1.542813e+09</td>\n",
       "    </tr>\n",
       "    <tr>\n",
       "      <th>2013-05-01</th>\n",
       "      <td>Bitcoin</td>\n",
       "      <td>BTC</td>\n",
       "      <td>139.889999</td>\n",
       "      <td>107.720001</td>\n",
       "      <td>139.000000</td>\n",
       "      <td>116.989998</td>\n",
       "      <td>0.0</td>\n",
       "      <td>1.298955e+09</td>\n",
       "    </tr>\n",
       "    <tr>\n",
       "      <th>2013-05-02</th>\n",
       "      <td>Bitcoin</td>\n",
       "      <td>BTC</td>\n",
       "      <td>125.599998</td>\n",
       "      <td>92.281898</td>\n",
       "      <td>116.379997</td>\n",
       "      <td>105.209999</td>\n",
       "      <td>0.0</td>\n",
       "      <td>1.168517e+09</td>\n",
       "    </tr>\n",
       "    <tr>\n",
       "      <th>2013-05-03</th>\n",
       "      <td>Bitcoin</td>\n",
       "      <td>BTC</td>\n",
       "      <td>108.127998</td>\n",
       "      <td>79.099998</td>\n",
       "      <td>106.250000</td>\n",
       "      <td>97.750000</td>\n",
       "      <td>0.0</td>\n",
       "      <td>1.085995e+09</td>\n",
       "    </tr>\n",
       "  </tbody>\n",
       "</table>\n",
       "</div>"
      ],
      "text/plain": [
       "               Name Symbol        High         Low        Open       Close  \\\n",
       "Date                                                                         \n",
       "2013-04-29  Bitcoin    BTC  147.488007  134.000000  134.444000  144.539993   \n",
       "2013-04-30  Bitcoin    BTC  146.929993  134.050003  144.000000  139.000000   \n",
       "2013-05-01  Bitcoin    BTC  139.889999  107.720001  139.000000  116.989998   \n",
       "2013-05-02  Bitcoin    BTC  125.599998   92.281898  116.379997  105.209999   \n",
       "2013-05-03  Bitcoin    BTC  108.127998   79.099998  106.250000   97.750000   \n",
       "\n",
       "            Volume     Marketcap  \n",
       "Date                              \n",
       "2013-04-29     0.0  1.603769e+09  \n",
       "2013-04-30     0.0  1.542813e+09  \n",
       "2013-05-01     0.0  1.298955e+09  \n",
       "2013-05-02     0.0  1.168517e+09  \n",
       "2013-05-03     0.0  1.085995e+09  "
      ]
     },
     "execution_count": 2,
     "metadata": {},
     "output_type": "execute_result"
    }
   ],
   "source": [
    "# We do our initial tests with Bitcoin. We can expand this analysis later\n",
    "coin_df = pd.read_csv('Data/coin_Bitcoin.csv')\n",
    "\n",
    "coin_df.index = pd.to_datetime(coin_df['Date']).dt.date\n",
    "coin_df.index = pd.DatetimeIndex(coin_df.index)\n",
    "\n",
    "# Not useful\n",
    "coin_df.drop('Date', axis=1, inplace=True)\n",
    "coin_df.drop('SNo', axis=1, inplace=True)\n",
    "\n",
    "coin_df.head()"
   ]
  },
  {
   "cell_type": "code",
   "execution_count": 3,
   "id": "third-foster",
   "metadata": {},
   "outputs": [
    {
     "data": {
      "text/html": [
       "<div>\n",
       "<style scoped>\n",
       "    .dataframe tbody tr th:only-of-type {\n",
       "        vertical-align: middle;\n",
       "    }\n",
       "\n",
       "    .dataframe tbody tr th {\n",
       "        vertical-align: top;\n",
       "    }\n",
       "\n",
       "    .dataframe thead th {\n",
       "        text-align: right;\n",
       "    }\n",
       "</style>\n",
       "<table border=\"1\" class=\"dataframe\">\n",
       "  <thead>\n",
       "    <tr style=\"text-align: right;\">\n",
       "      <th></th>\n",
       "      <th>Close</th>\n",
       "      <th>Open</th>\n",
       "      <th>High</th>\n",
       "      <th>Low</th>\n",
       "    </tr>\n",
       "    <tr>\n",
       "      <th>Date</th>\n",
       "      <th></th>\n",
       "      <th></th>\n",
       "      <th></th>\n",
       "      <th></th>\n",
       "    </tr>\n",
       "  </thead>\n",
       "  <tbody>\n",
       "    <tr>\n",
       "      <th>2021-03-29</th>\n",
       "      <td>3974.54</td>\n",
       "      <td>0.00</td>\n",
       "      <td>0.00</td>\n",
       "      <td>0.00</td>\n",
       "    </tr>\n",
       "    <tr>\n",
       "      <th>2021-03-26</th>\n",
       "      <td>3974.54</td>\n",
       "      <td>3917.12</td>\n",
       "      <td>3978.19</td>\n",
       "      <td>3917.12</td>\n",
       "    </tr>\n",
       "    <tr>\n",
       "      <th>2021-03-25</th>\n",
       "      <td>3909.52</td>\n",
       "      <td>3879.34</td>\n",
       "      <td>3919.54</td>\n",
       "      <td>3853.50</td>\n",
       "    </tr>\n",
       "    <tr>\n",
       "      <th>2021-03-24</th>\n",
       "      <td>3889.14</td>\n",
       "      <td>3919.93</td>\n",
       "      <td>3942.08</td>\n",
       "      <td>3889.07</td>\n",
       "    </tr>\n",
       "    <tr>\n",
       "      <th>2021-03-23</th>\n",
       "      <td>3910.52</td>\n",
       "      <td>3937.60</td>\n",
       "      <td>3949.13</td>\n",
       "      <td>3901.57</td>\n",
       "    </tr>\n",
       "  </tbody>\n",
       "</table>\n",
       "</div>"
      ],
      "text/plain": [
       "              Close     Open     High      Low\n",
       "Date                                          \n",
       "2021-03-29  3974.54     0.00     0.00     0.00\n",
       "2021-03-26  3974.54  3917.12  3978.19  3917.12\n",
       "2021-03-25  3909.52  3879.34  3919.54  3853.50\n",
       "2021-03-24  3889.14  3919.93  3942.08  3889.07\n",
       "2021-03-23  3910.52  3937.60  3949.13  3901.57"
      ]
     },
     "execution_count": 3,
     "metadata": {},
     "output_type": "execute_result"
    }
   ],
   "source": [
    "# Next we read in S&P 500 Dataset\n",
    "sp_df = pd.read_csv('index_data/sp_500_historical.csv')\n",
    "new_column_names = {\n",
    "    \"Close/Last\": \"Close\"\n",
    "}\n",
    "sp_df.rename(columns=new_column_names, inplace=True)\n",
    "\n",
    "sp_df.index = pd.to_datetime(sp_df['Date']).dt.date\n",
    "sp_df.index = pd.DatetimeIndex(sp_df.index)\n",
    "\n",
    "sp_df.drop('Date', axis=1, inplace=True)\n",
    "# Drop Volume too. There are no non '--' values for Volume\n",
    "sp_df.drop('Volume', axis=1, inplace=True)\n",
    "\n",
    "sp_df.head()"
   ]
  },
  {
   "cell_type": "code",
   "execution_count": 4,
   "id": "experimental-tiffany",
   "metadata": {},
   "outputs": [
    {
     "data": {
      "text/html": [
       "<div>\n",
       "<style scoped>\n",
       "    .dataframe tbody tr th:only-of-type {\n",
       "        vertical-align: middle;\n",
       "    }\n",
       "\n",
       "    .dataframe tbody tr th {\n",
       "        vertical-align: top;\n",
       "    }\n",
       "\n",
       "    .dataframe thead th {\n",
       "        text-align: right;\n",
       "    }\n",
       "</style>\n",
       "<table border=\"1\" class=\"dataframe\">\n",
       "  <thead>\n",
       "    <tr style=\"text-align: right;\">\n",
       "      <th></th>\n",
       "      <th>Close</th>\n",
       "      <th>Open</th>\n",
       "      <th>High</th>\n",
       "      <th>Low</th>\n",
       "    </tr>\n",
       "    <tr>\n",
       "      <th>Date</th>\n",
       "      <th></th>\n",
       "      <th></th>\n",
       "      <th></th>\n",
       "      <th></th>\n",
       "    </tr>\n",
       "  </thead>\n",
       "  <tbody>\n",
       "    <tr>\n",
       "      <th>2011-03-29</th>\n",
       "      <td>1319.44</td>\n",
       "      <td>1310.19</td>\n",
       "      <td>1319.45</td>\n",
       "      <td>1305.26</td>\n",
       "    </tr>\n",
       "    <tr>\n",
       "      <th>2011-03-30</th>\n",
       "      <td>1328.26</td>\n",
       "      <td>1319.44</td>\n",
       "      <td>1331.74</td>\n",
       "      <td>1321.89</td>\n",
       "    </tr>\n",
       "    <tr>\n",
       "      <th>2011-03-31</th>\n",
       "      <td>1325.83</td>\n",
       "      <td>1328.26</td>\n",
       "      <td>1329.77</td>\n",
       "      <td>1325.03</td>\n",
       "    </tr>\n",
       "    <tr>\n",
       "      <th>2011-04-01</th>\n",
       "      <td>1332.41</td>\n",
       "      <td>1325.83</td>\n",
       "      <td>1337.85</td>\n",
       "      <td>1328.89</td>\n",
       "    </tr>\n",
       "    <tr>\n",
       "      <th>2011-04-04</th>\n",
       "      <td>1332.87</td>\n",
       "      <td>1332.41</td>\n",
       "      <td>1336.74</td>\n",
       "      <td>1329.10</td>\n",
       "    </tr>\n",
       "  </tbody>\n",
       "</table>\n",
       "</div>"
      ],
      "text/plain": [
       "              Close     Open     High      Low\n",
       "Date                                          \n",
       "2011-03-29  1319.44  1310.19  1319.45  1305.26\n",
       "2011-03-30  1328.26  1319.44  1331.74  1321.89\n",
       "2011-03-31  1325.83  1328.26  1329.77  1325.03\n",
       "2011-04-01  1332.41  1325.83  1337.85  1328.89\n",
       "2011-04-04  1332.87  1332.41  1336.74  1329.10"
      ]
     },
     "execution_count": 4,
     "metadata": {},
     "output_type": "execute_result"
    }
   ],
   "source": [
    "# The S&P 500 Dataframe appears to be backwards. Let's reverse it so that it is more in line with out coin set\n",
    "# This probably doesn't matter, but just in case.\n",
    "sp_df = sp_df.reindex(index=sp_df.index[::-1])\n",
    "sp_df.head()"
   ]
  },
  {
   "cell_type": "code",
   "execution_count": 5,
   "id": "phantom-genesis",
   "metadata": {},
   "outputs": [
    {
     "name": "stdout",
     "output_type": "stream",
     "text": [
      "1996\n",
      "1996\n"
     ]
    }
   ],
   "source": [
    "# We now need to preprocess our data some more. We need to make sure that the dates in our dataframes appear in both\n",
    "coin_dates = set(coin_df.index)\n",
    "sp_dates = set(sp_df.index)\n",
    "shared_dates = sp_dates.intersection(coin_dates)\n",
    "\n",
    "for date in sp_dates.difference(shared_dates):\n",
    "    sp_df.drop(date, inplace=True)\n",
    "for date in coin_dates.difference(shared_dates):\n",
    "    coin_df.drop(date, inplace=True)\n",
    "\n",
    "print(len(coin_df))\n",
    "print(len(sp_df))"
   ]
  },
  {
   "cell_type": "code",
   "execution_count": 6,
   "id": "enabling-tennessee",
   "metadata": {},
   "outputs": [],
   "source": [
    "# Now let's make a new dataframe for coin return:\n",
    "coin_return = pd.DataFrame(index=coin_df.index)\n",
    "coin_return['coin_return'] = coin_df['Close'].pct_change()\n",
    "sp_df['return'] = sp_df['Close'].pct_change()\n",
    "\n",
    "# Now the first row will have a NaN value. So we drop it in both sp_df and coin_return\n",
    "coin_return.drop(coin_return.index[0], inplace=True)\n",
    "sp_df_copy = sp_df.drop(coin_return.index[0])\n",
    "\n",
    "# Furthermore, the highs in the S&P 500 dataset are sometimes 0. We should get rid of those dates in both sets of data\n",
    "zero_indeces = []\n",
    "for index in sp_df_copy.index:\n",
    "    if sp_df_copy.loc[index]['High'] == 0:\n",
    "        zero_indeces += [index]\n",
    "\n",
    "sp_df_copy.drop(zero_indeces, inplace=True)\n",
    "coin_return.drop(zero_indeces, inplace=True)\n"
   ]
  },
  {
   "cell_type": "code",
   "execution_count": 7,
   "id": "cultural-least",
   "metadata": {},
   "outputs": [
    {
     "data": {
      "text/plain": [
       "Text(0, 0.5, 'Coin Return Percentage')"
      ]
     },
     "execution_count": 7,
     "metadata": {},
     "output_type": "execute_result"
    },
    {
     "data": {
      "image/png": "[encoded data removed]",
      "text/plain": [
       "<Figure size 864x216 with 2 Axes>"
      ]
     },
     "metadata": {
      "needs_background": "light"
     },
     "output_type": "display_data"
    }
   ],
   "source": [
    "# Now let's do some basic data visualizations\n",
    "fig = plt.figure(figsize=(12, 3))\n",
    "\n",
    "ax1 = fig.add_subplot(1, 2, 1)\n",
    "ax1.plot(sp_df_copy.index, sp_df_copy['return'])\n",
    "ax1.set_title('S&P 500 Return Over Time')\n",
    "ax1.set_xlabel('Date')\n",
    "ax1.set_ylabel('S&P 500 Return Percentage')\n",
    "\n",
    "ax2 = fig.add_subplot(1, 2, 2)\n",
    "ax2.plot(coin_return.index, coin_return['coin_return'])\n",
    "ax2.set_title('Coin Return Over Time')\n",
    "ax2.set_xlabel('Date')\n",
    "ax2.set_ylabel('Coin Return Percentage')"
   ]
  },
  {
   "cell_type": "code",
   "execution_count": 8,
   "id": "severe-yesterday",
   "metadata": {
    "scrolled": false
   },
   "outputs": [
    {
     "data": {
      "image/png": "[encoded data removed]",
      "text/plain": [
       "<Figure size 432x288 with 1 Axes>"
      ]
     },
     "metadata": {
      "needs_background": "light"
     },
     "output_type": "display_data"
    }
   ],
   "source": [
    "# Now let's try S&P 500 High vs Coin Return\n",
    "fig = plt.figure()\n",
    "ax1 = fig.add_subplot(1, 1, 1)\n",
    "ax1.scatter(sp_df_copy['return'], coin_return['coin_return'])\n",
    "ax1.set_title(\"S&P 500 Return vs Coin Return\")\n",
    "ax1.set_xlabel(\"S&P 500 Return Percentage\")\n",
    "ax1.set_ylabel(\"Coin Return Percentage\")\n",
    "plt.show()"
   ]
  },
  {
   "cell_type": "code",
   "execution_count": 9,
   "id": "possible-system",
   "metadata": {},
   "outputs": [],
   "source": [
    "# We want to do a similar analysis as Vix-analysis. Our output is again sentiment\n",
    "# > .2 then very good 0 < < 0.2 then good converse for bad and very bad\n",
    "def get_sentiment(return_val):\n",
    "    if return_val >= 0.2:\n",
    "        return 'very good'\n",
    "    elif return_val > 0 and return_val < 0.2:\n",
    "        return 'good'\n",
    "    elif return_val < 0 and return_val > -0.2:\n",
    "        return 'bad'\n",
    "    elif return_val <= 0.2:\n",
    "        return 'very bad'\n",
    "    else:\n",
    "        return None\n",
    "    \n",
    "coin_sentiment = pd.DataFrame(index=coin_return.index)\n",
    "coin_sentiment['sentiment'] = [get_sentiment(return_val) for return_val in coin_return['coin_return']]"
   ]
  },
  {
   "cell_type": "code",
   "execution_count": 10,
   "id": "daily-spouse",
   "metadata": {},
   "outputs": [
    {
     "data": {
      "image/png": "[encoded data removed]",
      "text/plain": [
       "<Figure size 432x288 with 1 Axes>"
      ]
     },
     "metadata": {
      "needs_background": "light"
     },
     "output_type": "display_data"
    }
   ],
   "source": [
    "# Visualize this new data again\n",
    "fig = plt.figure()\n",
    "ax1 = fig.add_subplot(1, 1, 1)\n",
    "ax1.scatter(sp_df_copy['return'], coin_sentiment['sentiment'])\n",
    "ax1.set_title(\"S&P 500 Return vs Coin Sentiment\")\n",
    "ax1.set_xlabel(\"S&P 500 Return Percentage\")\n",
    "ax1.set_ylabel(\"Coin Sentiment\")\n",
    "plt.show()"
   ]
  },
  {
   "cell_type": "code",
   "execution_count": 11,
   "id": "cheap-drink",
   "metadata": {},
   "outputs": [],
   "source": [
    "# Let's do our data split\n",
    "X_train, X_test, Y_train, Y_test = train_test_split(sp_df_copy['High'], coin_sentiment['sentiment'], test_size=0.2, random_state=0)\n",
    "X_train = np.array(X_train).reshape(-1, 1)\n",
    "X_test = np.array(X_test).reshape(-1, 1)\n"
   ]
  },
  {
   "cell_type": "code",
   "execution_count": 12,
   "id": "informed-evaluation",
   "metadata": {},
   "outputs": [],
   "source": [
    "# An SVM looks to be useful here with the clustered data\n",
    "model = SVC()\n",
    "model.fit(X_train, Y_train)\n",
    "y_pred = model.predict(X_test)"
   ]
  },
  {
   "cell_type": "code",
   "execution_count": 13,
   "id": "becoming-butter",
   "metadata": {},
   "outputs": [
    {
     "data": {
      "text/plain": [
       "0.549367088607595"
      ]
     },
     "execution_count": 13,
     "metadata": {},
     "output_type": "execute_result"
    }
   ],
   "source": [
    "accuracy_score(y_pred, Y_test)"
   ]
  },
  {
   "cell_type": "code",
   "execution_count": 14,
   "id": "deluxe-reconstruction",
   "metadata": {},
   "outputs": [],
   "source": [
    "# LogisticRegression\n",
    "lr = LogisticRegression()\n",
    "lr.fit(X_train, Y_train)\n",
    "y_pred = lr.predict(X_test)"
   ]
  },
  {
   "cell_type": "code",
   "execution_count": 15,
   "id": "freelance-alignment",
   "metadata": {},
   "outputs": [
    {
     "data": {
      "text/plain": [
       "0.5518987341772152"
      ]
     },
     "execution_count": 15,
     "metadata": {},
     "output_type": "execute_result"
    }
   ],
   "source": [
    "accuracy_score(y_pred, Y_test)"
   ]
  },
  {
   "cell_type": "code",
   "execution_count": 24,
   "id": "mobile-panel",
   "metadata": {},
   "outputs": [
    {
     "data": {
      "text/plain": [
       "0.4481012658227848"
      ]
     },
     "execution_count": 24,
     "metadata": {},
     "output_type": "execute_result"
    }
   ],
   "source": [
    "from sklearn.metrics import mean_squared_error\n",
    "le = LabelEncoder() # Use the label encoder to transform our classes into numerical values\n",
    "le.fit(Y_test)\n",
    "mean_squared_error(le.transform(y_pred), le.transform(Y_test))"
   ]
  }
 ],
 "metadata": {
  "kernelspec": {
   "display_name": "Python 3",
   "language": "python",
   "name": "python3"
  },
  "language_info": {
   "codemirror_mode": {
    "name": "ipython",
    "version": 3
   },
   "file_extension": ".py",
   "mimetype": "text/x-python",
   "name": "python",
   "nbconvert_exporter": "python",
   "pygments_lexer": "ipython3",
   "version": "3.8.5"
  }
 },
 "nbformat": 4,
 "nbformat_minor": 5
}
