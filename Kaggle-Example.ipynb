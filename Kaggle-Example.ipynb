{
 "cells": [
  {
   "cell_type": "code",
   "execution_count": 1,
   "id": "married-snowboard",
   "metadata": {},
   "outputs": [],
   "source": [
    "# Based on https://www.kaggle.com/siebenrock/financial-exploration-analysis-and-visualization\n",
    "import numpy as np\n",
    "import pandas as pd\n",
    "import matplotlib.pyplot as plt\n",
    "# from matplotlib.finance import candlestick2_ohlc\n",
    "# from mplfinance import candlestick_ohlc\n",
    "# import seaborn as sns\n",
    "from datetime import datetime"
   ]
  },
  {
   "cell_type": "code",
   "execution_count": 2,
   "id": "strange-coupon",
   "metadata": {},
   "outputs": [
    {
     "name": "stdout",
     "output_type": "stream",
     "text": [
      "<class 'pandas.core.frame.DataFrame'>\n",
      "DatetimeIndex: 2862 entries, 2013-04-29 to 2021-02-27\n",
      "Data columns (total 8 columns):\n",
      " #   Column     Non-Null Count  Dtype  \n",
      "---  ------     --------------  -----  \n",
      " 0   Name       2862 non-null   object \n",
      " 1   Symbol     2862 non-null   object \n",
      " 2   High       2862 non-null   float64\n",
      " 3   Low        2862 non-null   float64\n",
      " 4   Open       2862 non-null   float64\n",
      " 5   Close      2862 non-null   float64\n",
      " 6   Volume     2862 non-null   float64\n",
      " 7   Marketcap  2862 non-null   float64\n",
      "dtypes: float64(6), object(2)\n",
      "memory usage: 201.2+ KB\n"
     ]
    }
   ],
   "source": [
    "coins = {\n",
    "    \"BTC\": \"Bitcoin\"\n",
    "}\n",
    "\n",
    "coin_df = pd.read_csv(f'Data/coin_{coins[\"BTC\"]}.csv')\n",
    "coin_df.index = pd.to_datetime(coin_df['Date']).dt.date\n",
    "coin_df.index = pd.DatetimeIndex(coin_df.index)\n",
    "# coin_df['Date'] = pd.to_datetime(coin_df['Date'])\n",
    "coin_df.drop('Date', axis=1, inplace=True)\n",
    "coin_df.drop('SNo', axis=1, inplace=True)\n",
    "\n",
    "coin_df.info()"
   ]
  },
  {
   "cell_type": "code",
   "execution_count": 3,
   "id": "expanded-finding",
   "metadata": {},
   "outputs": [
    {
     "name": "stdout",
     "output_type": "stream",
     "text": [
      "BTC 2013-04-29 00:00:00\n",
      "BTC 2021-02-27 00:00:00\n"
     ]
    }
   ],
   "source": [
    "print(\"BTC\", coin_df.index[0])  # Print date of oldest data we have\n",
    "print(\"BTC\", coin_df.index[-1]) # Print date of most recent data we have"
   ]
  },
  {
   "cell_type": "code",
   "execution_count": 4,
   "id": "laughing-source",
   "metadata": {
    "scrolled": true
   },
   "outputs": [
    {
     "data": {
      "text/html": [
       "<div>\n",
       "<style scoped>\n",
       "    .dataframe tbody tr th:only-of-type {\n",
       "        vertical-align: middle;\n",
       "    }\n",
       "\n",
       "    .dataframe tbody tr th {\n",
       "        vertical-align: top;\n",
       "    }\n",
       "\n",
       "    .dataframe thead th {\n",
       "        text-align: right;\n",
       "    }\n",
       "</style>\n",
       "<table border=\"1\" class=\"dataframe\">\n",
       "  <thead>\n",
       "    <tr style=\"text-align: right;\">\n",
       "      <th></th>\n",
       "      <th>Name</th>\n",
       "      <th>Symbol</th>\n",
       "      <th>High</th>\n",
       "      <th>Low</th>\n",
       "      <th>Open</th>\n",
       "      <th>Close</th>\n",
       "      <th>Volume</th>\n",
       "      <th>Marketcap</th>\n",
       "    </tr>\n",
       "    <tr>\n",
       "      <th>Date</th>\n",
       "      <th></th>\n",
       "      <th></th>\n",
       "      <th></th>\n",
       "      <th></th>\n",
       "      <th></th>\n",
       "      <th></th>\n",
       "      <th></th>\n",
       "      <th></th>\n",
       "    </tr>\n",
       "  </thead>\n",
       "  <tbody>\n",
       "    <tr>\n",
       "      <th>2013-04-29</th>\n",
       "      <td>Bitcoin</td>\n",
       "      <td>BTC</td>\n",
       "      <td>147.488007</td>\n",
       "      <td>134.000000</td>\n",
       "      <td>134.444000</td>\n",
       "      <td>144.539993</td>\n",
       "      <td>0.0</td>\n",
       "      <td>1.603769e+09</td>\n",
       "    </tr>\n",
       "    <tr>\n",
       "      <th>2013-04-30</th>\n",
       "      <td>Bitcoin</td>\n",
       "      <td>BTC</td>\n",
       "      <td>146.929993</td>\n",
       "      <td>134.050003</td>\n",
       "      <td>144.000000</td>\n",
       "      <td>139.000000</td>\n",
       "      <td>0.0</td>\n",
       "      <td>1.542813e+09</td>\n",
       "    </tr>\n",
       "    <tr>\n",
       "      <th>2013-05-01</th>\n",
       "      <td>Bitcoin</td>\n",
       "      <td>BTC</td>\n",
       "      <td>139.889999</td>\n",
       "      <td>107.720001</td>\n",
       "      <td>139.000000</td>\n",
       "      <td>116.989998</td>\n",
       "      <td>0.0</td>\n",
       "      <td>1.298955e+09</td>\n",
       "    </tr>\n",
       "    <tr>\n",
       "      <th>2013-05-02</th>\n",
       "      <td>Bitcoin</td>\n",
       "      <td>BTC</td>\n",
       "      <td>125.599998</td>\n",
       "      <td>92.281898</td>\n",
       "      <td>116.379997</td>\n",
       "      <td>105.209999</td>\n",
       "      <td>0.0</td>\n",
       "      <td>1.168517e+09</td>\n",
       "    </tr>\n",
       "    <tr>\n",
       "      <th>2013-05-03</th>\n",
       "      <td>Bitcoin</td>\n",
       "      <td>BTC</td>\n",
       "      <td>108.127998</td>\n",
       "      <td>79.099998</td>\n",
       "      <td>106.250000</td>\n",
       "      <td>97.750000</td>\n",
       "      <td>0.0</td>\n",
       "      <td>1.085995e+09</td>\n",
       "    </tr>\n",
       "  </tbody>\n",
       "</table>\n",
       "</div>"
      ],
      "text/plain": [
       "               Name Symbol        High         Low        Open       Close  \\\n",
       "Date                                                                         \n",
       "2013-04-29  Bitcoin    BTC  147.488007  134.000000  134.444000  144.539993   \n",
       "2013-04-30  Bitcoin    BTC  146.929993  134.050003  144.000000  139.000000   \n",
       "2013-05-01  Bitcoin    BTC  139.889999  107.720001  139.000000  116.989998   \n",
       "2013-05-02  Bitcoin    BTC  125.599998   92.281898  116.379997  105.209999   \n",
       "2013-05-03  Bitcoin    BTC  108.127998   79.099998  106.250000   97.750000   \n",
       "\n",
       "            Volume     Marketcap  \n",
       "Date                              \n",
       "2013-04-29     0.0  1.603769e+09  \n",
       "2013-04-30     0.0  1.542813e+09  \n",
       "2013-05-01     0.0  1.298955e+09  \n",
       "2013-05-02     0.0  1.168517e+09  \n",
       "2013-05-03     0.0  1.085995e+09  "
      ]
     },
     "execution_count": 4,
     "metadata": {},
     "output_type": "execute_result"
    }
   ],
   "source": [
    "coin_df.head()"
   ]
  },
  {
   "cell_type": "code",
   "execution_count": 5,
   "id": "black-agreement",
   "metadata": {},
   "outputs": [
    {
     "data": {
      "text/html": [
       "<div>\n",
       "<style scoped>\n",
       "    .dataframe tbody tr th:only-of-type {\n",
       "        vertical-align: middle;\n",
       "    }\n",
       "\n",
       "    .dataframe tbody tr th {\n",
       "        vertical-align: top;\n",
       "    }\n",
       "\n",
       "    .dataframe thead th {\n",
       "        text-align: right;\n",
       "    }\n",
       "</style>\n",
       "<table border=\"1\" class=\"dataframe\">\n",
       "  <thead>\n",
       "    <tr style=\"text-align: right;\">\n",
       "      <th></th>\n",
       "      <th>Name</th>\n",
       "      <th>Symbol</th>\n",
       "      <th>High</th>\n",
       "      <th>Low</th>\n",
       "      <th>Open</th>\n",
       "      <th>Close</th>\n",
       "      <th>Volume</th>\n",
       "      <th>Marketcap</th>\n",
       "    </tr>\n",
       "    <tr>\n",
       "      <th>Date</th>\n",
       "      <th></th>\n",
       "      <th></th>\n",
       "      <th></th>\n",
       "      <th></th>\n",
       "      <th></th>\n",
       "      <th></th>\n",
       "      <th></th>\n",
       "      <th></th>\n",
       "    </tr>\n",
       "  </thead>\n",
       "  <tbody>\n",
       "    <tr>\n",
       "      <th>2021-02-23</th>\n",
       "      <td>Bitcoin</td>\n",
       "      <td>BTC</td>\n",
       "      <td>54204.929756</td>\n",
       "      <td>45290.590268</td>\n",
       "      <td>54204.929756</td>\n",
       "      <td>48824.426869</td>\n",
       "      <td>1.061025e+11</td>\n",
       "      <td>9.099259e+11</td>\n",
       "    </tr>\n",
       "    <tr>\n",
       "      <th>2021-02-24</th>\n",
       "      <td>Bitcoin</td>\n",
       "      <td>BTC</td>\n",
       "      <td>51290.136695</td>\n",
       "      <td>47213.498162</td>\n",
       "      <td>48835.087661</td>\n",
       "      <td>49705.333316</td>\n",
       "      <td>6.369552e+10</td>\n",
       "      <td>9.263931e+11</td>\n",
       "    </tr>\n",
       "    <tr>\n",
       "      <th>2021-02-25</th>\n",
       "      <td>Bitcoin</td>\n",
       "      <td>BTC</td>\n",
       "      <td>51948.966982</td>\n",
       "      <td>47093.853019</td>\n",
       "      <td>49709.082425</td>\n",
       "      <td>47093.853019</td>\n",
       "      <td>5.450657e+10</td>\n",
       "      <td>8.777661e+11</td>\n",
       "    </tr>\n",
       "    <tr>\n",
       "      <th>2021-02-26</th>\n",
       "      <td>Bitcoin</td>\n",
       "      <td>BTC</td>\n",
       "      <td>48370.785260</td>\n",
       "      <td>44454.842114</td>\n",
       "      <td>47180.464054</td>\n",
       "      <td>46339.760083</td>\n",
       "      <td>3.509679e+11</td>\n",
       "      <td>8.637523e+11</td>\n",
       "    </tr>\n",
       "    <tr>\n",
       "      <th>2021-02-27</th>\n",
       "      <td>Bitcoin</td>\n",
       "      <td>BTC</td>\n",
       "      <td>48253.270101</td>\n",
       "      <td>45269.025766</td>\n",
       "      <td>46344.772237</td>\n",
       "      <td>46188.451275</td>\n",
       "      <td>4.591095e+10</td>\n",
       "      <td>8.609781e+11</td>\n",
       "    </tr>\n",
       "  </tbody>\n",
       "</table>\n",
       "</div>"
      ],
      "text/plain": [
       "               Name Symbol          High           Low          Open  \\\n",
       "Date                                                                   \n",
       "2021-02-23  Bitcoin    BTC  54204.929756  45290.590268  54204.929756   \n",
       "2021-02-24  Bitcoin    BTC  51290.136695  47213.498162  48835.087661   \n",
       "2021-02-25  Bitcoin    BTC  51948.966982  47093.853019  49709.082425   \n",
       "2021-02-26  Bitcoin    BTC  48370.785260  44454.842114  47180.464054   \n",
       "2021-02-27  Bitcoin    BTC  48253.270101  45269.025766  46344.772237   \n",
       "\n",
       "                   Close        Volume     Marketcap  \n",
       "Date                                                  \n",
       "2021-02-23  48824.426869  1.061025e+11  9.099259e+11  \n",
       "2021-02-24  49705.333316  6.369552e+10  9.263931e+11  \n",
       "2021-02-25  47093.853019  5.450657e+10  8.777661e+11  \n",
       "2021-02-26  46339.760083  3.509679e+11  8.637523e+11  \n",
       "2021-02-27  46188.451275  4.591095e+10  8.609781e+11  "
      ]
     },
     "execution_count": 5,
     "metadata": {},
     "output_type": "execute_result"
    }
   ],
   "source": [
    "coin_df.tail()"
   ]
  },
  {
   "cell_type": "code",
   "execution_count": 6,
   "id": "executive-serbia",
   "metadata": {},
   "outputs": [
    {
     "name": "stdout",
     "output_type": "stream",
     "text": [
      "Highest Price: 58330.57214185\n",
      "Lowest Price: 65.5260009765625\n"
     ]
    }
   ],
   "source": [
    "highest = coin_df.xs(key='High', axis=1).max()\n",
    "print(\"Highest Price:\", highest)\n",
    "lowest = coin_df.xs(key='Low', axis=1).min()\n",
    "print(\"Lowest Price:\", lowest)"
   ]
  },
  {
   "cell_type": "code",
   "execution_count": 7,
   "id": "least-blink",
   "metadata": {},
   "outputs": [],
   "source": [
    "returns = pd.DataFrame(index=coin_df.index)\n",
    "returns['btc_return'] = coin_df['Close'].pct_change()"
   ]
  },
  {
   "cell_type": "code",
   "execution_count": 8,
   "id": "presidential-lafayette",
   "metadata": {},
   "outputs": [
    {
     "data": {
      "text/plain": [
       "btc_return   NaN\n",
       "Name: 2013-04-29 00:00:00, dtype: float64"
      ]
     },
     "execution_count": 8,
     "metadata": {},
     "output_type": "execute_result"
    }
   ],
   "source": [
    "# returns.index[0]\n",
    "returns.loc['2013-04-29']"
   ]
  },
  {
   "cell_type": "code",
   "execution_count": 9,
   "id": "cooked-caribbean",
   "metadata": {},
   "outputs": [
    {
     "data": {
      "image/png": "[encoded data removed]",
      "text/plain": [
       "<Figure size 432x288 with 1 Axes>"
      ]
     },
     "metadata": {
      "needs_background": "light"
     },
     "output_type": "display_data"
    }
   ],
   "source": [
    "X = returns.index\n",
    "Y = returns['btc_return']\n",
    "plt.scatter(X, Y)\n",
    "plt.tight_layout()\n",
    "plt.grid()\n",
    "plt.show()"
   ]
  },
  {
   "cell_type": "code",
   "execution_count": 10,
   "id": "expressed-champion",
   "metadata": {},
   "outputs": [
    {
     "data": {
      "text/html": [
       "<div>\n",
       "<style scoped>\n",
       "    .dataframe tbody tr th:only-of-type {\n",
       "        vertical-align: middle;\n",
       "    }\n",
       "\n",
       "    .dataframe tbody tr th {\n",
       "        vertical-align: top;\n",
       "    }\n",
       "\n",
       "    .dataframe thead th {\n",
       "        text-align: right;\n",
       "    }\n",
       "</style>\n",
       "<table border=\"1\" class=\"dataframe\">\n",
       "  <thead>\n",
       "    <tr style=\"text-align: right;\">\n",
       "      <th></th>\n",
       "      <th>Open</th>\n",
       "      <th>btc_return</th>\n",
       "    </tr>\n",
       "    <tr>\n",
       "      <th>Date</th>\n",
       "      <th></th>\n",
       "      <th></th>\n",
       "    </tr>\n",
       "  </thead>\n",
       "  <tbody>\n",
       "    <tr>\n",
       "      <th>2013-04-29</th>\n",
       "      <td>134.444000</td>\n",
       "      <td>NaN</td>\n",
       "    </tr>\n",
       "    <tr>\n",
       "      <th>2013-04-30</th>\n",
       "      <td>144.000000</td>\n",
       "      <td>-0.038328</td>\n",
       "    </tr>\n",
       "    <tr>\n",
       "      <th>2013-05-01</th>\n",
       "      <td>139.000000</td>\n",
       "      <td>-0.158345</td>\n",
       "    </tr>\n",
       "    <tr>\n",
       "      <th>2013-05-02</th>\n",
       "      <td>116.379997</td>\n",
       "      <td>-0.100692</td>\n",
       "    </tr>\n",
       "    <tr>\n",
       "      <th>2013-05-03</th>\n",
       "      <td>106.250000</td>\n",
       "      <td>-0.070906</td>\n",
       "    </tr>\n",
       "  </tbody>\n",
       "</table>\n",
       "</div>"
      ],
      "text/plain": [
       "                  Open  btc_return\n",
       "Date                              \n",
       "2013-04-29  134.444000         NaN\n",
       "2013-04-30  144.000000   -0.038328\n",
       "2013-05-01  139.000000   -0.158345\n",
       "2013-05-02  116.379997   -0.100692\n",
       "2013-05-03  106.250000   -0.070906"
      ]
     },
     "execution_count": 10,
     "metadata": {},
     "output_type": "execute_result"
    }
   ],
   "source": [
    "test = pd.DataFrame(index=coin_df.index)\n",
    "test['Open'] = coin_df['Open']\n",
    "test['btc_return'] = returns['btc_return']\n",
    "test.head()"
   ]
  },
  {
   "cell_type": "code",
   "execution_count": 11,
   "id": "sharp-terry",
   "metadata": {},
   "outputs": [
    {
     "data": {
      "image/png": "[encoded data removed]",
      "text/plain": [
       "<Figure size 432x288 with 1 Axes>"
      ]
     },
     "metadata": {
      "needs_background": "light"
     },
     "output_type": "display_data"
    }
   ],
   "source": [
    "plt.scatter(test['Open'], test['btc_return'])\n",
    "plt.tight_layout()\n",
    "plt.show()"
   ]
  }
 ],
 "metadata": {
  "kernelspec": {
   "display_name": "Python 3",
   "language": "python",
   "name": "python3"
  },
  "language_info": {
   "codemirror_mode": {
    "name": "ipython",
    "version": 3
   },
   "file_extension": ".py",
   "mimetype": "text/x-python",
   "name": "python",
   "nbconvert_exporter": "python",
   "pygments_lexer": "ipython3",
   "version": "3.8.5"
  }
 },
 "nbformat": 4,
 "nbformat_minor": 5
}
