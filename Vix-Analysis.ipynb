{
 "cells": [
  {
   "cell_type": "code",
   "execution_count": 1,
   "id": "saving-million",
   "metadata": {},
   "outputs": [],
   "source": [
    "# Here we look at the Vix data set: A market index that tracks volatility in the market\n",
    "# From what I infer, high Vix prices indicate high volatility in the marketplace\n",
    "import numpy as np\n",
    "import pandas as pd\n",
    "import matplotlib.pyplot as plt\n",
    "\n",
    "from datetime import datetime\n",
    "from sklearn.linear_model import LogisticRegression\n",
    "from sklearn.metrics import accuracy_score\n",
    "from sklearn.model_selection import train_test_split\n",
    "from sklearn.preprocessing import StandardScaler, LabelEncoder"
   ]
  },
  {
   "cell_type": "code",
   "execution_count": 2,
   "id": "vital-curtis",
   "metadata": {},
   "outputs": [
    {
     "data": {
      "text/html": [
       "<div>\n",
       "<style scoped>\n",
       "    .dataframe tbody tr th:only-of-type {\n",
       "        vertical-align: middle;\n",
       "    }\n",
       "\n",
       "    .dataframe tbody tr th {\n",
       "        vertical-align: top;\n",
       "    }\n",
       "\n",
       "    .dataframe thead th {\n",
       "        text-align: right;\n",
       "    }\n",
       "</style>\n",
       "<table border=\"1\" class=\"dataframe\">\n",
       "  <thead>\n",
       "    <tr style=\"text-align: right;\">\n",
       "      <th></th>\n",
       "      <th>Name</th>\n",
       "      <th>Symbol</th>\n",
       "      <th>High</th>\n",
       "      <th>Low</th>\n",
       "      <th>Open</th>\n",
       "      <th>Close</th>\n",
       "      <th>Volume</th>\n",
       "      <th>Marketcap</th>\n",
       "    </tr>\n",
       "    <tr>\n",
       "      <th>Date</th>\n",
       "      <th></th>\n",
       "      <th></th>\n",
       "      <th></th>\n",
       "      <th></th>\n",
       "      <th></th>\n",
       "      <th></th>\n",
       "      <th></th>\n",
       "      <th></th>\n",
       "    </tr>\n",
       "  </thead>\n",
       "  <tbody>\n",
       "    <tr>\n",
       "      <th>2013-04-29</th>\n",
       "      <td>Bitcoin</td>\n",
       "      <td>BTC</td>\n",
       "      <td>147.488007</td>\n",
       "      <td>134.000000</td>\n",
       "      <td>134.444000</td>\n",
       "      <td>144.539993</td>\n",
       "      <td>0.0</td>\n",
       "      <td>1.603769e+09</td>\n",
       "    </tr>\n",
       "    <tr>\n",
       "      <th>2013-04-30</th>\n",
       "      <td>Bitcoin</td>\n",
       "      <td>BTC</td>\n",
       "      <td>146.929993</td>\n",
       "      <td>134.050003</td>\n",
       "      <td>144.000000</td>\n",
       "      <td>139.000000</td>\n",
       "      <td>0.0</td>\n",
       "      <td>1.542813e+09</td>\n",
       "    </tr>\n",
       "    <tr>\n",
       "      <th>2013-05-01</th>\n",
       "      <td>Bitcoin</td>\n",
       "      <td>BTC</td>\n",
       "      <td>139.889999</td>\n",
       "      <td>107.720001</td>\n",
       "      <td>139.000000</td>\n",
       "      <td>116.989998</td>\n",
       "      <td>0.0</td>\n",
       "      <td>1.298955e+09</td>\n",
       "    </tr>\n",
       "    <tr>\n",
       "      <th>2013-05-02</th>\n",
       "      <td>Bitcoin</td>\n",
       "      <td>BTC</td>\n",
       "      <td>125.599998</td>\n",
       "      <td>92.281898</td>\n",
       "      <td>116.379997</td>\n",
       "      <td>105.209999</td>\n",
       "      <td>0.0</td>\n",
       "      <td>1.168517e+09</td>\n",
       "    </tr>\n",
       "    <tr>\n",
       "      <th>2013-05-03</th>\n",
       "      <td>Bitcoin</td>\n",
       "      <td>BTC</td>\n",
       "      <td>108.127998</td>\n",
       "      <td>79.099998</td>\n",
       "      <td>106.250000</td>\n",
       "      <td>97.750000</td>\n",
       "      <td>0.0</td>\n",
       "      <td>1.085995e+09</td>\n",
       "    </tr>\n",
       "  </tbody>\n",
       "</table>\n",
       "</div>"
      ],
      "text/plain": [
       "               Name Symbol        High         Low        Open       Close  \\\n",
       "Date                                                                         \n",
       "2013-04-29  Bitcoin    BTC  147.488007  134.000000  134.444000  144.539993   \n",
       "2013-04-30  Bitcoin    BTC  146.929993  134.050003  144.000000  139.000000   \n",
       "2013-05-01  Bitcoin    BTC  139.889999  107.720001  139.000000  116.989998   \n",
       "2013-05-02  Bitcoin    BTC  125.599998   92.281898  116.379997  105.209999   \n",
       "2013-05-03  Bitcoin    BTC  108.127998   79.099998  106.250000   97.750000   \n",
       "\n",
       "            Volume     Marketcap  \n",
       "Date                              \n",
       "2013-04-29     0.0  1.603769e+09  \n",
       "2013-04-30     0.0  1.542813e+09  \n",
       "2013-05-01     0.0  1.298955e+09  \n",
       "2013-05-02     0.0  1.168517e+09  \n",
       "2013-05-03     0.0  1.085995e+09  "
      ]
     },
     "execution_count": 2,
     "metadata": {},
     "output_type": "execute_result"
    }
   ],
   "source": [
    "# We do our initial tests with Bitcoin. We can expand this analysis later\n",
    "\n",
    "coin_df = pd.read_csv('Data/coin_Bitcoin.csv')\n",
    "\n",
    "coin_df.index = pd.to_datetime(coin_df['Date']).dt.date\n",
    "coin_df.index = pd.DatetimeIndex(coin_df.index)\n",
    "\n",
    "# Not useful\n",
    "coin_df.drop('Date', axis=1, inplace=True)\n",
    "coin_df.drop('SNo', axis=1, inplace=True)\n",
    "\n",
    "coin_df.head()"
   ]
  },
  {
   "cell_type": "code",
   "execution_count": 3,
   "id": "everyday-indian",
   "metadata": {},
   "outputs": [
    {
     "data": {
      "text/html": [
       "<div>\n",
       "<style scoped>\n",
       "    .dataframe tbody tr th:only-of-type {\n",
       "        vertical-align: middle;\n",
       "    }\n",
       "\n",
       "    .dataframe tbody tr th {\n",
       "        vertical-align: top;\n",
       "    }\n",
       "\n",
       "    .dataframe thead th {\n",
       "        text-align: right;\n",
       "    }\n",
       "</style>\n",
       "<table border=\"1\" class=\"dataframe\">\n",
       "  <thead>\n",
       "    <tr style=\"text-align: right;\">\n",
       "      <th></th>\n",
       "      <th>Open</th>\n",
       "      <th>High</th>\n",
       "      <th>Low</th>\n",
       "      <th>Close</th>\n",
       "    </tr>\n",
       "    <tr>\n",
       "      <th>Date</th>\n",
       "      <th></th>\n",
       "      <th></th>\n",
       "      <th></th>\n",
       "      <th></th>\n",
       "    </tr>\n",
       "  </thead>\n",
       "  <tbody>\n",
       "    <tr>\n",
       "      <th>1990-01-02</th>\n",
       "      <td>17.24</td>\n",
       "      <td>17.24</td>\n",
       "      <td>17.24</td>\n",
       "      <td>17.24</td>\n",
       "    </tr>\n",
       "    <tr>\n",
       "      <th>1990-01-03</th>\n",
       "      <td>18.19</td>\n",
       "      <td>18.19</td>\n",
       "      <td>18.19</td>\n",
       "      <td>18.19</td>\n",
       "    </tr>\n",
       "    <tr>\n",
       "      <th>1990-01-04</th>\n",
       "      <td>19.22</td>\n",
       "      <td>19.22</td>\n",
       "      <td>19.22</td>\n",
       "      <td>19.22</td>\n",
       "    </tr>\n",
       "    <tr>\n",
       "      <th>1990-01-05</th>\n",
       "      <td>20.11</td>\n",
       "      <td>20.11</td>\n",
       "      <td>20.11</td>\n",
       "      <td>20.11</td>\n",
       "    </tr>\n",
       "    <tr>\n",
       "      <th>1990-01-08</th>\n",
       "      <td>20.26</td>\n",
       "      <td>20.26</td>\n",
       "      <td>20.26</td>\n",
       "      <td>20.26</td>\n",
       "    </tr>\n",
       "  </tbody>\n",
       "</table>\n",
       "</div>"
      ],
      "text/plain": [
       "             Open   High    Low  Close\n",
       "Date                                  \n",
       "1990-01-02  17.24  17.24  17.24  17.24\n",
       "1990-01-03  18.19  18.19  18.19  18.19\n",
       "1990-01-04  19.22  19.22  19.22  19.22\n",
       "1990-01-05  20.11  20.11  20.11  20.11\n",
       "1990-01-08  20.26  20.26  20.26  20.26"
      ]
     },
     "execution_count": 3,
     "metadata": {},
     "output_type": "execute_result"
    }
   ],
   "source": [
    "# Next we read in the Vix dataset\n",
    "\n",
    "new_column_names = {\n",
    "    'DATE': 'Date',\n",
    "    'OPEN': 'Open',\n",
    "    'HIGH': 'High',\n",
    "    'LOW': 'Low',\n",
    "    'CLOSE': 'Close'\n",
    "}\n",
    "\n",
    "vix_df = pd.read_csv('index_data/VIX_History.csv')\n",
    "\n",
    "vix_df.rename(columns=new_column_names, inplace=True)\n",
    "\n",
    "vix_df.index = pd.to_datetime(vix_df['Date']).dt.date\n",
    "vix_df.index = pd.DatetimeIndex(vix_df.index)\n",
    "\n",
    "vix_df.drop('Date', axis=1, inplace=True)\n",
    "\n",
    "vix_df.head()"
   ]
  },
  {
   "cell_type": "code",
   "execution_count": 4,
   "id": "experimental-franklin",
   "metadata": {},
   "outputs": [
    {
     "name": "stdout",
     "output_type": "stream",
     "text": [
      "Oldest date for Coin DF: 2013-04-29 00:00:00\n",
      "Most recent date for Coin DF: 2021-02-27 00:00:00\n",
      "\n",
      "Oldest date for Vix DF: 1990-01-02 00:00:00\n",
      "Most recent date for Vix DF: 2021-03-26 00:00:00\n",
      "\n",
      "Oldest date shared: 2013-04-29 00:00:00\n",
      "Most recent date shared: 2021-02-27 00:00:00\n"
     ]
    }
   ],
   "source": [
    "# Clearly, we can see we have data in Vix we will not need (since Bitcoin did not exist in 1990)\n",
    "# Similarly, we should restrict both datasets to the time range they share\n",
    "oldest_coin_date = coin_df.index.min()\n",
    "oldest_vix_date = vix_df.index.min()\n",
    "newest_coin_date  = coin_df.index.max()\n",
    "newest_vix_date = vix_df.index.max()\n",
    "print(\"Oldest date for Coin DF:\", oldest_coin_date)\n",
    "print(\"Most recent date for Coin DF:\", newest_coin_date)\n",
    "print()\n",
    "print(\"Oldest date for Vix DF:\", oldest_vix_date)\n",
    "print(\"Most recent date for Vix DF:\", newest_vix_date)\n",
    "\n",
    "oldest_shared = max(oldest_coin_date, oldest_vix_date)\n",
    "newest_shared = min(newest_coin_date, newest_vix_date)\n",
    "\n",
    "print()\n",
    "print(\"Oldest date shared:\", oldest_shared)\n",
    "print(\"Most recent date shared:\", newest_shared)"
   ]
  },
  {
   "cell_type": "code",
   "execution_count": 5,
   "id": "expired-stanford",
   "metadata": {},
   "outputs": [],
   "source": [
    "vix_df = vix_df.loc[oldest_shared:newest_shared]\n",
    "coin_df = coin_df.loc[oldest_shared:newest_shared]"
   ]
  },
  {
   "cell_type": "code",
   "execution_count": 6,
   "id": "finite-equipment",
   "metadata": {},
   "outputs": [],
   "source": [
    "# Now we have our data ready to go. \n",
    "# Let's take a subset of coin_df and calculate the \"return\" of each day\n",
    "coin_return = pd.DataFrame(index=coin_df.index)\n",
    "coin_return['coin_return'] = coin_df['Close'].pct_change()\n",
    "\n",
    "vix_df_copy = vix_df.copy()\n",
    "# Then drop the first row of both coin_return and vix_df_copy to get rid of NaN and preserve length\n",
    "vix_df_copy.drop(vix_df.index[0], inplace=True)\n",
    "coin_return.drop(coin_return.index[0], inplace=True)\n",
    "\n",
    "# Then we need to drop the rows for dates not in both data sets\n",
    "coin_dates = set(coin_return.index)\n",
    "vix_dates = set(vix_df_copy.index)\n",
    "\n",
    "for date in vix_dates.difference(coin_dates):\n",
    "    vix_df_copy.drop(date, inplace=True)\n",
    "for date in coin_dates.difference(vix_dates):\n",
    "    coin_return.drop(date, inplace=True)"
   ]
  },
  {
   "cell_type": "code",
   "execution_count": 7,
   "id": "monetary-facility",
   "metadata": {},
   "outputs": [
    {
     "data": {
      "text/html": [
       "<div>\n",
       "<style scoped>\n",
       "    .dataframe tbody tr th:only-of-type {\n",
       "        vertical-align: middle;\n",
       "    }\n",
       "\n",
       "    .dataframe tbody tr th {\n",
       "        vertical-align: top;\n",
       "    }\n",
       "\n",
       "    .dataframe thead th {\n",
       "        text-align: right;\n",
       "    }\n",
       "</style>\n",
       "<table border=\"1\" class=\"dataframe\">\n",
       "  <thead>\n",
       "    <tr style=\"text-align: right;\">\n",
       "      <th></th>\n",
       "      <th>Open</th>\n",
       "      <th>High</th>\n",
       "      <th>Low</th>\n",
       "      <th>Close</th>\n",
       "    </tr>\n",
       "    <tr>\n",
       "      <th>Date</th>\n",
       "      <th></th>\n",
       "      <th></th>\n",
       "      <th></th>\n",
       "      <th></th>\n",
       "    </tr>\n",
       "  </thead>\n",
       "  <tbody>\n",
       "    <tr>\n",
       "      <th>2013-04-30</th>\n",
       "      <td>13.71</td>\n",
       "      <td>14.28</td>\n",
       "      <td>13.51</td>\n",
       "      <td>13.52</td>\n",
       "    </tr>\n",
       "    <tr>\n",
       "      <th>2013-05-01</th>\n",
       "      <td>13.88</td>\n",
       "      <td>14.67</td>\n",
       "      <td>13.87</td>\n",
       "      <td>14.49</td>\n",
       "    </tr>\n",
       "    <tr>\n",
       "      <th>2013-05-02</th>\n",
       "      <td>14.48</td>\n",
       "      <td>14.48</td>\n",
       "      <td>13.58</td>\n",
       "      <td>13.59</td>\n",
       "    </tr>\n",
       "    <tr>\n",
       "      <th>2013-05-03</th>\n",
       "      <td>12.92</td>\n",
       "      <td>13.15</td>\n",
       "      <td>12.77</td>\n",
       "      <td>12.85</td>\n",
       "    </tr>\n",
       "    <tr>\n",
       "      <th>2013-05-06</th>\n",
       "      <td>13.06</td>\n",
       "      <td>13.19</td>\n",
       "      <td>12.66</td>\n",
       "      <td>12.66</td>\n",
       "    </tr>\n",
       "  </tbody>\n",
       "</table>\n",
       "</div>"
      ],
      "text/plain": [
       "             Open   High    Low  Close\n",
       "Date                                  \n",
       "2013-04-30  13.71  14.28  13.51  13.52\n",
       "2013-05-01  13.88  14.67  13.87  14.49\n",
       "2013-05-02  14.48  14.48  13.58  13.59\n",
       "2013-05-03  12.92  13.15  12.77  12.85\n",
       "2013-05-06  13.06  13.19  12.66  12.66"
      ]
     },
     "execution_count": 7,
     "metadata": {},
     "output_type": "execute_result"
    }
   ],
   "source": [
    "vix_df_copy.head()"
   ]
  },
  {
   "cell_type": "code",
   "execution_count": 8,
   "id": "unable-dakota",
   "metadata": {},
   "outputs": [
    {
     "data": {
      "image/png": "[encoded data removed]",
      "text/plain": [
       "<Figure size 864x216 with 2 Axes>"
      ]
     },
     "metadata": {
      "needs_background": "light"
     },
     "output_type": "display_data"
    }
   ],
   "source": [
    "# A basic visualization of what the Vix data set looks like. Notice the spikes in volatility\n",
    "fig = plt.figure(figsize=(12, 3))\n",
    "ax1 = fig.add_subplot(1, 2, 1)\n",
    "ax1.plot(vix_df_copy.index, vix_df_copy['High'])\n",
    "ax1.set_title('Vix High Over Time')\n",
    "ax1.set_xlabel('Date')\n",
    "ax1.set_ylabel('Price in USD')\n",
    "\n",
    "\n",
    "# A basic visualization of the coin percent return\n",
    "ax2 = fig.add_subplot(1, 2, 2)\n",
    "ax2.plot(coin_return.index, coin_return['coin_return'])\n",
    "ax2.set_title('Coin Return Over Time')\n",
    "ax2.set_xlabel('Date')\n",
    "ax2.set_ylabel('Percent Return')\n",
    "\n",
    "plt.tight_layout()\n",
    "plt.show()"
   ]
  },
  {
   "cell_type": "code",
   "execution_count": 9,
   "id": "close-translation",
   "metadata": {},
   "outputs": [
    {
     "data": {
      "image/png": "[encoded data removed]",
      "text/plain": [
       "<Figure size 432x288 with 1 Axes>"
      ]
     },
     "metadata": {
      "needs_background": "light"
     },
     "output_type": "display_data"
    }
   ],
   "source": [
    "# Now let's try volatility vs coin return\n",
    "fig = plt.figure()\n",
    "ax1 = fig.add_subplot(1, 1, 1)\n",
    "ax1.scatter(vix_df_copy['High'], coin_return['coin_return'])\n",
    "ax1.set_title(\"Vix High vs Coin Return\")\n",
    "ax1.set_xlabel(\"Vix High in USD\")\n",
    "ax1.set_ylabel(\"Coin Return Percentage\")\n",
    "plt.show()"
   ]
  },
  {
   "cell_type": "code",
   "execution_count": 10,
   "id": "differential-porcelain",
   "metadata": {},
   "outputs": [
    {
     "data": {
      "text/html": [
       "<div>\n",
       "<style scoped>\n",
       "    .dataframe tbody tr th:only-of-type {\n",
       "        vertical-align: middle;\n",
       "    }\n",
       "\n",
       "    .dataframe tbody tr th {\n",
       "        vertical-align: top;\n",
       "    }\n",
       "\n",
       "    .dataframe thead th {\n",
       "        text-align: right;\n",
       "    }\n",
       "</style>\n",
       "<table border=\"1\" class=\"dataframe\">\n",
       "  <thead>\n",
       "    <tr style=\"text-align: right;\">\n",
       "      <th></th>\n",
       "      <th>sentiment</th>\n",
       "    </tr>\n",
       "    <tr>\n",
       "      <th>Date</th>\n",
       "      <th></th>\n",
       "    </tr>\n",
       "  </thead>\n",
       "  <tbody>\n",
       "    <tr>\n",
       "      <th>2013-04-30</th>\n",
       "      <td>bad</td>\n",
       "    </tr>\n",
       "    <tr>\n",
       "      <th>2013-05-01</th>\n",
       "      <td>bad</td>\n",
       "    </tr>\n",
       "    <tr>\n",
       "      <th>2013-05-02</th>\n",
       "      <td>bad</td>\n",
       "    </tr>\n",
       "    <tr>\n",
       "      <th>2013-05-03</th>\n",
       "      <td>bad</td>\n",
       "    </tr>\n",
       "    <tr>\n",
       "      <th>2013-05-06</th>\n",
       "      <td>bad</td>\n",
       "    </tr>\n",
       "    <tr>\n",
       "      <th>2013-05-07</th>\n",
       "      <td>bad</td>\n",
       "    </tr>\n",
       "    <tr>\n",
       "      <th>2013-05-08</th>\n",
       "      <td>good</td>\n",
       "    </tr>\n",
       "    <tr>\n",
       "      <th>2013-05-09</th>\n",
       "      <td>bad</td>\n",
       "    </tr>\n",
       "    <tr>\n",
       "      <th>2013-05-10</th>\n",
       "      <td>good</td>\n",
       "    </tr>\n",
       "    <tr>\n",
       "      <th>2013-05-13</th>\n",
       "      <td>good</td>\n",
       "    </tr>\n",
       "  </tbody>\n",
       "</table>\n",
       "</div>"
      ],
      "text/plain": [
       "           sentiment\n",
       "Date                \n",
       "2013-04-30       bad\n",
       "2013-05-01       bad\n",
       "2013-05-02       bad\n",
       "2013-05-03       bad\n",
       "2013-05-06       bad\n",
       "2013-05-07       bad\n",
       "2013-05-08      good\n",
       "2013-05-09       bad\n",
       "2013-05-10      good\n",
       "2013-05-13      good"
      ]
     },
     "execution_count": 10,
     "metadata": {},
     "output_type": "execute_result"
    }
   ],
   "source": [
    "# Let's try a regression on Sentiment on return: \n",
    "# > .2 then very good 0 < < 0.2 then good converse for bad and very bad\n",
    "def get_sentiment(return_val):\n",
    "    if return_val >= 0.2:\n",
    "        return 'very good'\n",
    "    elif return_val > 0 and return_val < 0.2:\n",
    "        return 'good'\n",
    "    elif return_val < 0 and return_val > -0.2:\n",
    "        return 'bad'\n",
    "    elif return_val <= 0.2:\n",
    "        return 'very bad'\n",
    "    else:\n",
    "        return None\n",
    "    \n",
    "\n",
    "sentiment_df = pd.DataFrame(index=coin_return.index)\n",
    "sentiment_df['sentiment'] = [get_sentiment(return_val) for return_val in coin_return['coin_return']]\n",
    "sentiment_df.head(10)"
   ]
  },
  {
   "cell_type": "code",
   "execution_count": 11,
   "id": "legitimate-trick",
   "metadata": {},
   "outputs": [],
   "source": [
    "X_train, X_test, Y_train, Y_test = train_test_split(vix_df_copy['High'], sentiment_df['sentiment'], test_size=0.2, random_state=0)\n",
    "# Reshape X_train and X_test\n",
    "X_train = np.array(X_train).reshape(-1, 1)\n",
    "X_test = np.array(X_test).reshape(-1, 1)"
   ]
  },
  {
   "cell_type": "code",
   "execution_count": 12,
   "id": "classical-assist",
   "metadata": {},
   "outputs": [
    {
     "data": {
      "text/plain": [
       "LogisticRegression()"
      ]
     },
     "execution_count": 12,
     "metadata": {},
     "output_type": "execute_result"
    }
   ],
   "source": [
    "# Now Logistic Regression\n",
    "model = LogisticRegression()\n",
    "model.fit(X_train, Y_train)\n"
   ]
  },
  {
   "cell_type": "code",
   "execution_count": 13,
   "id": "talented-hayes",
   "metadata": {},
   "outputs": [],
   "source": [
    "y_pred = model.predict(X_test)"
   ]
  },
  {
   "cell_type": "code",
   "execution_count": 14,
   "id": "improving-disorder",
   "metadata": {},
   "outputs": [
    {
     "data": {
      "text/plain": [
       "0.5532994923857868"
      ]
     },
     "execution_count": 14,
     "metadata": {},
     "output_type": "execute_result"
    }
   ],
   "source": [
    "# Not bad considering a random guess is 25% accuracy\n",
    "accuracy_score(Y_test, y_pred)"
   ]
  },
  {
   "cell_type": "code",
   "execution_count": 15,
   "id": "funny-pierce",
   "metadata": {},
   "outputs": [
    {
     "data": {
      "text/plain": [
       "0.4467005076142132"
      ]
     },
     "execution_count": 15,
     "metadata": {},
     "output_type": "execute_result"
    }
   ],
   "source": [
    "from sklearn.metrics import mean_squared_error\n",
    "le = LabelEncoder() # Use the label encoder to transform our classes into numerical values\n",
    "le.fit(Y_test)\n",
    "mean_squared_error(le.transform(y_pred), le.transform(Y_test))"
   ]
  }
 ],
 "metadata": {
  "kernelspec": {
   "display_name": "Python 3",
   "language": "python",
   "name": "python3"
  },
  "language_info": {
   "codemirror_mode": {
    "name": "ipython",
    "version": 3
   },
   "file_extension": ".py",
   "mimetype": "text/x-python",
   "name": "python",
   "nbconvert_exporter": "python",
   "pygments_lexer": "ipython3",
   "version": "3.8.5"
  }
 },
 "nbformat": 4,
 "nbformat_minor": 5
}
