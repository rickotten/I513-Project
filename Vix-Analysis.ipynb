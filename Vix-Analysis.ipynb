{
 "cells": [
  {
   "cell_type": "code",
   "execution_count": 63,
   "id": "saving-million",
   "metadata": {},
   "outputs": [],
   "source": [
    "# Here we look at the Vix data set: A market index that tracks volatility in the market\n",
    "# From what I infer, high Vix prices indicate high volatility in the marketplace\n",
    "import numpy as np\n",
    "import pandas as pd\n",
    "import matplotlib.pyplot as plt\n",
    "\n",
    "from datetime import datetime\n",
    "from sklearn.preprocessing import StandardScaler"
   ]
  },
  {
   "cell_type": "code",
   "execution_count": 20,
   "id": "vital-curtis",
   "metadata": {},
   "outputs": [
    {
     "data": {
      "text/html": [
       "<div>\n",
       "<style scoped>\n",
       "    .dataframe tbody tr th:only-of-type {\n",
       "        vertical-align: middle;\n",
       "    }\n",
       "\n",
       "    .dataframe tbody tr th {\n",
       "        vertical-align: top;\n",
       "    }\n",
       "\n",
       "    .dataframe thead th {\n",
       "        text-align: right;\n",
       "    }\n",
       "</style>\n",
       "<table border=\"1\" class=\"dataframe\">\n",
       "  <thead>\n",
       "    <tr style=\"text-align: right;\">\n",
       "      <th></th>\n",
       "      <th>Name</th>\n",
       "      <th>Symbol</th>\n",
       "      <th>High</th>\n",
       "      <th>Low</th>\n",
       "      <th>Open</th>\n",
       "      <th>Close</th>\n",
       "      <th>Volume</th>\n",
       "      <th>Marketcap</th>\n",
       "    </tr>\n",
       "    <tr>\n",
       "      <th>Date</th>\n",
       "      <th></th>\n",
       "      <th></th>\n",
       "      <th></th>\n",
       "      <th></th>\n",
       "      <th></th>\n",
       "      <th></th>\n",
       "      <th></th>\n",
       "      <th></th>\n",
       "    </tr>\n",
       "  </thead>\n",
       "  <tbody>\n",
       "    <tr>\n",
       "      <th>2021-02-23</th>\n",
       "      <td>Bitcoin</td>\n",
       "      <td>BTC</td>\n",
       "      <td>54204.929756</td>\n",
       "      <td>45290.590268</td>\n",
       "      <td>54204.929756</td>\n",
       "      <td>48824.426869</td>\n",
       "      <td>1.061025e+11</td>\n",
       "      <td>9.099259e+11</td>\n",
       "    </tr>\n",
       "    <tr>\n",
       "      <th>2021-02-24</th>\n",
       "      <td>Bitcoin</td>\n",
       "      <td>BTC</td>\n",
       "      <td>51290.136695</td>\n",
       "      <td>47213.498162</td>\n",
       "      <td>48835.087661</td>\n",
       "      <td>49705.333316</td>\n",
       "      <td>6.369552e+10</td>\n",
       "      <td>9.263931e+11</td>\n",
       "    </tr>\n",
       "    <tr>\n",
       "      <th>2021-02-25</th>\n",
       "      <td>Bitcoin</td>\n",
       "      <td>BTC</td>\n",
       "      <td>51948.966982</td>\n",
       "      <td>47093.853019</td>\n",
       "      <td>49709.082425</td>\n",
       "      <td>47093.853019</td>\n",
       "      <td>5.450657e+10</td>\n",
       "      <td>8.777661e+11</td>\n",
       "    </tr>\n",
       "    <tr>\n",
       "      <th>2021-02-26</th>\n",
       "      <td>Bitcoin</td>\n",
       "      <td>BTC</td>\n",
       "      <td>48370.785260</td>\n",
       "      <td>44454.842114</td>\n",
       "      <td>47180.464054</td>\n",
       "      <td>46339.760083</td>\n",
       "      <td>3.509679e+11</td>\n",
       "      <td>8.637523e+11</td>\n",
       "    </tr>\n",
       "    <tr>\n",
       "      <th>2021-02-27</th>\n",
       "      <td>Bitcoin</td>\n",
       "      <td>BTC</td>\n",
       "      <td>48253.270101</td>\n",
       "      <td>45269.025766</td>\n",
       "      <td>46344.772237</td>\n",
       "      <td>46188.451275</td>\n",
       "      <td>4.591095e+10</td>\n",
       "      <td>8.609781e+11</td>\n",
       "    </tr>\n",
       "  </tbody>\n",
       "</table>\n",
       "</div>"
      ],
      "text/plain": [
       "               Name Symbol          High           Low          Open  \\\n",
       "Date                                                                   \n",
       "2021-02-23  Bitcoin    BTC  54204.929756  45290.590268  54204.929756   \n",
       "2021-02-24  Bitcoin    BTC  51290.136695  47213.498162  48835.087661   \n",
       "2021-02-25  Bitcoin    BTC  51948.966982  47093.853019  49709.082425   \n",
       "2021-02-26  Bitcoin    BTC  48370.785260  44454.842114  47180.464054   \n",
       "2021-02-27  Bitcoin    BTC  48253.270101  45269.025766  46344.772237   \n",
       "\n",
       "                   Close        Volume     Marketcap  \n",
       "Date                                                  \n",
       "2021-02-23  48824.426869  1.061025e+11  9.099259e+11  \n",
       "2021-02-24  49705.333316  6.369552e+10  9.263931e+11  \n",
       "2021-02-25  47093.853019  5.450657e+10  8.777661e+11  \n",
       "2021-02-26  46339.760083  3.509679e+11  8.637523e+11  \n",
       "2021-02-27  46188.451275  4.591095e+10  8.609781e+11  "
      ]
     },
     "execution_count": 20,
     "metadata": {},
     "output_type": "execute_result"
    }
   ],
   "source": [
    "# We do our initial tests with Bitcoin. We can expand this analysis later\n",
    "\n",
    "coin_df = pd.read_csv('Data/coin_Bitcoin.csv')\n",
    "\n",
    "coin_df.index = pd.to_datetime(coin_df['Date']).dt.date\n",
    "coin_df.index = pd.DatetimeIndex(coin_df.index)\n",
    "\n",
    "# Not useful\n",
    "coin_df.drop('Date', axis=1, inplace=True)\n",
    "coin_df.drop('SNo', axis=1, inplace=True)\n",
    "\n",
    "coin_df.head()"
   ]
  },
  {
   "cell_type": "code",
   "execution_count": 21,
   "id": "everyday-indian",
   "metadata": {},
   "outputs": [],
   "source": [
    "# Next we read in the Vix dataset\n",
    "\n",
    "new_column_names = {\n",
    "    'DATE': 'Date',\n",
    "    'OPEN': 'Open',\n",
    "    'HIGH': 'High',\n",
    "    'LOW': 'Low',\n",
    "    'CLOSE': 'Close'\n",
    "}\n",
    "\n",
    "vix_df = pd.read_csv('index_data/VIX_History.csv')\n",
    "\n",
    "vix_df.rename(columns=new_column_names, inplace=True)\n",
    "\n",
    "vix_df.index = pd.to_datetime(vix_df['Date']).dt.date\n",
    "vix_df.index = pd.DatetimeIndex(vix_df.index)\n",
    "\n",
    "vix_df.drop('Date', axis=1, inplace=True)\n",
    "\n",
    "vix_df.head()"
   ]
  },
  {
   "cell_type": "code",
   "execution_count": 32,
   "id": "experimental-franklin",
   "metadata": {},
   "outputs": [
    {
     "name": "stdout",
     "output_type": "stream",
     "text": [
      "Oldest date for Coin DF: 2013-04-29 00:00:00\n",
      "Most recent date for Coin DF: 2021-02-27 00:00:00\n",
      "\n",
      "Oldest date for Vix DF: 1990-01-02 00:00:00\n",
      "Most recent date for Vix DF: 2021-03-26 00:00:00\n",
      "\n",
      "Oldest date shared: 2013-04-29 00:00:00\n",
      "Most recent date shared: 2021-02-27 00:00:00\n"
     ]
    }
   ],
   "source": [
    "# Clearly, we can see we have data in Vix we will not need (since Bitcoin did not exist in 1990)\n",
    "# Similarly, we should restrict both datasets to the time range they share\n",
    "oldest_coin_date = coin_df.index.min()\n",
    "oldest_vix_date = vix_df.index.min()\n",
    "newest_coin_date  = coin_df.index.max()\n",
    "newest_vix_date = vix_df.index.max()\n",
    "print(\"Oldest date for Coin DF:\", oldest_coin_date)\n",
    "print(\"Most recent date for Coin DF:\", newest_coin_date)\n",
    "print()\n",
    "print(\"Oldest date for Vix DF:\", oldest_vix_date)\n",
    "print(\"Most recent date for Vix DF:\", newest_vix_date)\n",
    "\n",
    "oldest_shared = max(oldest_coin_date, oldest_vix_date)\n",
    "newest_shared = min(newest_coin_date, newest_vix_date)\n",
    "\n",
    "print()\n",
    "print(\"Oldest date shared:\", oldest_shared)\n",
    "print(\"Most recent date shared:\", newest_shared)"
   ]
  },
  {
   "cell_type": "code",
   "execution_count": 34,
   "id": "expired-stanford",
   "metadata": {},
   "outputs": [],
   "source": [
    "vix_df = vix_df.loc[oldest_shared:newest_shared]\n",
    "coin_df = coin_df.loc[oldest_shared:newest_shared]"
   ]
  },
  {
   "cell_type": "code",
   "execution_count": 99,
   "id": "finite-equipment",
   "metadata": {},
   "outputs": [
    {
     "name": "stdout",
     "output_type": "stream",
     "text": [
      "1969\n",
      "2861\n"
     ]
    }
   ],
   "source": [
    "# Now we have our data ready to go. \n",
    "# Let's take a subset of coin_df and calculate the \"return\" of each day\n",
    "coin_return = pd.DataFrame(index=coin_df.index)\n",
    "coin_return['coin_return'] = coin_df['Close'].pct_change()\n",
    "\n",
    "vix_df_copy = vix_df.copy()\n",
    "# Then drop the first row of both coin_return and vix_df_copy to get rid of NaN and preserve length\n",
    "vix_df_copy.drop(vix_df.index[0], inplace=True)\n",
    "coin_return.drop(coin_return.index[0], inplace=True)\n",
    "\n",
    "# Then we need to drop the rows for dates not in both data sets\n",
    "coin_dates = set(coin_return.index)\n",
    "vix_dates = set(vix_df_copy.index)\n",
    "\n",
    "\n",
    "\n",
    "for date in vix_dates.difference(coin_dates):\n",
    "    vix_df_copy.drop(date, inplace=True)\n",
    "for date in coin_dates.difference(vix_dates):\n",
    "    coin_return.drop(date, inplace=True)"
   ]
  },
  {
   "cell_type": "code",
   "execution_count": 62,
   "id": "monetary-facility",
   "metadata": {},
   "outputs": [
    {
     "data": {
      "text/html": [
       "<div>\n",
       "<style scoped>\n",
       "    .dataframe tbody tr th:only-of-type {\n",
       "        vertical-align: middle;\n",
       "    }\n",
       "\n",
       "    .dataframe tbody tr th {\n",
       "        vertical-align: top;\n",
       "    }\n",
       "\n",
       "    .dataframe thead th {\n",
       "        text-align: right;\n",
       "    }\n",
       "</style>\n",
       "<table border=\"1\" class=\"dataframe\">\n",
       "  <thead>\n",
       "    <tr style=\"text-align: right;\">\n",
       "      <th></th>\n",
       "      <th>Open</th>\n",
       "      <th>High</th>\n",
       "      <th>Low</th>\n",
       "      <th>Close</th>\n",
       "    </tr>\n",
       "    <tr>\n",
       "      <th>Date</th>\n",
       "      <th></th>\n",
       "      <th></th>\n",
       "      <th></th>\n",
       "      <th></th>\n",
       "    </tr>\n",
       "  </thead>\n",
       "  <tbody>\n",
       "    <tr>\n",
       "      <th>2013-04-30</th>\n",
       "      <td>13.71</td>\n",
       "      <td>14.28</td>\n",
       "      <td>13.51</td>\n",
       "      <td>13.52</td>\n",
       "    </tr>\n",
       "    <tr>\n",
       "      <th>2013-05-01</th>\n",
       "      <td>13.88</td>\n",
       "      <td>14.67</td>\n",
       "      <td>13.87</td>\n",
       "      <td>14.49</td>\n",
       "    </tr>\n",
       "    <tr>\n",
       "      <th>2013-05-02</th>\n",
       "      <td>14.48</td>\n",
       "      <td>14.48</td>\n",
       "      <td>13.58</td>\n",
       "      <td>13.59</td>\n",
       "    </tr>\n",
       "    <tr>\n",
       "      <th>2013-05-03</th>\n",
       "      <td>12.92</td>\n",
       "      <td>13.15</td>\n",
       "      <td>12.77</td>\n",
       "      <td>12.85</td>\n",
       "    </tr>\n",
       "    <tr>\n",
       "      <th>2013-05-06</th>\n",
       "      <td>13.06</td>\n",
       "      <td>13.19</td>\n",
       "      <td>12.66</td>\n",
       "      <td>12.66</td>\n",
       "    </tr>\n",
       "  </tbody>\n",
       "</table>\n",
       "</div>"
      ],
      "text/plain": [
       "             Open   High    Low  Close\n",
       "Date                                  \n",
       "2013-04-30  13.71  14.28  13.51  13.52\n",
       "2013-05-01  13.88  14.67  13.87  14.49\n",
       "2013-05-02  14.48  14.48  13.58  13.59\n",
       "2013-05-03  12.92  13.15  12.77  12.85\n",
       "2013-05-06  13.06  13.19  12.66  12.66"
      ]
     },
     "execution_count": 62,
     "metadata": {},
     "output_type": "execute_result"
    }
   ],
   "source": [
    "vix_df_copy.head()"
   ]
  },
  {
   "cell_type": "code",
   "execution_count": 66,
   "id": "unable-dakota",
   "metadata": {},
   "outputs": [
    {
     "data": {
      "image/png": "[encoded data removed]",
      "text/plain": [
       "<Figure size 432x288 with 1 Axes>"
      ]
     },
     "metadata": {
      "needs_background": "light"
     },
     "output_type": "display_data"
    }
   ],
   "source": [
    "# A basic visualization of what the Vix data set looks like. Notice the spikes in volatility\n",
    "plt.plot(vix_df_copy.index, vix_df_copy['High'])\n",
    "plt.tight_layout()\n",
    "plt.show()"
   ]
  },
  {
   "cell_type": "code",
   "execution_count": 82,
   "id": "particular-chocolate",
   "metadata": {},
   "outputs": [
    {
     "data": {
      "text/plain": [
       "[<matplotlib.lines.Line2D at 0x7f94a9dd52e0>]"
      ]
     },
     "execution_count": 82,
     "metadata": {},
     "output_type": "execute_result"
    },
    {
     "data": {
      "image/png": "[encoded data removed]",
      "text/plain": [
       "<Figure size 432x288 with 1 Axes>"
      ]
     },
     "metadata": {
      "needs_background": "light"
     },
     "output_type": "display_data"
    }
   ],
   "source": [
    "# A basic visualization of the coin percent return\n",
    "plt.plot(coin_return.index, coin_return['coin_return'])\n"
   ]
  },
  {
   "cell_type": "code",
   "execution_count": 83,
   "id": "close-translation",
   "metadata": {},
   "outputs": [
    {
     "ename": "ValueError",
     "evalue": "x and y must have same first dimension, but have shapes (1969,) and (2861,)",
     "output_type": "error",
     "traceback": [
      "\u001b[0;31m---------------------------------------------------------------------------\u001b[0m",
      "\u001b[0;31mValueError\u001b[0m                                Traceback (most recent call last)",
      "\u001b[0;32m<ipython-input-83-0a2fd54b2867>\u001b[0m in \u001b[0;36m<module>\u001b[0;34m\u001b[0m\n\u001b[1;32m      1\u001b[0m \u001b[0;31m# Now let's try volatility vs coin return\u001b[0m\u001b[0;34m\u001b[0m\u001b[0;34m\u001b[0m\u001b[0;34m\u001b[0m\u001b[0m\n\u001b[0;32m----> 2\u001b[0;31m \u001b[0mplt\u001b[0m\u001b[0;34m.\u001b[0m\u001b[0mplot\u001b[0m\u001b[0;34m(\u001b[0m\u001b[0mvix_df_copy\u001b[0m\u001b[0;34m[\u001b[0m\u001b[0;34m'High'\u001b[0m\u001b[0;34m]\u001b[0m\u001b[0;34m,\u001b[0m \u001b[0mcoin_return\u001b[0m\u001b[0;34m[\u001b[0m\u001b[0;34m'coin_return'\u001b[0m\u001b[0;34m]\u001b[0m\u001b[0;34m)\u001b[0m\u001b[0;34m\u001b[0m\u001b[0;34m\u001b[0m\u001b[0m\n\u001b[0m",
      "\u001b[0;32m~/I513/lib/python3.8/site-packages/matplotlib/pyplot.py\u001b[0m in \u001b[0;36mplot\u001b[0;34m(scalex, scaley, data, *args, **kwargs)\u001b[0m\n\u001b[1;32m   2986\u001b[0m \u001b[0;34m@\u001b[0m\u001b[0m_copy_docstring_and_deprecators\u001b[0m\u001b[0;34m(\u001b[0m\u001b[0mAxes\u001b[0m\u001b[0;34m.\u001b[0m\u001b[0mplot\u001b[0m\u001b[0;34m)\u001b[0m\u001b[0;34m\u001b[0m\u001b[0;34m\u001b[0m\u001b[0m\n\u001b[1;32m   2987\u001b[0m \u001b[0;32mdef\u001b[0m \u001b[0mplot\u001b[0m\u001b[0;34m(\u001b[0m\u001b[0;34m*\u001b[0m\u001b[0margs\u001b[0m\u001b[0;34m,\u001b[0m \u001b[0mscalex\u001b[0m\u001b[0;34m=\u001b[0m\u001b[0;32mTrue\u001b[0m\u001b[0;34m,\u001b[0m \u001b[0mscaley\u001b[0m\u001b[0;34m=\u001b[0m\u001b[0;32mTrue\u001b[0m\u001b[0;34m,\u001b[0m \u001b[0mdata\u001b[0m\u001b[0;34m=\u001b[0m\u001b[0;32mNone\u001b[0m\u001b[0;34m,\u001b[0m \u001b[0;34m**\u001b[0m\u001b[0mkwargs\u001b[0m\u001b[0;34m)\u001b[0m\u001b[0;34m:\u001b[0m\u001b[0;34m\u001b[0m\u001b[0;34m\u001b[0m\u001b[0m\n\u001b[0;32m-> 2988\u001b[0;31m     return gca().plot(\n\u001b[0m\u001b[1;32m   2989\u001b[0m         \u001b[0;34m*\u001b[0m\u001b[0margs\u001b[0m\u001b[0;34m,\u001b[0m \u001b[0mscalex\u001b[0m\u001b[0;34m=\u001b[0m\u001b[0mscalex\u001b[0m\u001b[0;34m,\u001b[0m \u001b[0mscaley\u001b[0m\u001b[0;34m=\u001b[0m\u001b[0mscaley\u001b[0m\u001b[0;34m,\u001b[0m\u001b[0;34m\u001b[0m\u001b[0;34m\u001b[0m\u001b[0m\n\u001b[1;32m   2990\u001b[0m         **({\"data\": data} if data is not None else {}), **kwargs)\n",
      "\u001b[0;32m~/I513/lib/python3.8/site-packages/matplotlib/axes/_axes.py\u001b[0m in \u001b[0;36mplot\u001b[0;34m(self, scalex, scaley, data, *args, **kwargs)\u001b[0m\n\u001b[1;32m   1603\u001b[0m         \"\"\"\n\u001b[1;32m   1604\u001b[0m         \u001b[0mkwargs\u001b[0m \u001b[0;34m=\u001b[0m \u001b[0mcbook\u001b[0m\u001b[0;34m.\u001b[0m\u001b[0mnormalize_kwargs\u001b[0m\u001b[0;34m(\u001b[0m\u001b[0mkwargs\u001b[0m\u001b[0;34m,\u001b[0m \u001b[0mmlines\u001b[0m\u001b[0;34m.\u001b[0m\u001b[0mLine2D\u001b[0m\u001b[0;34m)\u001b[0m\u001b[0;34m\u001b[0m\u001b[0;34m\u001b[0m\u001b[0m\n\u001b[0;32m-> 1605\u001b[0;31m         \u001b[0mlines\u001b[0m \u001b[0;34m=\u001b[0m \u001b[0;34m[\u001b[0m\u001b[0;34m*\u001b[0m\u001b[0mself\u001b[0m\u001b[0;34m.\u001b[0m\u001b[0m_get_lines\u001b[0m\u001b[0;34m(\u001b[0m\u001b[0;34m*\u001b[0m\u001b[0margs\u001b[0m\u001b[0;34m,\u001b[0m \u001b[0mdata\u001b[0m\u001b[0;34m=\u001b[0m\u001b[0mdata\u001b[0m\u001b[0;34m,\u001b[0m \u001b[0;34m**\u001b[0m\u001b[0mkwargs\u001b[0m\u001b[0;34m)\u001b[0m\u001b[0;34m]\u001b[0m\u001b[0;34m\u001b[0m\u001b[0;34m\u001b[0m\u001b[0m\n\u001b[0m\u001b[1;32m   1606\u001b[0m         \u001b[0;32mfor\u001b[0m \u001b[0mline\u001b[0m \u001b[0;32min\u001b[0m \u001b[0mlines\u001b[0m\u001b[0;34m:\u001b[0m\u001b[0;34m\u001b[0m\u001b[0;34m\u001b[0m\u001b[0m\n\u001b[1;32m   1607\u001b[0m             \u001b[0mself\u001b[0m\u001b[0;34m.\u001b[0m\u001b[0madd_line\u001b[0m\u001b[0;34m(\u001b[0m\u001b[0mline\u001b[0m\u001b[0;34m)\u001b[0m\u001b[0;34m\u001b[0m\u001b[0;34m\u001b[0m\u001b[0m\n",
      "\u001b[0;32m~/I513/lib/python3.8/site-packages/matplotlib/axes/_base.py\u001b[0m in \u001b[0;36m__call__\u001b[0;34m(self, data, *args, **kwargs)\u001b[0m\n\u001b[1;32m    313\u001b[0m                 \u001b[0mthis\u001b[0m \u001b[0;34m+=\u001b[0m \u001b[0margs\u001b[0m\u001b[0;34m[\u001b[0m\u001b[0;36m0\u001b[0m\u001b[0;34m]\u001b[0m\u001b[0;34m,\u001b[0m\u001b[0;34m\u001b[0m\u001b[0;34m\u001b[0m\u001b[0m\n\u001b[1;32m    314\u001b[0m                 \u001b[0margs\u001b[0m \u001b[0;34m=\u001b[0m \u001b[0margs\u001b[0m\u001b[0;34m[\u001b[0m\u001b[0;36m1\u001b[0m\u001b[0;34m:\u001b[0m\u001b[0;34m]\u001b[0m\u001b[0;34m\u001b[0m\u001b[0;34m\u001b[0m\u001b[0m\n\u001b[0;32m--> 315\u001b[0;31m             \u001b[0;32myield\u001b[0m \u001b[0;32mfrom\u001b[0m \u001b[0mself\u001b[0m\u001b[0;34m.\u001b[0m\u001b[0m_plot_args\u001b[0m\u001b[0;34m(\u001b[0m\u001b[0mthis\u001b[0m\u001b[0;34m,\u001b[0m \u001b[0mkwargs\u001b[0m\u001b[0;34m)\u001b[0m\u001b[0;34m\u001b[0m\u001b[0;34m\u001b[0m\u001b[0m\n\u001b[0m\u001b[1;32m    316\u001b[0m \u001b[0;34m\u001b[0m\u001b[0m\n\u001b[1;32m    317\u001b[0m     \u001b[0;32mdef\u001b[0m \u001b[0mget_next_color\u001b[0m\u001b[0;34m(\u001b[0m\u001b[0mself\u001b[0m\u001b[0;34m)\u001b[0m\u001b[0;34m:\u001b[0m\u001b[0;34m\u001b[0m\u001b[0;34m\u001b[0m\u001b[0m\n",
      "\u001b[0;32m~/I513/lib/python3.8/site-packages/matplotlib/axes/_base.py\u001b[0m in \u001b[0;36m_plot_args\u001b[0;34m(self, tup, kwargs, return_kwargs)\u001b[0m\n\u001b[1;32m    499\u001b[0m \u001b[0;34m\u001b[0m\u001b[0m\n\u001b[1;32m    500\u001b[0m         \u001b[0;32mif\u001b[0m \u001b[0mx\u001b[0m\u001b[0;34m.\u001b[0m\u001b[0mshape\u001b[0m\u001b[0;34m[\u001b[0m\u001b[0;36m0\u001b[0m\u001b[0;34m]\u001b[0m \u001b[0;34m!=\u001b[0m \u001b[0my\u001b[0m\u001b[0;34m.\u001b[0m\u001b[0mshape\u001b[0m\u001b[0;34m[\u001b[0m\u001b[0;36m0\u001b[0m\u001b[0;34m]\u001b[0m\u001b[0;34m:\u001b[0m\u001b[0;34m\u001b[0m\u001b[0;34m\u001b[0m\u001b[0m\n\u001b[0;32m--> 501\u001b[0;31m             raise ValueError(f\"x and y must have same first dimension, but \"\n\u001b[0m\u001b[1;32m    502\u001b[0m                              f\"have shapes {x.shape} and {y.shape}\")\n\u001b[1;32m    503\u001b[0m         \u001b[0;32mif\u001b[0m \u001b[0mx\u001b[0m\u001b[0;34m.\u001b[0m\u001b[0mndim\u001b[0m \u001b[0;34m>\u001b[0m \u001b[0;36m2\u001b[0m \u001b[0;32mor\u001b[0m \u001b[0my\u001b[0m\u001b[0;34m.\u001b[0m\u001b[0mndim\u001b[0m \u001b[0;34m>\u001b[0m \u001b[0;36m2\u001b[0m\u001b[0;34m:\u001b[0m\u001b[0;34m\u001b[0m\u001b[0;34m\u001b[0m\u001b[0m\n",
      "\u001b[0;31mValueError\u001b[0m: x and y must have same first dimension, but have shapes (1969,) and (2861,)"
     ]
    },
    {
     "data": {
      "image/png": "[encoded data removed]",
      "text/plain": [
       "<Figure size 432x288 with 1 Axes>"
      ]
     },
     "metadata": {
      "needs_background": "light"
     },
     "output_type": "display_data"
    }
   ],
   "source": [
    "# Now let's try volatility vs coin return\n",
    "plt.plot(vix_df_copy['High'], coin_return['coin_return'])"
   ]
  },
  {
   "cell_type": "code",
   "execution_count": null,
   "id": "legitimate-trick",
   "metadata": {},
   "outputs": [],
   "source": []
  }
 ],
 "metadata": {
  "kernelspec": {
   "display_name": "Python 3",
   "language": "python",
   "name": "python3"
  },
  "language_info": {
   "codemirror_mode": {
    "name": "ipython",
    "version": 3
   },
   "file_extension": ".py",
   "mimetype": "text/x-python",
   "name": "python",
   "nbconvert_exporter": "python",
   "pygments_lexer": "ipython3",
   "version": "3.8.5"
  }
 },
 "nbformat": 4,
 "nbformat_minor": 5
}
