{
 "cells": [
  {
   "cell_type": "markdown",
   "id": "compatible-nigeria",
   "metadata": {},
   "source": [
    "### Using S&P 500 Historical Data to Predict Bitcoin Investment Return\n",
    "\n",
    "In this analysis, we attempt to examine S&P 500 historical data and determine if such data can be used to predict return on future Bitcoin investments."
   ]
  },
  {
   "cell_type": "code",
   "execution_count": 1,
   "id": "accepting-routine",
   "metadata": {},
   "outputs": [],
   "source": [
    "import numpy as np\n",
    "import pandas as pd\n",
    "import matplotlib.pyplot as plt\n",
    "\n",
    "from datetime import datetime\n",
    "from sklearn.metrics import accuracy_score\n",
    "from sklearn.model_selection import train_test_split\n",
    "from sklearn.preprocessing import StandardScaler, LabelEncoder"
   ]
  },
  {
   "cell_type": "markdown",
   "id": "loaded-omaha",
   "metadata": {},
   "source": [
    "### Data Collection and Labeling"
   ]
  },
  {
   "cell_type": "code",
   "execution_count": 2,
   "id": "grave-occurrence",
   "metadata": {
    "scrolled": true
   },
   "outputs": [
    {
     "data": {
      "text/html": [
       "<div>\n",
       "<style scoped>\n",
       "    .dataframe tbody tr th:only-of-type {\n",
       "        vertical-align: middle;\n",
       "    }\n",
       "\n",
       "    .dataframe tbody tr th {\n",
       "        vertical-align: top;\n",
       "    }\n",
       "\n",
       "    .dataframe thead th {\n",
       "        text-align: right;\n",
       "    }\n",
       "</style>\n",
       "<table border=\"1\" class=\"dataframe\">\n",
       "  <thead>\n",
       "    <tr style=\"text-align: right;\">\n",
       "      <th></th>\n",
       "      <th>High</th>\n",
       "      <th>Low</th>\n",
       "      <th>Open</th>\n",
       "      <th>Close</th>\n",
       "      <th>Volume</th>\n",
       "      <th>Marketcap</th>\n",
       "    </tr>\n",
       "    <tr>\n",
       "      <th>Date</th>\n",
       "      <th></th>\n",
       "      <th></th>\n",
       "      <th></th>\n",
       "      <th></th>\n",
       "      <th></th>\n",
       "      <th></th>\n",
       "    </tr>\n",
       "  </thead>\n",
       "  <tbody>\n",
       "    <tr>\n",
       "      <th>2013-04-29</th>\n",
       "      <td>147.488007</td>\n",
       "      <td>134.000000</td>\n",
       "      <td>134.444000</td>\n",
       "      <td>144.539993</td>\n",
       "      <td>0.0</td>\n",
       "      <td>1.603769e+09</td>\n",
       "    </tr>\n",
       "    <tr>\n",
       "      <th>2013-04-30</th>\n",
       "      <td>146.929993</td>\n",
       "      <td>134.050003</td>\n",
       "      <td>144.000000</td>\n",
       "      <td>139.000000</td>\n",
       "      <td>0.0</td>\n",
       "      <td>1.542813e+09</td>\n",
       "    </tr>\n",
       "    <tr>\n",
       "      <th>2013-05-01</th>\n",
       "      <td>139.889999</td>\n",
       "      <td>107.720001</td>\n",
       "      <td>139.000000</td>\n",
       "      <td>116.989998</td>\n",
       "      <td>0.0</td>\n",
       "      <td>1.298955e+09</td>\n",
       "    </tr>\n",
       "    <tr>\n",
       "      <th>2013-05-02</th>\n",
       "      <td>125.599998</td>\n",
       "      <td>92.281898</td>\n",
       "      <td>116.379997</td>\n",
       "      <td>105.209999</td>\n",
       "      <td>0.0</td>\n",
       "      <td>1.168517e+09</td>\n",
       "    </tr>\n",
       "    <tr>\n",
       "      <th>2013-05-03</th>\n",
       "      <td>108.127998</td>\n",
       "      <td>79.099998</td>\n",
       "      <td>106.250000</td>\n",
       "      <td>97.750000</td>\n",
       "      <td>0.0</td>\n",
       "      <td>1.085995e+09</td>\n",
       "    </tr>\n",
       "  </tbody>\n",
       "</table>\n",
       "</div>"
      ],
      "text/plain": [
       "                  High         Low        Open       Close  Volume  \\\n",
       "Date                                                                 \n",
       "2013-04-29  147.488007  134.000000  134.444000  144.539993     0.0   \n",
       "2013-04-30  146.929993  134.050003  144.000000  139.000000     0.0   \n",
       "2013-05-01  139.889999  107.720001  139.000000  116.989998     0.0   \n",
       "2013-05-02  125.599998   92.281898  116.379997  105.209999     0.0   \n",
       "2013-05-03  108.127998   79.099998  106.250000   97.750000     0.0   \n",
       "\n",
       "               Marketcap  \n",
       "Date                      \n",
       "2013-04-29  1.603769e+09  \n",
       "2013-04-30  1.542813e+09  \n",
       "2013-05-01  1.298955e+09  \n",
       "2013-05-02  1.168517e+09  \n",
       "2013-05-03  1.085995e+09  "
      ]
     },
     "execution_count": 2,
     "metadata": {},
     "output_type": "execute_result"
    }
   ],
   "source": [
    "coin_df = pd.read_csv('Data/coin_Bitcoin.csv')\n",
    "\n",
    "coin_df.index = pd.to_datetime(coin_df['Date']).dt.date\n",
    "coin_df.index = pd.DatetimeIndex(coin_df.index)\n",
    "\n",
    "# Not useful\n",
    "coin_df.drop('Date', axis=1, inplace=True)\n",
    "coin_df.drop('SNo', axis=1, inplace=True)\n",
    "coin_df.drop('Symbol', axis=1, inplace=True)\n",
    "coin_df.drop('Name', axis=1, inplace=True)\n",
    "\n",
    "coin_df.head()"
   ]
  },
  {
   "cell_type": "code",
   "execution_count": 3,
   "id": "rational-asthma",
   "metadata": {
    "scrolled": true
   },
   "outputs": [
    {
     "data": {
      "text/html": [
       "<div>\n",
       "<style scoped>\n",
       "    .dataframe tbody tr th:only-of-type {\n",
       "        vertical-align: middle;\n",
       "    }\n",
       "\n",
       "    .dataframe tbody tr th {\n",
       "        vertical-align: top;\n",
       "    }\n",
       "\n",
       "    .dataframe thead th {\n",
       "        text-align: right;\n",
       "    }\n",
       "</style>\n",
       "<table border=\"1\" class=\"dataframe\">\n",
       "  <thead>\n",
       "    <tr style=\"text-align: right;\">\n",
       "      <th></th>\n",
       "      <th>High</th>\n",
       "      <th>Low</th>\n",
       "      <th>Open</th>\n",
       "      <th>Close</th>\n",
       "      <th>Volume</th>\n",
       "      <th>Marketcap</th>\n",
       "      <th>Return</th>\n",
       "    </tr>\n",
       "    <tr>\n",
       "      <th>Date</th>\n",
       "      <th></th>\n",
       "      <th></th>\n",
       "      <th></th>\n",
       "      <th></th>\n",
       "      <th></th>\n",
       "      <th></th>\n",
       "      <th></th>\n",
       "    </tr>\n",
       "  </thead>\n",
       "  <tbody>\n",
       "    <tr>\n",
       "      <th>2013-04-30</th>\n",
       "      <td>146.929993</td>\n",
       "      <td>134.050003</td>\n",
       "      <td>144.000000</td>\n",
       "      <td>139.000000</td>\n",
       "      <td>0.0</td>\n",
       "      <td>1.542813e+09</td>\n",
       "      <td>-0.038328</td>\n",
       "    </tr>\n",
       "    <tr>\n",
       "      <th>2013-05-01</th>\n",
       "      <td>139.889999</td>\n",
       "      <td>107.720001</td>\n",
       "      <td>139.000000</td>\n",
       "      <td>116.989998</td>\n",
       "      <td>0.0</td>\n",
       "      <td>1.298955e+09</td>\n",
       "      <td>-0.158345</td>\n",
       "    </tr>\n",
       "    <tr>\n",
       "      <th>2013-05-02</th>\n",
       "      <td>125.599998</td>\n",
       "      <td>92.281898</td>\n",
       "      <td>116.379997</td>\n",
       "      <td>105.209999</td>\n",
       "      <td>0.0</td>\n",
       "      <td>1.168517e+09</td>\n",
       "      <td>-0.100692</td>\n",
       "    </tr>\n",
       "    <tr>\n",
       "      <th>2013-05-03</th>\n",
       "      <td>108.127998</td>\n",
       "      <td>79.099998</td>\n",
       "      <td>106.250000</td>\n",
       "      <td>97.750000</td>\n",
       "      <td>0.0</td>\n",
       "      <td>1.085995e+09</td>\n",
       "      <td>-0.070906</td>\n",
       "    </tr>\n",
       "    <tr>\n",
       "      <th>2013-05-04</th>\n",
       "      <td>115.000000</td>\n",
       "      <td>92.500000</td>\n",
       "      <td>98.099998</td>\n",
       "      <td>112.500000</td>\n",
       "      <td>0.0</td>\n",
       "      <td>1.250317e+09</td>\n",
       "      <td>0.150895</td>\n",
       "    </tr>\n",
       "  </tbody>\n",
       "</table>\n",
       "</div>"
      ],
      "text/plain": [
       "                  High         Low        Open       Close  Volume  \\\n",
       "Date                                                                 \n",
       "2013-04-30  146.929993  134.050003  144.000000  139.000000     0.0   \n",
       "2013-05-01  139.889999  107.720001  139.000000  116.989998     0.0   \n",
       "2013-05-02  125.599998   92.281898  116.379997  105.209999     0.0   \n",
       "2013-05-03  108.127998   79.099998  106.250000   97.750000     0.0   \n",
       "2013-05-04  115.000000   92.500000   98.099998  112.500000     0.0   \n",
       "\n",
       "               Marketcap    Return  \n",
       "Date                                \n",
       "2013-04-30  1.542813e+09 -0.038328  \n",
       "2013-05-01  1.298955e+09 -0.158345  \n",
       "2013-05-02  1.168517e+09 -0.100692  \n",
       "2013-05-03  1.085995e+09 -0.070906  \n",
       "2013-05-04  1.250317e+09  0.150895  "
      ]
     },
     "execution_count": 3,
     "metadata": {},
     "output_type": "execute_result"
    }
   ],
   "source": [
    "# Add a classification column. The class of each data point is determined by the percent change in close price\n",
    "# day by day\n",
    "coin_df['Return'] = coin_df['Close'].pct_change()\n",
    "# First row in df has NaN 'return' since there is no previous day\n",
    "coin_df.drop(coin_df.index[0], inplace=True)\n",
    "coin_df.head()"
   ]
  },
  {
   "cell_type": "code",
   "execution_count": 4,
   "id": "spread-enlargement",
   "metadata": {
    "scrolled": false
   },
   "outputs": [
    {
     "data": {
      "text/html": [
       "<div>\n",
       "<style scoped>\n",
       "    .dataframe tbody tr th:only-of-type {\n",
       "        vertical-align: middle;\n",
       "    }\n",
       "\n",
       "    .dataframe tbody tr th {\n",
       "        vertical-align: top;\n",
       "    }\n",
       "\n",
       "    .dataframe thead th {\n",
       "        text-align: right;\n",
       "    }\n",
       "</style>\n",
       "<table border=\"1\" class=\"dataframe\">\n",
       "  <thead>\n",
       "    <tr style=\"text-align: right;\">\n",
       "      <th></th>\n",
       "      <th>Close</th>\n",
       "      <th>Open</th>\n",
       "      <th>High</th>\n",
       "      <th>Low</th>\n",
       "    </tr>\n",
       "    <tr>\n",
       "      <th>Date</th>\n",
       "      <th></th>\n",
       "      <th></th>\n",
       "      <th></th>\n",
       "      <th></th>\n",
       "    </tr>\n",
       "  </thead>\n",
       "  <tbody>\n",
       "    <tr>\n",
       "      <th>2011-03-29</th>\n",
       "      <td>1319.44</td>\n",
       "      <td>1310.19</td>\n",
       "      <td>1319.45</td>\n",
       "      <td>1305.26</td>\n",
       "    </tr>\n",
       "    <tr>\n",
       "      <th>2011-03-30</th>\n",
       "      <td>1328.26</td>\n",
       "      <td>1319.44</td>\n",
       "      <td>1331.74</td>\n",
       "      <td>1321.89</td>\n",
       "    </tr>\n",
       "    <tr>\n",
       "      <th>2011-03-31</th>\n",
       "      <td>1325.83</td>\n",
       "      <td>1328.26</td>\n",
       "      <td>1329.77</td>\n",
       "      <td>1325.03</td>\n",
       "    </tr>\n",
       "    <tr>\n",
       "      <th>2011-04-01</th>\n",
       "      <td>1332.41</td>\n",
       "      <td>1325.83</td>\n",
       "      <td>1337.85</td>\n",
       "      <td>1328.89</td>\n",
       "    </tr>\n",
       "    <tr>\n",
       "      <th>2011-04-04</th>\n",
       "      <td>1332.87</td>\n",
       "      <td>1332.41</td>\n",
       "      <td>1336.74</td>\n",
       "      <td>1329.10</td>\n",
       "    </tr>\n",
       "  </tbody>\n",
       "</table>\n",
       "</div>"
      ],
      "text/plain": [
       "              Close     Open     High      Low\n",
       "Date                                          \n",
       "2011-03-29  1319.44  1310.19  1319.45  1305.26\n",
       "2011-03-30  1328.26  1319.44  1331.74  1321.89\n",
       "2011-03-31  1325.83  1328.26  1329.77  1325.03\n",
       "2011-04-01  1332.41  1325.83  1337.85  1328.89\n",
       "2011-04-04  1332.87  1332.41  1336.74  1329.10"
      ]
     },
     "execution_count": 4,
     "metadata": {},
     "output_type": "execute_result"
    }
   ],
   "source": [
    "# Next we read in S&P 500 Dataset\n",
    "sp_df = pd.read_csv('index_data/sp_500_historical.csv')\n",
    "new_column_names = {\n",
    "    \"Close/Last\": \"Close\"\n",
    "}\n",
    "sp_df.rename(columns=new_column_names, inplace=True)\n",
    "\n",
    "sp_df.index = pd.to_datetime(sp_df['Date']).dt.date\n",
    "sp_df.index = pd.DatetimeIndex(sp_df.index)\n",
    "\n",
    "sp_df.drop('Date', axis=1, inplace=True)\n",
    "# Drop Volume too. There are no non '--' values for Volume\n",
    "sp_df.drop('Volume', axis=1, inplace=True)\n",
    "\n",
    "# The S&P 500 Dataframe appears to be backwards. Let's reverse it so that it is more in line with out coin set\n",
    "# This probably doesn't matter, but just in case.\n",
    "sp_df = sp_df.reindex(index=sp_df.index[::-1])\n",
    "sp_df.head()"
   ]
  },
  {
   "cell_type": "code",
   "execution_count": 5,
   "id": "former-laundry",
   "metadata": {},
   "outputs": [
    {
     "name": "stdout",
     "output_type": "stream",
     "text": [
      "1995\n",
      "1995\n"
     ]
    }
   ],
   "source": [
    "# We now need to preprocess our data some more. We need to make sure that the dates in our dataframes appear in both\n",
    "coin_dates = set(coin_df.index)\n",
    "sp_dates = set(sp_df.index)\n",
    "shared_dates = sp_dates.intersection(coin_dates)\n",
    "\n",
    "for date in sp_dates.difference(shared_dates):\n",
    "    sp_df.drop(date, inplace=True)\n",
    "for date in coin_dates.difference(shared_dates):\n",
    "    coin_df.drop(date, inplace=True)\n",
    "\n",
    "print(len(coin_df))\n",
    "print(len(sp_df))"
   ]
  },
  {
   "cell_type": "code",
   "execution_count": 6,
   "id": "material-maple",
   "metadata": {},
   "outputs": [
    {
     "data": {
      "text/html": [
       "<div>\n",
       "<style scoped>\n",
       "    .dataframe tbody tr th:only-of-type {\n",
       "        vertical-align: middle;\n",
       "    }\n",
       "\n",
       "    .dataframe tbody tr th {\n",
       "        vertical-align: top;\n",
       "    }\n",
       "\n",
       "    .dataframe thead th {\n",
       "        text-align: right;\n",
       "    }\n",
       "</style>\n",
       "<table border=\"1\" class=\"dataframe\">\n",
       "  <thead>\n",
       "    <tr style=\"text-align: right;\">\n",
       "      <th></th>\n",
       "      <th>Close</th>\n",
       "      <th>Open</th>\n",
       "      <th>High</th>\n",
       "      <th>Low</th>\n",
       "      <th>Return</th>\n",
       "    </tr>\n",
       "    <tr>\n",
       "      <th>Date</th>\n",
       "      <th></th>\n",
       "      <th></th>\n",
       "      <th></th>\n",
       "      <th></th>\n",
       "      <th></th>\n",
       "    </tr>\n",
       "  </thead>\n",
       "  <tbody>\n",
       "    <tr>\n",
       "      <th>2013-04-30</th>\n",
       "      <td>1597.57</td>\n",
       "      <td>1593.58</td>\n",
       "      <td>1597.57</td>\n",
       "      <td>1586.50</td>\n",
       "      <td>-0.038328</td>\n",
       "    </tr>\n",
       "    <tr>\n",
       "      <th>2013-05-01</th>\n",
       "      <td>1582.70</td>\n",
       "      <td>1597.55</td>\n",
       "      <td>1597.55</td>\n",
       "      <td>1581.28</td>\n",
       "      <td>-0.158345</td>\n",
       "    </tr>\n",
       "    <tr>\n",
       "      <th>2013-05-02</th>\n",
       "      <td>1597.59</td>\n",
       "      <td>1582.77</td>\n",
       "      <td>1598.60</td>\n",
       "      <td>1582.77</td>\n",
       "      <td>-0.100692</td>\n",
       "    </tr>\n",
       "    <tr>\n",
       "      <th>2013-05-03</th>\n",
       "      <td>1614.42</td>\n",
       "      <td>1597.60</td>\n",
       "      <td>1618.46</td>\n",
       "      <td>1597.60</td>\n",
       "      <td>-0.070906</td>\n",
       "    </tr>\n",
       "    <tr>\n",
       "      <th>2013-05-06</th>\n",
       "      <td>1617.50</td>\n",
       "      <td>1614.40</td>\n",
       "      <td>1619.77</td>\n",
       "      <td>1614.21</td>\n",
       "      <td>-0.031145</td>\n",
       "    </tr>\n",
       "  </tbody>\n",
       "</table>\n",
       "</div>"
      ],
      "text/plain": [
       "              Close     Open     High      Low    Return\n",
       "Date                                                    \n",
       "2013-04-30  1597.57  1593.58  1597.57  1586.50 -0.038328\n",
       "2013-05-01  1582.70  1597.55  1597.55  1581.28 -0.158345\n",
       "2013-05-02  1597.59  1582.77  1598.60  1582.77 -0.100692\n",
       "2013-05-03  1614.42  1597.60  1618.46  1597.60 -0.070906\n",
       "2013-05-06  1617.50  1614.40  1619.77  1614.21 -0.031145"
      ]
     },
     "execution_count": 6,
     "metadata": {},
     "output_type": "execute_result"
    }
   ],
   "source": [
    "sp_df['Return'] = coin_df['Return']\n",
    "\n",
    "\n",
    "# Some rows of the sp_df have bad data (such as columns with a value of 0 that skew the data). So we drop these\n",
    "sp_df = sp_df[sp_df['Close'] != 0]\n",
    "sp_df = sp_df[sp_df['Open'] != 0]\n",
    "sp_df = sp_df[sp_df['High'] != 0]\n",
    "sp_df = sp_df[sp_df['Low'] != 0]\n",
    "\n",
    "sp_df.head()"
   ]
  },
  {
   "cell_type": "markdown",
   "id": "subsequent-detective",
   "metadata": {},
   "source": [
    "### Data Visualization"
   ]
  },
  {
   "cell_type": "code",
   "execution_count": 7,
   "id": "juvenile-pittsburgh",
   "metadata": {
    "scrolled": true
   },
   "outputs": [
    {
     "data": {
      "image/png": "[encoded data removed]",
      "text/plain": [
       "<Figure size 864x432 with 5 Axes>"
      ]
     },
     "metadata": {
      "needs_background": "light"
     },
     "output_type": "display_data"
    }
   ],
   "source": [
    "# A basic visualization of Date vs the coin_df columns\n",
    "fig = plt.figure(figsize=(12, 6))\n",
    "\n",
    "# High over time\n",
    "high_axis = fig.add_subplot(3, 2, 1)\n",
    "high_axis.plot(sp_df.index, sp_df['High'])\n",
    "high_axis.set_title('S&P 500 High Over Time')\n",
    "high_axis.set_xlabel('Date')\n",
    "high_axis.set_ylabel('S&P 500 High')\n",
    "\n",
    "# Low over time\n",
    "low_axis = fig.add_subplot(3, 2, 2)\n",
    "low_axis.plot(sp_df.index, sp_df['Low'])\n",
    "low_axis.set_title('S&P 500 Low Over Time')\n",
    "low_axis.set_xlabel('Date')\n",
    "low_axis.set_ylabel('S&P 500 Low')\n",
    "\n",
    "# Open over time\n",
    "open_axis = fig.add_subplot(3, 2, 3)\n",
    "open_axis.plot(sp_df.index, sp_df['Open'])\n",
    "open_axis.set_title('S&P 500 Open Over Time')\n",
    "open_axis.set_xlabel('Date')\n",
    "open_axis.set_ylabel('S&P 500 Open')\n",
    "\n",
    "# Close over time\n",
    "close_axis = fig.add_subplot(3, 2, 4)\n",
    "close_axis.plot(sp_df.index, sp_df['Close'])\n",
    "close_axis.set_title('S&P 500 Close Over Time')\n",
    "close_axis.set_xlabel('Date')\n",
    "close_axis.set_ylabel('S&P 500 Close')\n",
    "\n",
    "# Return over time\n",
    "return_axis = fig.add_subplot(3, 2, 5)\n",
    "return_axis.plot(sp_df.index, sp_df['Return'])\n",
    "return_axis.set_title('S&P 500 Percent Return Over Time')\n",
    "return_axis.set_xlabel('Date')\n",
    "return_axis.set_ylabel('S&P 500 Percent Return')\n",
    "\n",
    "plt.tight_layout()\n",
    "plt.show()"
   ]
  },
  {
   "cell_type": "markdown",
   "id": "solar-protection",
   "metadata": {},
   "source": [
    "---"
   ]
  },
  {
   "cell_type": "markdown",
   "id": "corrected-scheduling",
   "metadata": {},
   "source": [
    "### Class Assignment"
   ]
  },
  {
   "cell_type": "code",
   "execution_count": 8,
   "id": "logical-tamil",
   "metadata": {
    "scrolled": false
   },
   "outputs": [
    {
     "data": {
      "text/html": [
       "<div>\n",
       "<style scoped>\n",
       "    .dataframe tbody tr th:only-of-type {\n",
       "        vertical-align: middle;\n",
       "    }\n",
       "\n",
       "    .dataframe tbody tr th {\n",
       "        vertical-align: top;\n",
       "    }\n",
       "\n",
       "    .dataframe thead th {\n",
       "        text-align: right;\n",
       "    }\n",
       "</style>\n",
       "<table border=\"1\" class=\"dataframe\">\n",
       "  <thead>\n",
       "    <tr style=\"text-align: right;\">\n",
       "      <th></th>\n",
       "      <th>Close</th>\n",
       "      <th>Open</th>\n",
       "      <th>High</th>\n",
       "      <th>Low</th>\n",
       "      <th>Return</th>\n",
       "    </tr>\n",
       "    <tr>\n",
       "      <th>Date</th>\n",
       "      <th></th>\n",
       "      <th></th>\n",
       "      <th></th>\n",
       "      <th></th>\n",
       "      <th></th>\n",
       "    </tr>\n",
       "  </thead>\n",
       "  <tbody>\n",
       "    <tr>\n",
       "      <th>2013-04-30</th>\n",
       "      <td>1597.57</td>\n",
       "      <td>1593.58</td>\n",
       "      <td>1597.57</td>\n",
       "      <td>1586.50</td>\n",
       "      <td>bad</td>\n",
       "    </tr>\n",
       "    <tr>\n",
       "      <th>2013-05-01</th>\n",
       "      <td>1582.70</td>\n",
       "      <td>1597.55</td>\n",
       "      <td>1597.55</td>\n",
       "      <td>1581.28</td>\n",
       "      <td>very bad</td>\n",
       "    </tr>\n",
       "    <tr>\n",
       "      <th>2013-05-02</th>\n",
       "      <td>1597.59</td>\n",
       "      <td>1582.77</td>\n",
       "      <td>1598.60</td>\n",
       "      <td>1582.77</td>\n",
       "      <td>very bad</td>\n",
       "    </tr>\n",
       "    <tr>\n",
       "      <th>2013-05-03</th>\n",
       "      <td>1614.42</td>\n",
       "      <td>1597.60</td>\n",
       "      <td>1618.46</td>\n",
       "      <td>1597.60</td>\n",
       "      <td>bad</td>\n",
       "    </tr>\n",
       "    <tr>\n",
       "      <th>2013-05-06</th>\n",
       "      <td>1617.50</td>\n",
       "      <td>1614.40</td>\n",
       "      <td>1619.77</td>\n",
       "      <td>1614.21</td>\n",
       "      <td>bad</td>\n",
       "    </tr>\n",
       "  </tbody>\n",
       "</table>\n",
       "</div>"
      ],
      "text/plain": [
       "              Close     Open     High      Low    Return\n",
       "Date                                                    \n",
       "2013-04-30  1597.57  1593.58  1597.57  1586.50       bad\n",
       "2013-05-01  1582.70  1597.55  1597.55  1581.28  very bad\n",
       "2013-05-02  1597.59  1582.77  1598.60  1582.77  very bad\n",
       "2013-05-03  1614.42  1597.60  1618.46  1597.60       bad\n",
       "2013-05-06  1617.50  1614.40  1619.77  1614.21       bad"
      ]
     },
     "execution_count": 8,
     "metadata": {},
     "output_type": "execute_result"
    }
   ],
   "source": [
    "# Sentiment on return: \n",
    "# > .10 then very good 0 < < 0.10 then good converse for bad and very bad\n",
    "def get_sentiment(return_val):\n",
    "    if return_val >= 0.10:\n",
    "        return 'very good'\n",
    "    elif return_val > 0 and return_val < 0.10:\n",
    "        return 'good'\n",
    "    elif return_val <= 0 and return_val > -0.10:\n",
    "        return 'bad'\n",
    "    elif return_val <= -0.10:\n",
    "        return 'very bad'\n",
    "    else:\n",
    "        print(return_val)\n",
    "        return None\n",
    "# Replace Return column with label\n",
    "sp_df['Return'] = [get_sentiment(return_val) for return_val in sp_df['Return']]\n",
    "sp_df.head()"
   ]
  },
  {
   "cell_type": "code",
   "execution_count": 9,
   "id": "sweet-piece",
   "metadata": {},
   "outputs": [
    {
     "name": "stdout",
     "output_type": "stream",
     "text": [
      "{'bad': 871, 'very bad': 42, 'good': 1005, 'very good': 54}\n"
     ]
    }
   ],
   "source": [
    "# We are faced with a new problem: Class Imbalance. This will be addressed in the next section\n",
    "class_counts = {}\n",
    "for class_ in sp_df['Return']:\n",
    "    class_counts[class_] = class_counts.get(class_, 0) + 1\n",
    "print(class_counts)"
   ]
  },
  {
   "cell_type": "markdown",
   "id": "ahead-reproduction",
   "metadata": {},
   "source": [
    "---"
   ]
  },
  {
   "cell_type": "markdown",
   "id": "rural-detail",
   "metadata": {},
   "source": [
    "### Model Evaluation/Parameter Tuning\n",
    "\n",
    "In the next few code blocks, we deal with Class Imbalance issues, and evaluate multiple models with fine-tuned parameters."
   ]
  },
  {
   "cell_type": "code",
   "execution_count": 10,
   "id": "appropriate-yemen",
   "metadata": {},
   "outputs": [],
   "source": [
    "# To decide on the best model, we should fine tune the parameters of the models in consideration to see\n",
    "# the best performances of our models.\n",
    "\n",
    "# Here, we use a StandardScaler on Vix\n",
    "from sklearn.preprocessing import StandardScaler\n",
    "from sklearn.model_selection import GridSearchCV\n",
    "\n",
    "X = sp_df[['Open', 'High', 'Low', 'Close']]\n",
    "y = sp_df['Return']\n",
    "\n",
    "X_train, X_test, y_train, y_test = train_test_split(X, y, test_size=0.3, random_state=101)\n",
    "\n",
    "transformer = StandardScaler().fit(X_train)\n",
    "X_train = transformer.transform(X_train)\n",
    "X_test = transformer.transform(X_test)"
   ]
  },
  {
   "cell_type": "markdown",
   "id": "irish-float",
   "metadata": {},
   "source": [
    "### Class Imbalance\n",
    "\n",
    "As we saw above, the number of \"good\" vs \"bad\" data points heavily outweigh the \"very good\" and \"very bad\" data points. In the next cell, we attempt to assign class weights to account for this disparity."
   ]
  },
  {
   "cell_type": "code",
   "execution_count": 11,
   "id": "assumed-parts",
   "metadata": {
    "scrolled": true
   },
   "outputs": [
    {
     "name": "stdout",
     "output_type": "stream",
     "text": [
      "{'bad': 0.5655737704918032, 'good': 0.4907539118065434, 'very bad': 11.129032258064516, 'very good': 9.583333333333334}\n"
     ]
    }
   ],
   "source": [
    "# We should now deal with the issue of class_weights\n",
    "from sklearn.utils import class_weight\n",
    "labels = np.unique(y_train)\n",
    "class_weights = dict(zip(labels, class_weight.compute_class_weight('balanced', classes=labels, y=y_train)))\n",
    "print(class_weights)"
   ]
  },
  {
   "cell_type": "markdown",
   "id": "rubber-thirty",
   "metadata": {},
   "source": [
    "### Logistic Regression Evaluation"
   ]
  },
  {
   "cell_type": "code",
   "execution_count": 12,
   "id": "bright-japan",
   "metadata": {},
   "outputs": [
    {
     "name": "stdout",
     "output_type": "stream",
     "text": [
      "Best grid score: 0.21\n",
      "Grid test score: 0.24\n",
      "Best grid parameters: {'C': 100}\n"
     ]
    }
   ],
   "source": [
    "# Logistic Regression Parameter Tuning\n",
    "from sklearn.linear_model import LogisticRegression\n",
    "param_grid = {  'C': [0.001, 0.01, 0.1, 1, 10, 100, 1000]\n",
    "                }\n",
    "\n",
    "lr = LogisticRegression(max_iter=2000, class_weight=class_weights)\n",
    "grid = GridSearchCV(lr, param_grid)\n",
    "grid.fit(X_train, y_train)\n",
    "print(\"Best grid score: {:.2f}\".format(grid.best_score_))\n",
    "print(\"Grid test score: {:.2f}\".format(grid.score(X_test, y_test)))\n",
    "print(\"Best grid parameters: {}\".format(grid.best_params_))\n",
    "lr_best_params = grid.best_params_"
   ]
  },
  {
   "cell_type": "markdown",
   "id": "resistant-platinum",
   "metadata": {},
   "source": [
    "### Decision Tree Evaluation"
   ]
  },
  {
   "cell_type": "code",
   "execution_count": 13,
   "id": "alpine-north",
   "metadata": {},
   "outputs": [
    {
     "name": "stdout",
     "output_type": "stream",
     "text": [
      "Best grid score: 0.49\n",
      "Grid test score: 0.48\n",
      "Best grid parameters: {'criterion': 'entropy', 'max_depth': 50}\n"
     ]
    }
   ],
   "source": [
    "# Decision Tree Parameter Tuning\n",
    "from sklearn.tree import DecisionTreeClassifier\n",
    "n_components = list(range(1,X.shape[1]+1,1))\n",
    "criterion = ['gini', 'entropy']\n",
    "max_depth = [2,4,6,8,10,12]\n",
    "param_grid = {\n",
    "    'criterion': ['gini', 'entropy'],\n",
    "    'max_depth': [2,4,6,8,10,12,14,16,18,20,25,30,40,50,70]\n",
    "}\n",
    "dt = DecisionTreeClassifier(class_weight=class_weights)\n",
    "grid = GridSearchCV(dt, param_grid)\n",
    "grid.fit(X_train, y_train)\n",
    "print(\"Best grid score: {:.2f}\".format(grid.best_score_))\n",
    "print(\"Grid test score: {:.2f}\".format(grid.score(X_test, y_test)))\n",
    "print(\"Best grid parameters: {}\".format(grid.best_params_))\n",
    "dt_best_params = grid.best_params_"
   ]
  },
  {
   "cell_type": "markdown",
   "id": "ongoing-anthropology",
   "metadata": {},
   "source": [
    "### KNN Evaluation"
   ]
  },
  {
   "cell_type": "code",
   "execution_count": 14,
   "id": "lonely-royal",
   "metadata": {},
   "outputs": [
    {
     "name": "stdout",
     "output_type": "stream",
     "text": [
      "Best grid score: 0.52\n",
      "Grid test score: 0.46\n",
      "Best grid parameters: {'metric': 'manhattan', 'n_neighbors': 11, 'weights': 'uniform'}\n"
     ]
    }
   ],
   "source": [
    "# K-Nearest Neighbors Parameter Tuning\n",
    "from sklearn.neighbors import KNeighborsClassifier\n",
    "param_grid = {\n",
    "    'n_neighbors': [3, 5, 11, 19],\n",
    "    'weights': ['uniform', 'distance'],\n",
    "    'metric': ['euclidean', 'manhattan']\n",
    "}\n",
    "knn = KNeighborsClassifier() # No class_weight param\n",
    "grid = GridSearchCV(knn, param_grid)\n",
    "grid.fit(X_train, y_train)\n",
    "print(\"Best grid score: {:.2f}\".format(grid.best_score_))\n",
    "print(\"Grid test score: {:.2f}\".format(grid.score(X_test, y_test)))\n",
    "print(\"Best grid parameters: {}\".format(grid.best_params_))\n",
    "knn_best_params = grid.best_params_"
   ]
  },
  {
   "cell_type": "markdown",
   "id": "serious-algeria",
   "metadata": {},
   "source": [
    "### SVC Evaluation"
   ]
  },
  {
   "cell_type": "code",
   "execution_count": 15,
   "id": "polish-habitat",
   "metadata": {
    "scrolled": true
   },
   "outputs": [
    {
     "name": "stdout",
     "output_type": "stream",
     "text": [
      "Best grid score: 0.37\n",
      "Grid test score: 0.34\n",
      "Best grid parameters: {'C': 1000, 'gamma': 1, 'kernel': 'rbf'}\n"
     ]
    }
   ],
   "source": [
    "# SVC Parameter Tuning\n",
    "from sklearn.svm import SVC\n",
    "param_grid = {\n",
    "    'C':[1,10,100,1000],\n",
    "    'gamma':[1,0.1,0.001,0.0001],\n",
    "    'kernel':['linear','rbf']\n",
    "}\n",
    "svc = SVC(class_weight=class_weights)\n",
    "grid = GridSearchCV(svc, param_grid)\n",
    "grid.fit(X_train, y_train)\n",
    "print(\"Best grid score: {:.2f}\".format(grid.best_score_))\n",
    "print(\"Grid test score: {:.2f}\".format(grid.score(X_test, y_test)))\n",
    "print(\"Best grid parameters: {}\".format(grid.best_params_))\n",
    "svc_best_params = grid.best_params_"
   ]
  },
  {
   "cell_type": "markdown",
   "id": "described-brazilian",
   "metadata": {},
   "source": [
    "### Retraining with Best Parameters\n"
   ]
  },
  {
   "cell_type": "code",
   "execution_count": 17,
   "id": "dress-cloud",
   "metadata": {},
   "outputs": [
    {
     "name": "stdout",
     "output_type": "stream",
     "text": [
      "Logistic Regression Score: 0.24\n",
      "Decision Tree Score: 0.49\n",
      "KNN Score: 0.46\n",
      "SVC Score: 0.34\n"
     ]
    }
   ],
   "source": [
    "# Let's retrain the models using the fine-tuned parameters found\n",
    "# so we can examine the confusion matrix and scoring report and make a conclusion.\n",
    "lr = LogisticRegression(max_iter=2000, C=lr_best_params['C'], class_weight=class_weights)\n",
    "lr.fit(X_train, y_train)\n",
    "lr_pred = lr.predict(X_test)\n",
    "print('Logistic Regression Score: {:.2f}'.format(lr.score(X_test, y_test)))\n",
    "\n",
    "dt = DecisionTreeClassifier(criterion=dt_best_params['criterion'], max_depth=dt_best_params['max_depth'], class_weight=class_weights)\n",
    "dt.fit(X_train, y_train)\n",
    "dt_pred = dt.predict(X_test)\n",
    "print('Decision Tree Score: {:.2f}'.format(dt.score(X_test, y_test)))\n",
    "\n",
    "knn = KNeighborsClassifier(metric=knn_best_params['metric'], n_neighbors=knn_best_params['n_neighbors'], weights=knn_best_params['weights'])\n",
    "knn.fit(X_train, y_train)\n",
    "knn_pred = knn.predict(X_test)\n",
    "print('KNN Score: {:.2f}'.format(knn.score(X_test, y_test)))\n",
    "\n",
    "svc = SVC(C=svc_best_params['C'], gamma=svc_best_params['gamma'], kernel=svc_best_params['kernel'], class_weight=class_weights)\n",
    "svc.fit(X_train, y_train)\n",
    "svc_pred = svc.predict(X_test)\n",
    "print('SVC Score: {:.2f}'.format(svc.score(X_test, y_test)))"
   ]
  },
  {
   "cell_type": "markdown",
   "id": "alert-magic",
   "metadata": {},
   "source": [
    "---"
   ]
  },
  {
   "cell_type": "markdown",
   "id": "sharp-office",
   "metadata": {},
   "source": [
    "### Score Reporting\n",
    "\n",
    "Here, we take a closer look at the performance of our models, as raw accuracy is often not a great indicator.\n",
    "\n",
    "### Confusion Matrices"
   ]
  },
  {
   "cell_type": "code",
   "execution_count": 18,
   "id": "natural-cancellation",
   "metadata": {},
   "outputs": [
    {
     "name": "stdout",
     "output_type": "stream",
     "text": [
      "Logistic Regression Confusion Matrix:\n",
      "           Bad  Good  Very Good  Very Bad\n",
      "Bad         55    55         88        63\n",
      "Good        50    77        115        60\n",
      "Very Good    1     3          6         1\n",
      "Very Bad     1     5          6         6 \n",
      "\n",
      "Decision Tree Classifier Confusion Matrix:\n",
      "           Bad  Good  Very Good  Very Bad\n",
      "Bad        113   144          2         2\n",
      "Good       112   172          7        11\n",
      "Very Good    3     8          0         0\n",
      "Very Bad     7     8          0         3 \n",
      "\n",
      "KNN Classifier Confusion Matrix:\n",
      "           Bad  Good  Very Good  Very Bad\n",
      "Bad        106   155          0         0\n",
      "Good       134   168          0         0\n",
      "Very Good    3     8          0         0\n",
      "Very Bad     8    10          0         0 \n",
      "\n",
      "SVC Classifier Confusion Matrix:\n",
      "           Bad  Good  Very Good  Very Bad\n",
      "Bad        105    67         50        39\n",
      "Good       128    89         43        42\n",
      "Very Good    1     2          4         4\n",
      "Very Bad     5     2          5         6 \n",
      "\n"
     ]
    }
   ],
   "source": [
    "from sklearn.metrics import confusion_matrix\n",
    "labels = [\"Bad\", \"Good\", \"Very Good\", \"Very Bad\"]\n",
    "print(\"Logistic Regression Confusion Matrix:\")\n",
    "print(pd.DataFrame(confusion_matrix(y_test, lr_pred), index=labels, columns=labels), '\\n')\n",
    "print(\"Decision Tree Classifier Confusion Matrix:\")\n",
    "print(pd.DataFrame(confusion_matrix(y_test, dt_pred), index=labels, columns=labels), '\\n')\n",
    "print(\"KNN Classifier Confusion Matrix:\")\n",
    "print(pd.DataFrame(confusion_matrix(y_test, knn_pred), index=labels, columns=labels), '\\n')\n",
    "print(\"SVC Classifier Confusion Matrix:\")\n",
    "print(pd.DataFrame(confusion_matrix(y_test, svc_pred), index=labels, columns=labels), '\\n')"
   ]
  },
  {
   "cell_type": "markdown",
   "id": "dependent-hanging",
   "metadata": {},
   "source": [
    "### Classification Reports (f1-score, precision, accuracy, etc.)"
   ]
  },
  {
   "cell_type": "code",
   "execution_count": 19,
   "id": "suspended-philosophy",
   "metadata": {},
   "outputs": [
    {
     "name": "stdout",
     "output_type": "stream",
     "text": [
      "Logistic Regression Classification Report:\n",
      "              precision    recall  f1-score   support\n",
      "\n",
      "         bad       0.51      0.21      0.30       261\n",
      "        good       0.55      0.25      0.35       302\n",
      "    very bad       0.03      0.55      0.05        11\n",
      "   very good       0.05      0.33      0.08        18\n",
      "\n",
      "    accuracy                           0.24       592\n",
      "   macro avg       0.28      0.34      0.20       592\n",
      "weighted avg       0.51      0.24      0.31       592\n",
      " \n",
      "\n",
      "Decision Tree Classifier Classification Report:\n",
      "              precision    recall  f1-score   support\n",
      "\n",
      "         bad       0.48      0.43      0.46       261\n",
      "        good       0.52      0.57      0.54       302\n",
      "    very bad       0.00      0.00      0.00        11\n",
      "   very good       0.19      0.17      0.18        18\n",
      "\n",
      "    accuracy                           0.49       592\n",
      "   macro avg       0.30      0.29      0.29       592\n",
      "weighted avg       0.48      0.49      0.48       592\n",
      " \n",
      "\n",
      "KNN Classifier Classification Report:\n",
      "              precision    recall  f1-score   support\n",
      "\n",
      "         bad       0.42      0.41      0.41       261\n",
      "        good       0.49      0.56      0.52       302\n",
      "    very bad       0.00      0.00      0.00        11\n",
      "   very good       0.00      0.00      0.00        18\n",
      "\n",
      "    accuracy                           0.46       592\n",
      "   macro avg       0.23      0.24      0.23       592\n",
      "weighted avg       0.44      0.46      0.45       592\n",
      " \n",
      "\n",
      "SVC Classifier Classification Report:\n",
      "              precision    recall  f1-score   support\n",
      "\n",
      "         bad       0.44      0.40      0.42       261\n",
      "        good       0.56      0.29      0.39       302\n",
      "    very bad       0.04      0.36      0.07        11\n",
      "   very good       0.07      0.33      0.11        18\n",
      "\n",
      "    accuracy                           0.34       592\n",
      "   macro avg       0.28      0.35      0.25       592\n",
      "weighted avg       0.48      0.34      0.39       592\n",
      " \n",
      "\n"
     ]
    },
    {
     "name": "stderr",
     "output_type": "stream",
     "text": [
      "/Users/richie/I513/lib/python3.9/site-packages/sklearn/metrics/_classification.py:1245: UndefinedMetricWarning: Precision and F-score are ill-defined and being set to 0.0 in labels with no predicted samples. Use `zero_division` parameter to control this behavior.\n",
      "  _warn_prf(average, modifier, msg_start, len(result))\n",
      "/Users/richie/I513/lib/python3.9/site-packages/sklearn/metrics/_classification.py:1245: UndefinedMetricWarning: Precision and F-score are ill-defined and being set to 0.0 in labels with no predicted samples. Use `zero_division` parameter to control this behavior.\n",
      "  _warn_prf(average, modifier, msg_start, len(result))\n",
      "/Users/richie/I513/lib/python3.9/site-packages/sklearn/metrics/_classification.py:1245: UndefinedMetricWarning: Precision and F-score are ill-defined and being set to 0.0 in labels with no predicted samples. Use `zero_division` parameter to control this behavior.\n",
      "  _warn_prf(average, modifier, msg_start, len(result))\n"
     ]
    }
   ],
   "source": [
    "from sklearn.metrics import classification_report\n",
    "print(\"Logistic Regression Classification Report:\")\n",
    "print(classification_report(y_test, lr_pred), '\\n')\n",
    "print(\"Decision Tree Classifier Classification Report:\")\n",
    "print(classification_report(y_test, dt_pred), '\\n')\n",
    "print(\"KNN Classifier Classification Report:\")\n",
    "print(classification_report(y_test, knn_pred), '\\n')\n",
    "print(\"SVC Classifier Classification Report:\")\n",
    "print(classification_report(y_test, svc_pred), '\\n')"
   ]
  },
  {
   "cell_type": "markdown",
   "id": "proof-kingston",
   "metadata": {},
   "source": [
    "### Interpretation of Metrics\n",
    "\n",
    "Here, we can see that the classifiers we have constructed do not serve as good predictors for the trend we are attempting to observe. With f1-scores of near 0, we can see that the estimators fail to predict the class correctly for data points with \"very good\" and \"very bad\" classes. Because of the lack of promise here, we can say that the S&P 500 is likely not a good estimator for Bitcoin return. "
   ]
  }
 ],
 "metadata": {
  "kernelspec": {
   "display_name": "Python 3",
   "language": "python",
   "name": "python3"
  },
  "language_info": {
   "codemirror_mode": {
    "name": "ipython",
    "version": 3
   },
   "file_extension": ".py",
   "mimetype": "text/x-python",
   "name": "python",
   "nbconvert_exporter": "python",
   "pygments_lexer": "ipython3",
   "version": "3.9.4"
  }
 },
 "nbformat": 4,
 "nbformat_minor": 5
}
