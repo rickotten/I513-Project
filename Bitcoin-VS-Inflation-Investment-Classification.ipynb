{
 "cells": [
  {
   "cell_type": "markdown",
   "id": "compatible-nigeria",
   "metadata": {},
   "source": [
    "### Comparing Bitcoin's Percent Change Return to Change in Inflation to Predict Investment Return\n",
    "\n",
    "In this analysis, we attempt to examine Bitcoin's percent change data compared to inflation and determine if such data can be used to predict return on future Bitcoin investments."
   ]
  },
  {
   "cell_type": "code",
   "execution_count": 1,
   "id": "accepting-routine",
   "metadata": {},
   "outputs": [],
   "source": [
    "import numpy as np\n",
    "import pandas as pd\n",
    "import matplotlib.pyplot as plt\n",
    "\n",
    "from datetime import datetime\n",
    "from sklearn.metrics import accuracy_score\n",
    "from sklearn.model_selection import train_test_split\n",
    "from sklearn.preprocessing import StandardScaler, LabelEncoder"
   ]
  },
  {
   "cell_type": "markdown",
   "id": "loaded-omaha",
   "metadata": {},
   "source": [
    "### Data Collection and Labeling"
   ]
  },
  {
   "cell_type": "code",
   "execution_count": 2,
   "id": "grave-occurrence",
   "metadata": {},
   "outputs": [
    {
     "data": {
      "text/html": [
       "<div>\n",
       "<style scoped>\n",
       "    .dataframe tbody tr th:only-of-type {\n",
       "        vertical-align: middle;\n",
       "    }\n",
       "\n",
       "    .dataframe tbody tr th {\n",
       "        vertical-align: top;\n",
       "    }\n",
       "\n",
       "    .dataframe thead th {\n",
       "        text-align: right;\n",
       "    }\n",
       "</style>\n",
       "<table border=\"1\" class=\"dataframe\">\n",
       "  <thead>\n",
       "    <tr style=\"text-align: right;\">\n",
       "      <th></th>\n",
       "      <th>High</th>\n",
       "      <th>Low</th>\n",
       "      <th>Open</th>\n",
       "      <th>Close</th>\n",
       "      <th>Volume</th>\n",
       "      <th>Marketcap</th>\n",
       "    </tr>\n",
       "    <tr>\n",
       "      <th>Date</th>\n",
       "      <th></th>\n",
       "      <th></th>\n",
       "      <th></th>\n",
       "      <th></th>\n",
       "      <th></th>\n",
       "      <th></th>\n",
       "    </tr>\n",
       "  </thead>\n",
       "  <tbody>\n",
       "    <tr>\n",
       "      <th>2013-04-29</th>\n",
       "      <td>147.488007</td>\n",
       "      <td>134.000000</td>\n",
       "      <td>134.444000</td>\n",
       "      <td>144.539993</td>\n",
       "      <td>0.0</td>\n",
       "      <td>1.603769e+09</td>\n",
       "    </tr>\n",
       "    <tr>\n",
       "      <th>2013-04-30</th>\n",
       "      <td>146.929993</td>\n",
       "      <td>134.050003</td>\n",
       "      <td>144.000000</td>\n",
       "      <td>139.000000</td>\n",
       "      <td>0.0</td>\n",
       "      <td>1.542813e+09</td>\n",
       "    </tr>\n",
       "    <tr>\n",
       "      <th>2013-05-01</th>\n",
       "      <td>139.889999</td>\n",
       "      <td>107.720001</td>\n",
       "      <td>139.000000</td>\n",
       "      <td>116.989998</td>\n",
       "      <td>0.0</td>\n",
       "      <td>1.298955e+09</td>\n",
       "    </tr>\n",
       "    <tr>\n",
       "      <th>2013-05-02</th>\n",
       "      <td>125.599998</td>\n",
       "      <td>92.281898</td>\n",
       "      <td>116.379997</td>\n",
       "      <td>105.209999</td>\n",
       "      <td>0.0</td>\n",
       "      <td>1.168517e+09</td>\n",
       "    </tr>\n",
       "    <tr>\n",
       "      <th>2013-05-03</th>\n",
       "      <td>108.127998</td>\n",
       "      <td>79.099998</td>\n",
       "      <td>106.250000</td>\n",
       "      <td>97.750000</td>\n",
       "      <td>0.0</td>\n",
       "      <td>1.085995e+09</td>\n",
       "    </tr>\n",
       "  </tbody>\n",
       "</table>\n",
       "</div>"
      ],
      "text/plain": [
       "                  High         Low        Open       Close  Volume  \\\n",
       "Date                                                                 \n",
       "2013-04-29  147.488007  134.000000  134.444000  144.539993     0.0   \n",
       "2013-04-30  146.929993  134.050003  144.000000  139.000000     0.0   \n",
       "2013-05-01  139.889999  107.720001  139.000000  116.989998     0.0   \n",
       "2013-05-02  125.599998   92.281898  116.379997  105.209999     0.0   \n",
       "2013-05-03  108.127998   79.099998  106.250000   97.750000     0.0   \n",
       "\n",
       "               Marketcap  \n",
       "Date                      \n",
       "2013-04-29  1.603769e+09  \n",
       "2013-04-30  1.542813e+09  \n",
       "2013-05-01  1.298955e+09  \n",
       "2013-05-02  1.168517e+09  \n",
       "2013-05-03  1.085995e+09  "
      ]
     },
     "execution_count": 2,
     "metadata": {},
     "output_type": "execute_result"
    }
   ],
   "source": [
    "# Focus on Bitcoin Here\n",
    "\n",
    "coin_df = pd.read_csv('Data/coin_Bitcoin.csv')\n",
    "\n",
    "coin_df.index = pd.to_datetime(coin_df['Date']).dt.date\n",
    "coin_df.index = pd.DatetimeIndex(coin_df.index)\n",
    "\n",
    "# Not useful\n",
    "coin_df.drop('Date', axis=1, inplace=True)\n",
    "coin_df.drop('SNo', axis=1, inplace=True)\n",
    "coin_df.drop('Symbol', axis=1, inplace=True)\n",
    "coin_df.drop('Name', axis=1, inplace=True)\n",
    "\n",
    "coin_df.head()"
   ]
  },
  {
   "cell_type": "code",
   "execution_count": 3,
   "id": "limiting-johnston",
   "metadata": {},
   "outputs": [
    {
     "data": {
      "text/html": [
       "<div>\n",
       "<style scoped>\n",
       "    .dataframe tbody tr th:only-of-type {\n",
       "        vertical-align: middle;\n",
       "    }\n",
       "\n",
       "    .dataframe tbody tr th {\n",
       "        vertical-align: top;\n",
       "    }\n",
       "\n",
       "    .dataframe thead th {\n",
       "        text-align: right;\n",
       "    }\n",
       "</style>\n",
       "<table border=\"1\" class=\"dataframe\">\n",
       "  <thead>\n",
       "    <tr style=\"text-align: right;\">\n",
       "      <th></th>\n",
       "      <th>T10YIE</th>\n",
       "    </tr>\n",
       "    <tr>\n",
       "      <th>DATE</th>\n",
       "      <th></th>\n",
       "    </tr>\n",
       "  </thead>\n",
       "  <tbody>\n",
       "    <tr>\n",
       "      <th>2016-04-12</th>\n",
       "      <td>1.57</td>\n",
       "    </tr>\n",
       "    <tr>\n",
       "      <th>2016-04-13</th>\n",
       "      <td>1.56</td>\n",
       "    </tr>\n",
       "    <tr>\n",
       "      <th>2016-04-14</th>\n",
       "      <td>1.56</td>\n",
       "    </tr>\n",
       "    <tr>\n",
       "      <th>2016-04-15</th>\n",
       "      <td>1.56</td>\n",
       "    </tr>\n",
       "    <tr>\n",
       "      <th>2016-04-18</th>\n",
       "      <td>1.57</td>\n",
       "    </tr>\n",
       "  </tbody>\n",
       "</table>\n",
       "</div>"
      ],
      "text/plain": [
       "            T10YIE\n",
       "DATE              \n",
       "2016-04-12    1.57\n",
       "2016-04-13    1.56\n",
       "2016-04-14    1.56\n",
       "2016-04-15    1.56\n",
       "2016-04-18    1.57"
      ]
     },
     "execution_count": 3,
     "metadata": {},
     "output_type": "execute_result"
    }
   ],
   "source": [
    "# Focus on Inflation Here\n",
    "inflation_df = pd.read_csv('FRED_CPI_Datasets/T10YIE.csv')\n",
    "\n",
    "inflation_df.index = pd.to_datetime(inflation_df['DATE']).dt.date\n",
    "inflation_df.index = pd.DatetimeIndex(inflation_df.index)\n",
    "\n",
    "inflation_df['T10YIE'] = pd.to_numeric(inflation_df['T10YIE'],errors='coerce')\n",
    "# Not useful\n",
    "inflation_df.drop('DATE', axis=1, inplace=True)\n",
    "\n",
    "inflation_df.head()"
   ]
  },
  {
   "cell_type": "code",
   "execution_count": 4,
   "id": "going-recovery",
   "metadata": {},
   "outputs": [
    {
     "data": {
      "text/html": [
       "<div>\n",
       "<style scoped>\n",
       "    .dataframe tbody tr th:only-of-type {\n",
       "        vertical-align: middle;\n",
       "    }\n",
       "\n",
       "    .dataframe tbody tr th {\n",
       "        vertical-align: top;\n",
       "    }\n",
       "\n",
       "    .dataframe thead th {\n",
       "        text-align: right;\n",
       "    }\n",
       "</style>\n",
       "<table border=\"1\" class=\"dataframe\">\n",
       "  <thead>\n",
       "    <tr style=\"text-align: right;\">\n",
       "      <th></th>\n",
       "      <th>High</th>\n",
       "      <th>Low</th>\n",
       "      <th>Open</th>\n",
       "      <th>Close</th>\n",
       "      <th>Volume</th>\n",
       "      <th>Marketcap</th>\n",
       "      <th>Return</th>\n",
       "    </tr>\n",
       "    <tr>\n",
       "      <th>Date</th>\n",
       "      <th></th>\n",
       "      <th></th>\n",
       "      <th></th>\n",
       "      <th></th>\n",
       "      <th></th>\n",
       "      <th></th>\n",
       "      <th></th>\n",
       "    </tr>\n",
       "  </thead>\n",
       "  <tbody>\n",
       "    <tr>\n",
       "      <th>2013-04-30</th>\n",
       "      <td>146.929993</td>\n",
       "      <td>134.050003</td>\n",
       "      <td>144.000000</td>\n",
       "      <td>139.000000</td>\n",
       "      <td>0.0</td>\n",
       "      <td>1.542813e+09</td>\n",
       "      <td>-0.038328</td>\n",
       "    </tr>\n",
       "    <tr>\n",
       "      <th>2013-05-01</th>\n",
       "      <td>139.889999</td>\n",
       "      <td>107.720001</td>\n",
       "      <td>139.000000</td>\n",
       "      <td>116.989998</td>\n",
       "      <td>0.0</td>\n",
       "      <td>1.298955e+09</td>\n",
       "      <td>-0.158345</td>\n",
       "    </tr>\n",
       "    <tr>\n",
       "      <th>2013-05-02</th>\n",
       "      <td>125.599998</td>\n",
       "      <td>92.281898</td>\n",
       "      <td>116.379997</td>\n",
       "      <td>105.209999</td>\n",
       "      <td>0.0</td>\n",
       "      <td>1.168517e+09</td>\n",
       "      <td>-0.100692</td>\n",
       "    </tr>\n",
       "    <tr>\n",
       "      <th>2013-05-03</th>\n",
       "      <td>108.127998</td>\n",
       "      <td>79.099998</td>\n",
       "      <td>106.250000</td>\n",
       "      <td>97.750000</td>\n",
       "      <td>0.0</td>\n",
       "      <td>1.085995e+09</td>\n",
       "      <td>-0.070906</td>\n",
       "    </tr>\n",
       "    <tr>\n",
       "      <th>2013-05-04</th>\n",
       "      <td>115.000000</td>\n",
       "      <td>92.500000</td>\n",
       "      <td>98.099998</td>\n",
       "      <td>112.500000</td>\n",
       "      <td>0.0</td>\n",
       "      <td>1.250317e+09</td>\n",
       "      <td>0.150895</td>\n",
       "    </tr>\n",
       "  </tbody>\n",
       "</table>\n",
       "</div>"
      ],
      "text/plain": [
       "                  High         Low        Open       Close  Volume  \\\n",
       "Date                                                                 \n",
       "2013-04-30  146.929993  134.050003  144.000000  139.000000     0.0   \n",
       "2013-05-01  139.889999  107.720001  139.000000  116.989998     0.0   \n",
       "2013-05-02  125.599998   92.281898  116.379997  105.209999     0.0   \n",
       "2013-05-03  108.127998   79.099998  106.250000   97.750000     0.0   \n",
       "2013-05-04  115.000000   92.500000   98.099998  112.500000     0.0   \n",
       "\n",
       "               Marketcap    Return  \n",
       "Date                                \n",
       "2013-04-30  1.542813e+09 -0.038328  \n",
       "2013-05-01  1.298955e+09 -0.158345  \n",
       "2013-05-02  1.168517e+09 -0.100692  \n",
       "2013-05-03  1.085995e+09 -0.070906  \n",
       "2013-05-04  1.250317e+09  0.150895  "
      ]
     },
     "execution_count": 4,
     "metadata": {},
     "output_type": "execute_result"
    }
   ],
   "source": [
    "# Add a classification column. The class of each data point is determined by the percent change in close price\n",
    "# day by day\n",
    "coin_df['Return'] = coin_df['Close'].pct_change()\n",
    "# First row in df has NaN 'return' since there is no previous day\n",
    "coin_df.drop(coin_df.index[0], inplace=True)\n",
    "coin_df.head()"
   ]
  },
  {
   "cell_type": "code",
   "execution_count": 5,
   "id": "rational-asthma",
   "metadata": {
    "scrolled": true
   },
   "outputs": [
    {
     "data": {
      "text/html": [
       "<div>\n",
       "<style scoped>\n",
       "    .dataframe tbody tr th:only-of-type {\n",
       "        vertical-align: middle;\n",
       "    }\n",
       "\n",
       "    .dataframe tbody tr th {\n",
       "        vertical-align: top;\n",
       "    }\n",
       "\n",
       "    .dataframe thead th {\n",
       "        text-align: right;\n",
       "    }\n",
       "</style>\n",
       "<table border=\"1\" class=\"dataframe\">\n",
       "  <thead>\n",
       "    <tr style=\"text-align: right;\">\n",
       "      <th></th>\n",
       "      <th>T10YIE</th>\n",
       "      <th>BTC_Return</th>\n",
       "    </tr>\n",
       "    <tr>\n",
       "      <th>DATE</th>\n",
       "      <th></th>\n",
       "      <th></th>\n",
       "    </tr>\n",
       "  </thead>\n",
       "  <tbody>\n",
       "    <tr>\n",
       "      <th>2016-04-13</th>\n",
       "      <td>1.56</td>\n",
       "      <td>-1.534438</td>\n",
       "    </tr>\n",
       "    <tr>\n",
       "      <th>2016-04-14</th>\n",
       "      <td>1.56</td>\n",
       "      <td>-1.377671</td>\n",
       "    </tr>\n",
       "    <tr>\n",
       "      <th>2016-04-15</th>\n",
       "      <td>1.56</td>\n",
       "      <td>8.897708</td>\n",
       "    </tr>\n",
       "    <tr>\n",
       "      <th>2016-04-18</th>\n",
       "      <td>1.57</td>\n",
       "      <td>-1.378463</td>\n",
       "    </tr>\n",
       "    <tr>\n",
       "      <th>2016-04-19</th>\n",
       "      <td>1.60</td>\n",
       "      <td>4.787469</td>\n",
       "    </tr>\n",
       "  </tbody>\n",
       "</table>\n",
       "</div>"
      ],
      "text/plain": [
       "            T10YIE  BTC_Return\n",
       "DATE                          \n",
       "2016-04-13    1.56   -1.534438\n",
       "2016-04-14    1.56   -1.377671\n",
       "2016-04-15    1.56    8.897708\n",
       "2016-04-18    1.57   -1.378463\n",
       "2016-04-19    1.60    4.787469"
      ]
     },
     "execution_count": 5,
     "metadata": {},
     "output_type": "execute_result"
    }
   ],
   "source": [
    "# Add a classification column. The class of each data point is determined by the percent change in close price\n",
    "# day by day\n",
    "inflation_df['BTC_Return'] = coin_df['Return'].pct_change()\n",
    "#inflation_df['Return'] = pd.to_numeric(inflation_df['Return'],errors='coerce')\n",
    "# First row in df has NaN 'return' since there is no previous day\n",
    "inflation_df.drop(inflation_df.index[0], inplace=True)\n",
    "inflation_df.head()"
   ]
  },
  {
   "cell_type": "markdown",
   "id": "subsequent-detective",
   "metadata": {},
   "source": [
    "### Data Visualization"
   ]
  },
  {
   "cell_type": "code",
   "execution_count": 6,
   "id": "extraordinary-threat",
   "metadata": {
    "scrolled": true
   },
   "outputs": [
    {
     "data": {
      "image/png": "[encoded data removed]",
      "text/plain": [
       "<Figure size 864x432 with 2 Axes>"
      ]
     },
     "metadata": {
      "needs_background": "light"
     },
     "output_type": "display_data"
    }
   ],
   "source": [
    "# A basic visualization of Date vs the inflation_df columns\n",
    "fig = plt.figure(figsize=(12, 6))\n",
    "\n",
    "# Inflation over time\n",
    "high_axis = fig.add_subplot(3, 3, 1)\n",
    "high_axis.plot(inflation_df.index, inflation_df['T10YIE'])\n",
    "high_axis.set_title('Inflation Price Over Time')\n",
    "high_axis.set_xlabel('Date')\n",
    "high_axis.set_ylabel('Inflation Price')\n",
    "\n",
    "\n",
    "\n",
    "# Return over time\n",
    "return_axis = fig.add_subplot(3, 3, 2)\n",
    "return_axis.plot(inflation_df.index, inflation_df['BTC_Return'])\n",
    "return_axis.set_title('Bitcoin Percent Return Over Time')\n",
    "return_axis.set_xlabel('Date')\n",
    "return_axis.set_ylabel('Bitcoin Percent Return')\n",
    "\n",
    "plt.tight_layout()\n",
    "plt.show()"
   ]
  },
  {
   "cell_type": "markdown",
   "id": "solar-protection",
   "metadata": {},
   "source": [
    "---"
   ]
  },
  {
   "cell_type": "markdown",
   "id": "corrected-scheduling",
   "metadata": {},
   "source": [
    "### Class Assignment"
   ]
  },
  {
   "cell_type": "code",
   "execution_count": 7,
   "id": "sealed-honduras",
   "metadata": {},
   "outputs": [
    {
     "data": {
      "text/html": [
       "<div>\n",
       "<style scoped>\n",
       "    .dataframe tbody tr th:only-of-type {\n",
       "        vertical-align: middle;\n",
       "    }\n",
       "\n",
       "    .dataframe tbody tr th {\n",
       "        vertical-align: top;\n",
       "    }\n",
       "\n",
       "    .dataframe thead th {\n",
       "        text-align: right;\n",
       "    }\n",
       "</style>\n",
       "<table border=\"1\" class=\"dataframe\">\n",
       "  <thead>\n",
       "    <tr style=\"text-align: right;\">\n",
       "      <th></th>\n",
       "      <th>T10YIE</th>\n",
       "      <th>BTC_Return</th>\n",
       "    </tr>\n",
       "    <tr>\n",
       "      <th>DATE</th>\n",
       "      <th></th>\n",
       "      <th></th>\n",
       "    </tr>\n",
       "  </thead>\n",
       "  <tbody>\n",
       "    <tr>\n",
       "      <th>2016-04-13</th>\n",
       "      <td>1.56</td>\n",
       "      <td>very bad</td>\n",
       "    </tr>\n",
       "    <tr>\n",
       "      <th>2016-04-14</th>\n",
       "      <td>1.56</td>\n",
       "      <td>very bad</td>\n",
       "    </tr>\n",
       "    <tr>\n",
       "      <th>2016-04-15</th>\n",
       "      <td>1.56</td>\n",
       "      <td>very good</td>\n",
       "    </tr>\n",
       "    <tr>\n",
       "      <th>2016-04-18</th>\n",
       "      <td>1.57</td>\n",
       "      <td>very bad</td>\n",
       "    </tr>\n",
       "    <tr>\n",
       "      <th>2016-04-19</th>\n",
       "      <td>1.60</td>\n",
       "      <td>very good</td>\n",
       "    </tr>\n",
       "  </tbody>\n",
       "</table>\n",
       "</div>"
      ],
      "text/plain": [
       "            T10YIE BTC_Return\n",
       "DATE                         \n",
       "2016-04-13    1.56   very bad\n",
       "2016-04-14    1.56   very bad\n",
       "2016-04-15    1.56  very good\n",
       "2016-04-18    1.57   very bad\n",
       "2016-04-19    1.60  very good"
      ]
     },
     "execution_count": 7,
     "metadata": {},
     "output_type": "execute_result"
    }
   ],
   "source": [
    "def get_sentiment(return_value):\n",
    "    if return_value >= 0.10:\n",
    "        return 'very good'\n",
    "    elif return_value > 0 and return_value < 0.10:\n",
    "        return 'good'\n",
    "    elif return_value <= 0 and return_value > -0.10:\n",
    "        return 'bad'\n",
    "    elif return_value <= -0.10:\n",
    "        return 'very bad'\n",
    "    else:\n",
    "        return None\n",
    "# Replace Return column with label\n",
    "inflation_df['BTC_Return'] = [get_sentiment(return_value) for return_value in inflation_df['BTC_Return']]\n",
    "inflation_df.dropna(inplace=True)\n",
    "inflation_df.head()"
   ]
  },
  {
   "cell_type": "code",
   "execution_count": 8,
   "id": "charged-cream",
   "metadata": {},
   "outputs": [
    {
     "name": "stdout",
     "output_type": "stream",
     "text": [
      "{'very bad': 879, 'very good': 295, 'good': 19, 'bad': 26}\n"
     ]
    }
   ],
   "source": [
    "# We are faced with a new problem: Class Imbalance. This will be addressed in the next section\n",
    "inflation_class_counts = {}\n",
    "for class_ in inflation_df['BTC_Return']:\n",
    "    inflation_class_counts[class_] = inflation_class_counts.get(class_, 0) + 1\n",
    "print(inflation_class_counts)"
   ]
  },
  {
   "cell_type": "markdown",
   "id": "ahead-reproduction",
   "metadata": {},
   "source": [
    "---"
   ]
  },
  {
   "cell_type": "markdown",
   "id": "rural-detail",
   "metadata": {},
   "source": [
    "### Model Evaluation/Parameter Tuning\n",
    "\n",
    "In the next few code blocks, we deal with Class Imbalance issues, and evaluate multiple models with fine-tuned parameters."
   ]
  },
  {
   "cell_type": "code",
   "execution_count": 9,
   "id": "appropriate-yemen",
   "metadata": {},
   "outputs": [],
   "source": [
    "# To decide on the best model, we should fine tune the parameters of the models in consideration to see\n",
    "# the best performances of our models.\n",
    "\n",
    "# Because Bitcoin prices can be very volatile with plenty of outliers,\n",
    "# we use RobustScaler\n",
    "from sklearn.preprocessing import RobustScaler\n",
    "from sklearn.model_selection import GridSearchCV\n",
    "\n",
    "X = inflation_df[['T10YIE']]\n",
    "y = inflation_df['BTC_Return']\n",
    "\n",
    "X_train, X_test, y_train, y_test = train_test_split(X, y, test_size=0.3, random_state=101)\n",
    "\n",
    "transformer = RobustScaler().fit(X_train)\n",
    "X_train = transformer.transform(X_train)\n",
    "X_test = transformer.transform(X_test)"
   ]
  },
  {
   "cell_type": "code",
   "execution_count": 10,
   "id": "turkish-america",
   "metadata": {},
   "outputs": [
    {
     "data": {
      "text/html": [
       "<div>\n",
       "<style scoped>\n",
       "    .dataframe tbody tr th:only-of-type {\n",
       "        vertical-align: middle;\n",
       "    }\n",
       "\n",
       "    .dataframe tbody tr th {\n",
       "        vertical-align: top;\n",
       "    }\n",
       "\n",
       "    .dataframe thead th {\n",
       "        text-align: right;\n",
       "    }\n",
       "</style>\n",
       "<table border=\"1\" class=\"dataframe\">\n",
       "  <thead>\n",
       "    <tr style=\"text-align: right;\">\n",
       "      <th></th>\n",
       "      <th>T10YIE</th>\n",
       "      <th>BTC_Return</th>\n",
       "    </tr>\n",
       "    <tr>\n",
       "      <th>DATE</th>\n",
       "      <th></th>\n",
       "      <th></th>\n",
       "    </tr>\n",
       "  </thead>\n",
       "  <tbody>\n",
       "    <tr>\n",
       "      <th>2016-04-13</th>\n",
       "      <td>1.56</td>\n",
       "      <td>very bad</td>\n",
       "    </tr>\n",
       "    <tr>\n",
       "      <th>2016-04-14</th>\n",
       "      <td>1.56</td>\n",
       "      <td>very bad</td>\n",
       "    </tr>\n",
       "    <tr>\n",
       "      <th>2016-04-15</th>\n",
       "      <td>1.56</td>\n",
       "      <td>very good</td>\n",
       "    </tr>\n",
       "    <tr>\n",
       "      <th>2016-04-18</th>\n",
       "      <td>1.57</td>\n",
       "      <td>very bad</td>\n",
       "    </tr>\n",
       "    <tr>\n",
       "      <th>2016-04-19</th>\n",
       "      <td>1.60</td>\n",
       "      <td>very good</td>\n",
       "    </tr>\n",
       "    <tr>\n",
       "      <th>...</th>\n",
       "      <td>...</td>\n",
       "      <td>...</td>\n",
       "    </tr>\n",
       "    <tr>\n",
       "      <th>2021-02-22</th>\n",
       "      <td>2.16</td>\n",
       "      <td>very bad</td>\n",
       "    </tr>\n",
       "    <tr>\n",
       "      <th>2021-02-23</th>\n",
       "      <td>2.16</td>\n",
       "      <td>very good</td>\n",
       "    </tr>\n",
       "    <tr>\n",
       "      <th>2021-02-24</th>\n",
       "      <td>2.17</td>\n",
       "      <td>very bad</td>\n",
       "    </tr>\n",
       "    <tr>\n",
       "      <th>2021-02-25</th>\n",
       "      <td>2.14</td>\n",
       "      <td>very bad</td>\n",
       "    </tr>\n",
       "    <tr>\n",
       "      <th>2021-02-26</th>\n",
       "      <td>2.15</td>\n",
       "      <td>very bad</td>\n",
       "    </tr>\n",
       "  </tbody>\n",
       "</table>\n",
       "<p>1219 rows × 2 columns</p>\n",
       "</div>"
      ],
      "text/plain": [
       "            T10YIE BTC_Return\n",
       "DATE                         \n",
       "2016-04-13    1.56   very bad\n",
       "2016-04-14    1.56   very bad\n",
       "2016-04-15    1.56  very good\n",
       "2016-04-18    1.57   very bad\n",
       "2016-04-19    1.60  very good\n",
       "...            ...        ...\n",
       "2021-02-22    2.16   very bad\n",
       "2021-02-23    2.16  very good\n",
       "2021-02-24    2.17   very bad\n",
       "2021-02-25    2.14   very bad\n",
       "2021-02-26    2.15   very bad\n",
       "\n",
       "[1219 rows x 2 columns]"
      ]
     },
     "execution_count": 10,
     "metadata": {},
     "output_type": "execute_result"
    }
   ],
   "source": [
    "inflation_df.dropna(0)"
   ]
  },
  {
   "cell_type": "markdown",
   "id": "irish-float",
   "metadata": {},
   "source": [
    "### Class Imbalance\n",
    "\n",
    "As we saw above, the number of \"good\" vs \"bad\" data points heavily outweigh the \"very good\" and \"very bad\" data points. In the next cell, we attempt to assign class weights to account for this disparity."
   ]
  },
  {
   "cell_type": "code",
   "execution_count": 12,
   "id": "assumed-parts",
   "metadata": {
    "scrolled": true
   },
   "outputs": [
    {
     "name": "stdout",
     "output_type": "stream",
     "text": [
      "{'bad': 12.544117647058824, 'good': 23.694444444444443, 'very bad': 0.3384920634920635, 'very good': 1.08248730964467}\n"
     ]
    }
   ],
   "source": [
    "# We should now deal with the issue of class_weights\n",
    "from sklearn.utils import class_weight\n",
    "labels = np.unique(y_train)\n",
    "class_weights = dict(zip(labels, class_weight.compute_class_weight('balanced', classes=labels, y=y_train)))\n",
    "print(class_weights)"
   ]
  },
  {
   "cell_type": "markdown",
   "id": "rubber-thirty",
   "metadata": {},
   "source": [
    "### Logistic Regression Evaluation"
   ]
  },
  {
   "cell_type": "code",
   "execution_count": 13,
   "id": "bright-japan",
   "metadata": {},
   "outputs": [
    {
     "name": "stdout",
     "output_type": "stream",
     "text": [
      "Best grid score: 0.23\n",
      "Grid test score: 0.38\n",
      "Best grid parameters: {'C': 1}\n"
     ]
    }
   ],
   "source": [
    "# Logistic Regression Parameter Tuning\n",
    "from sklearn.linear_model import LogisticRegression\n",
    "param_grid = {  'C': [0.001, 0.01, 0.1, 1, 10, 100, 1000]\n",
    "                }\n",
    "\n",
    "lr = LogisticRegression(max_iter=2000, class_weight=class_weights)\n",
    "grid = GridSearchCV(lr, param_grid)\n",
    "grid.fit(X_train, y_train)\n",
    "# lr_pred = lr.predict(X_test)\n",
    "# print('Logistic Reg Score: {:.2f}'.format(lr.score(X_test, y_test)))\n",
    "print(\"Best grid score: {:.2f}\".format(grid.best_score_))\n",
    "print(\"Grid test score: {:.2f}\".format(grid.score(X_test, y_test)))\n",
    "print(\"Best grid parameters: {}\".format(grid.best_params_))\n",
    "lr_best_params = grid.best_params_"
   ]
  },
  {
   "cell_type": "markdown",
   "id": "resistant-platinum",
   "metadata": {},
   "source": [
    "### Decision Tree Evaluation"
   ]
  },
  {
   "cell_type": "code",
   "execution_count": 14,
   "id": "alpine-north",
   "metadata": {},
   "outputs": [
    {
     "name": "stdout",
     "output_type": "stream",
     "text": [
      "Best grid score: 0.41\n",
      "Grid test score: 0.35\n",
      "Best grid parameters: {'criterion': 'gini', 'max_depth': 18}\n"
     ]
    }
   ],
   "source": [
    "# Decision Tree Parameter Tuning\n",
    "from sklearn.tree import DecisionTreeClassifier\n",
    "n_components = list(range(1,X.shape[1]+1,1))\n",
    "criterion = ['gini', 'entropy']\n",
    "max_depth = [2,4,6,8,10,12]\n",
    "param_grid = {\n",
    "    'criterion': ['gini', 'entropy'],\n",
    "    'max_depth': [2,4,6,8,10,12,14,16,18,20,25,30,40,50,70]\n",
    "}\n",
    "dt = DecisionTreeClassifier(class_weight=class_weights)\n",
    "grid = GridSearchCV(dt, param_grid)\n",
    "grid.fit(X_train, y_train)\n",
    "print(\"Best grid score: {:.2f}\".format(grid.best_score_))\n",
    "print(\"Grid test score: {:.2f}\".format(grid.score(X_test, y_test)))\n",
    "print(\"Best grid parameters: {}\".format(grid.best_params_))\n",
    "dt_best_params = grid.best_params_"
   ]
  },
  {
   "cell_type": "markdown",
   "id": "ongoing-anthropology",
   "metadata": {},
   "source": [
    "### KNN Evaluation"
   ]
  },
  {
   "cell_type": "code",
   "execution_count": 15,
   "id": "lonely-royal",
   "metadata": {},
   "outputs": [
    {
     "name": "stdout",
     "output_type": "stream",
     "text": [
      "Best grid score: 0.74\n",
      "Grid test score: 0.67\n",
      "Best grid parameters: {'metric': 'euclidean', 'n_neighbors': 11, 'weights': 'uniform'}\n"
     ]
    }
   ],
   "source": [
    "# K-Nearest Neighbors Parameter Tuning\n",
    "from sklearn.neighbors import KNeighborsClassifier\n",
    "param_grid = {\n",
    "    'n_neighbors': [3, 5, 11, 19],\n",
    "    'weights': ['uniform', 'distance'],\n",
    "    'metric': ['euclidean', 'manhattan']\n",
    "}\n",
    "knn = KNeighborsClassifier() # No class_weight param\n",
    "grid = GridSearchCV(knn, param_grid)\n",
    "grid.fit(X_train, y_train)\n",
    "print(\"Best grid score: {:.2f}\".format(grid.best_score_))\n",
    "print(\"Grid test score: {:.2f}\".format(grid.score(X_test, y_test)))\n",
    "print(\"Best grid parameters: {}\".format(grid.best_params_))\n",
    "knn_best_params = grid.best_params_"
   ]
  },
  {
   "cell_type": "markdown",
   "id": "serious-algeria",
   "metadata": {},
   "source": [
    "### SVC Evaluation"
   ]
  },
  {
   "cell_type": "code",
   "execution_count": 16,
   "id": "polish-habitat",
   "metadata": {
    "scrolled": true
   },
   "outputs": [
    {
     "name": "stdout",
     "output_type": "stream",
     "text": [
      "Best grid score: 0.26\n",
      "Grid test score: 0.18\n",
      "Best grid parameters: {'C': 100, 'gamma': 1, 'kernel': 'rbf'}\n"
     ]
    }
   ],
   "source": [
    "# SVC Parameter Tuning\n",
    "from sklearn.svm import SVC\n",
    "param_grid = {\n",
    "    'C':[1,10,100,1000],\n",
    "    'gamma':[1,0.1,0.001,0.0001],\n",
    "    'kernel':['linear','rbf']\n",
    "}\n",
    "svc = SVC(class_weight=class_weights)\n",
    "grid = GridSearchCV(svc, param_grid)\n",
    "grid.fit(X_train, y_train)\n",
    "print(\"Best grid score: {:.2f}\".format(grid.best_score_))\n",
    "print(\"Grid test score: {:.2f}\".format(grid.score(X_test, y_test)))\n",
    "print(\"Best grid parameters: {}\".format(grid.best_params_))\n",
    "svc_best_params = grid.best_params_"
   ]
  },
  {
   "cell_type": "markdown",
   "id": "unique-wings",
   "metadata": {},
   "source": [
    "### Retraining with Best Parameters"
   ]
  },
  {
   "cell_type": "code",
   "execution_count": 17,
   "id": "burning-printer",
   "metadata": {},
   "outputs": [
    {
     "name": "stdout",
     "output_type": "stream",
     "text": [
      "Logistic Regression Score: 0.38\n",
      "Decision Tree Score: 0.35\n",
      "KNN Score: 0.67\n",
      "SVC Score: 0.18\n"
     ]
    }
   ],
   "source": [
    "# Let's retrain the models using the fine-tuned parameters found\n",
    "# so we can examine the confusion matrix and scoring report and make a conclusion.\n",
    "lr = LogisticRegression(max_iter=2000, C=lr_best_params['C'], class_weight=class_weights)\n",
    "lr.fit(X_train, y_train)\n",
    "lr_pred = lr.predict(X_test)\n",
    "print('Logistic Regression Score: {:.2f}'.format(lr.score(X_test, y_test)))\n",
    "\n",
    "dt = DecisionTreeClassifier(criterion=dt_best_params['criterion'], max_depth=dt_best_params['max_depth'], class_weight=class_weights)\n",
    "dt.fit(X_train, y_train)\n",
    "dt_pred = dt.predict(X_test)\n",
    "print('Decision Tree Score: {:.2f}'.format(dt.score(X_test, y_test)))\n",
    "\n",
    "knn = KNeighborsClassifier(metric=knn_best_params['metric'], n_neighbors=knn_best_params['n_neighbors'], weights=knn_best_params['weights'])\n",
    "knn.fit(X_train, y_train)\n",
    "knn_pred = knn.predict(X_test)\n",
    "print('KNN Score: {:.2f}'.format(knn.score(X_test, y_test)))\n",
    "\n",
    "svc = SVC(C=svc_best_params['C'], gamma=svc_best_params['gamma'], kernel=svc_best_params['kernel'], class_weight=class_weights)\n",
    "svc.fit(X_train, y_train)\n",
    "svc_pred = svc.predict(X_test)\n",
    "print('SVC Score: {:.2f}'.format(svc.score(X_test, y_test)))"
   ]
  },
  {
   "cell_type": "markdown",
   "id": "rocky-prime",
   "metadata": {},
   "source": [
    "---"
   ]
  },
  {
   "cell_type": "markdown",
   "id": "first-section",
   "metadata": {},
   "source": [
    "### Score Reporting\n",
    "\n",
    "Here, we take a closer look at the performance of our models, as raw accuracy is often not a great indicator."
   ]
  },
  {
   "cell_type": "markdown",
   "id": "confidential-discount",
   "metadata": {},
   "source": [
    "### Confusion Matrices"
   ]
  },
  {
   "cell_type": "code",
   "execution_count": 18,
   "id": "handmade-korean",
   "metadata": {
    "scrolled": false
   },
   "outputs": [
    {
     "name": "stdout",
     "output_type": "stream",
     "text": [
      "Logistic Regression Confusion Matrix:\n",
      "           Bad  Good  Very Good  Very Bad\n",
      "Bad          4     0          5         0\n",
      "Good         1     1          8         0\n",
      "Very Good  108     3        132         6\n",
      "Very Bad    48     4         43         3 \n",
      "\n",
      "Decision Tree Classifier Confusion Matrix:\n",
      "           Bad  Good  Very Good  Very Bad\n",
      "Bad          2     2          3         2\n",
      "Good         2     1          5         2\n",
      "Very Good   39    26         92        92\n",
      "Very Bad    18     2         44        34 \n",
      "\n",
      "KNN Classifier Confusion Matrix:\n",
      "           Bad  Good  Very Good  Very Bad\n",
      "Bad          0     0          9         0\n",
      "Good         0     0          9         1\n",
      "Very Good    0     0        242         7\n",
      "Very Bad     0     0         96         2 \n",
      "\n",
      "SVC Classifier Confusion Matrix:\n",
      "           Bad  Good  Very Good  Very Bad\n",
      "Bad          3     1          2         3\n",
      "Good         2     1          3         4\n",
      "Very Good   79    75         48        47\n",
      "Very Bad    34    33         18        13 \n",
      "\n"
     ]
    }
   ],
   "source": [
    "from sklearn.metrics import confusion_matrix\n",
    "labels = [\"Bad\", \"Good\", \"Very Good\", \"Very Bad\"]\n",
    "print(\"Logistic Regression Confusion Matrix:\")\n",
    "print(pd.DataFrame(confusion_matrix(y_test, lr_pred), index=labels, columns=labels), '\\n')\n",
    "print(\"Decision Tree Classifier Confusion Matrix:\")\n",
    "print(pd.DataFrame(confusion_matrix(y_test, dt_pred), index=labels, columns=labels), '\\n')\n",
    "print(\"KNN Classifier Confusion Matrix:\")\n",
    "print(pd.DataFrame(confusion_matrix(y_test, knn_pred), index=labels, columns=labels), '\\n')\n",
    "print(\"SVC Classifier Confusion Matrix:\")\n",
    "print(pd.DataFrame(confusion_matrix(y_test, svc_pred), index=labels, columns=labels), '\\n')"
   ]
  },
  {
   "cell_type": "markdown",
   "id": "entire-stupid",
   "metadata": {},
   "source": [
    "### Classification Reports (f1-score, precision, accuracy, etc.)"
   ]
  },
  {
   "cell_type": "code",
   "execution_count": 19,
   "id": "photographic-affiliate",
   "metadata": {
    "scrolled": false
   },
   "outputs": [
    {
     "name": "stdout",
     "output_type": "stream",
     "text": [
      "Logistic Regression Classification Report:\n",
      "              precision    recall  f1-score   support\n",
      "\n",
      "         bad       0.02      0.44      0.05         9\n",
      "        good       0.12      0.10      0.11        10\n",
      "    very bad       0.70      0.53      0.60       249\n",
      "   very good       0.33      0.03      0.06        98\n",
      "\n",
      "    accuracy                           0.38       366\n",
      "   macro avg       0.30      0.28      0.20       366\n",
      "weighted avg       0.57      0.38      0.43       366\n",
      " \n",
      "\n",
      "Decision Tree Classifier Classification Report:\n",
      "              precision    recall  f1-score   support\n",
      "\n",
      "         bad       0.03      0.22      0.06         9\n",
      "        good       0.03      0.10      0.05        10\n",
      "    very bad       0.64      0.37      0.47       249\n",
      "   very good       0.26      0.35      0.30        98\n",
      "\n",
      "    accuracy                           0.35       366\n",
      "   macro avg       0.24      0.26      0.22       366\n",
      "weighted avg       0.51      0.35      0.40       366\n",
      " \n",
      "\n",
      "KNN Classifier Classification Report:\n",
      "              precision    recall  f1-score   support\n",
      "\n",
      "         bad       0.00      0.00      0.00         9\n",
      "        good       0.00      0.00      0.00        10\n",
      "    very bad       0.68      0.97      0.80       249\n",
      "   very good       0.20      0.02      0.04        98\n",
      "\n",
      "    accuracy                           0.67       366\n",
      "   macro avg       0.22      0.25      0.21       366\n",
      "weighted avg       0.52      0.67      0.55       366\n",
      " \n",
      "\n",
      "SVC Classifier Classification Report:\n",
      "              precision    recall  f1-score   support\n",
      "\n",
      "         bad       0.03      0.33      0.05         9\n",
      "        good       0.01      0.10      0.02        10\n",
      "    very bad       0.68      0.19      0.30       249\n",
      "   very good       0.19      0.13      0.16        98\n",
      "\n",
      "    accuracy                           0.18       366\n",
      "   macro avg       0.23      0.19      0.13       366\n",
      "weighted avg       0.51      0.18      0.25       366\n",
      " \n",
      "\n"
     ]
    },
    {
     "name": "stderr",
     "output_type": "stream",
     "text": [
      "/Users/caleb/jupyter/lib/python3.8/site-packages/sklearn/metrics/_classification.py:1245: UndefinedMetricWarning: Precision and F-score are ill-defined and being set to 0.0 in labels with no predicted samples. Use `zero_division` parameter to control this behavior.\n",
      "  _warn_prf(average, modifier, msg_start, len(result))\n",
      "/Users/caleb/jupyter/lib/python3.8/site-packages/sklearn/metrics/_classification.py:1245: UndefinedMetricWarning: Precision and F-score are ill-defined and being set to 0.0 in labels with no predicted samples. Use `zero_division` parameter to control this behavior.\n",
      "  _warn_prf(average, modifier, msg_start, len(result))\n",
      "/Users/caleb/jupyter/lib/python3.8/site-packages/sklearn/metrics/_classification.py:1245: UndefinedMetricWarning: Precision and F-score are ill-defined and being set to 0.0 in labels with no predicted samples. Use `zero_division` parameter to control this behavior.\n",
      "  _warn_prf(average, modifier, msg_start, len(result))\n"
     ]
    }
   ],
   "source": [
    "from sklearn.metrics import classification_report\n",
    "print(\"Logistic Regression Classification Report:\")\n",
    "print(classification_report(y_test, lr_pred), '\\n')\n",
    "print(\"Decision Tree Classifier Classification Report:\")\n",
    "print(classification_report(y_test, dt_pred), '\\n')\n",
    "print(\"KNN Classifier Classification Report:\")\n",
    "print(classification_report(y_test, knn_pred), '\\n')\n",
    "print(\"SVC Classifier Classification Report:\")\n",
    "print(classification_report(y_test, svc_pred), '\\n')"
   ]
  },
  {
   "cell_type": "markdown",
   "id": "wooden-northeast",
   "metadata": {},
   "source": [
    "### Interpretation of Evaluation"
   ]
  },
  {
   "cell_type": "markdown",
   "id": "outer-dating",
   "metadata": {},
   "source": [
    "The confusion matrices and the classification reports above give us more insight into the performance of the models. From lecture, \"When the skew in the class distributions are severe, accuracy can become an unreliable measure of model performance\". This is apparent here due to the disproportion between \"bad\" and \"good\" data points vs. \"very bad\" and \"very good\" data points.\n",
    "\n",
    "Looking at the metrics for our **LogisticRegression** model, we see from the confusion matrix that its accuracy is not all due to the correct \"good\" and \"bad\" classifications. However, when we examing the classification report, we see that the f1-scores are not ideal. This is due to the fact that while we have the maximum recall, we have a low precision. This is a con of this model that needs to be considered.\n",
    "\n",
    "We can safely eliminate the **DecisionTreeClassifier** and the **KNeighborsClassifier** from our candidate models as they are unable to have any success in predicting the two classes with the fewest data points. This is supported by their respective classification reports.\n",
    "\n",
    "Finally, we have the **SVC Classifier**. This classifier's performance is up-to-par with our **LogisticRegression** classifier (which is the best model seen thus far). "
   ]
  },
  {
   "cell_type": "markdown",
   "id": "iraqi-russia",
   "metadata": {},
   "source": [
    "---"
   ]
  },
  {
   "cell_type": "markdown",
   "id": "personal-region",
   "metadata": {},
   "source": [
    "While we observed a drop in accuracy with the selected features, this is necessarily always a bad sign. We want to avoid overfitting, and too many features may contribute to this. While we did notice a slight drop in f1-scores, we believe that this is a consequence of our model not overfitting as much."
   ]
  },
  {
   "cell_type": "markdown",
   "id": "diverse-tolerance",
   "metadata": {},
   "source": [
    "---"
   ]
  }
 ],
 "metadata": {
  "kernelspec": {
   "display_name": "Python 3",
   "language": "python",
   "name": "python3"
  },
  "language_info": {
   "codemirror_mode": {
    "name": "ipython",
    "version": 3
   },
   "file_extension": ".py",
   "mimetype": "text/x-python",
   "name": "python",
   "nbconvert_exporter": "python",
   "pygments_lexer": "ipython3",
   "version": "3.8.6"
  }
 },
 "nbformat": 4,
 "nbformat_minor": 5
}
