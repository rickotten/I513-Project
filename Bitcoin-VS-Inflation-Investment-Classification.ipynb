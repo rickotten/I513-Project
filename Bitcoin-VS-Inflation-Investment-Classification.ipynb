{
 "cells": [
  {
   "cell_type": "markdown",
   "id": "compatible-nigeria",
   "metadata": {},
   "source": [
    "### Using Bitcoin's Historical Data to Predict Investment Return\n",
    "\n",
    "In this analysis, we attempt to examine Bitcoin's historical data and determine if such data can be used to predict return on future Bitcoin investments."
   ]
  },
  {
   "cell_type": "code",
   "execution_count": 1,
   "id": "accepting-routine",
   "metadata": {},
   "outputs": [],
   "source": [
    "import numpy as np\n",
    "import pandas as pd\n",
    "import matplotlib.pyplot as plt\n",
    "\n",
    "from datetime import datetime\n",
    "from sklearn.metrics import accuracy_score\n",
    "from sklearn.model_selection import train_test_split\n",
    "from sklearn.preprocessing import StandardScaler, LabelEncoder"
   ]
  },
  {
   "cell_type": "markdown",
   "id": "loaded-omaha",
   "metadata": {},
   "source": [
    "### Data Collection and Labeling"
   ]
  },
  {
   "cell_type": "code",
   "execution_count": 2,
   "id": "grave-occurrence",
   "metadata": {},
   "outputs": [
    {
     "data": {
      "text/html": [
       "<div>\n",
       "<style scoped>\n",
       "    .dataframe tbody tr th:only-of-type {\n",
       "        vertical-align: middle;\n",
       "    }\n",
       "\n",
       "    .dataframe tbody tr th {\n",
       "        vertical-align: top;\n",
       "    }\n",
       "\n",
       "    .dataframe thead th {\n",
       "        text-align: right;\n",
       "    }\n",
       "</style>\n",
       "<table border=\"1\" class=\"dataframe\">\n",
       "  <thead>\n",
       "    <tr style=\"text-align: right;\">\n",
       "      <th></th>\n",
       "      <th>High</th>\n",
       "      <th>Low</th>\n",
       "      <th>Open</th>\n",
       "      <th>Close</th>\n",
       "      <th>Volume</th>\n",
       "      <th>Marketcap</th>\n",
       "    </tr>\n",
       "    <tr>\n",
       "      <th>Date</th>\n",
       "      <th></th>\n",
       "      <th></th>\n",
       "      <th></th>\n",
       "      <th></th>\n",
       "      <th></th>\n",
       "      <th></th>\n",
       "    </tr>\n",
       "  </thead>\n",
       "  <tbody>\n",
       "    <tr>\n",
       "      <th>2013-04-29</th>\n",
       "      <td>147.488007</td>\n",
       "      <td>134.000000</td>\n",
       "      <td>134.444000</td>\n",
       "      <td>144.539993</td>\n",
       "      <td>0.0</td>\n",
       "      <td>1.603769e+09</td>\n",
       "    </tr>\n",
       "    <tr>\n",
       "      <th>2013-04-30</th>\n",
       "      <td>146.929993</td>\n",
       "      <td>134.050003</td>\n",
       "      <td>144.000000</td>\n",
       "      <td>139.000000</td>\n",
       "      <td>0.0</td>\n",
       "      <td>1.542813e+09</td>\n",
       "    </tr>\n",
       "    <tr>\n",
       "      <th>2013-05-01</th>\n",
       "      <td>139.889999</td>\n",
       "      <td>107.720001</td>\n",
       "      <td>139.000000</td>\n",
       "      <td>116.989998</td>\n",
       "      <td>0.0</td>\n",
       "      <td>1.298955e+09</td>\n",
       "    </tr>\n",
       "    <tr>\n",
       "      <th>2013-05-02</th>\n",
       "      <td>125.599998</td>\n",
       "      <td>92.281898</td>\n",
       "      <td>116.379997</td>\n",
       "      <td>105.209999</td>\n",
       "      <td>0.0</td>\n",
       "      <td>1.168517e+09</td>\n",
       "    </tr>\n",
       "    <tr>\n",
       "      <th>2013-05-03</th>\n",
       "      <td>108.127998</td>\n",
       "      <td>79.099998</td>\n",
       "      <td>106.250000</td>\n",
       "      <td>97.750000</td>\n",
       "      <td>0.0</td>\n",
       "      <td>1.085995e+09</td>\n",
       "    </tr>\n",
       "  </tbody>\n",
       "</table>\n",
       "</div>"
      ],
      "text/plain": [
       "                  High         Low        Open       Close  Volume  \\\n",
       "Date                                                                 \n",
       "2013-04-29  147.488007  134.000000  134.444000  144.539993     0.0   \n",
       "2013-04-30  146.929993  134.050003  144.000000  139.000000     0.0   \n",
       "2013-05-01  139.889999  107.720001  139.000000  116.989998     0.0   \n",
       "2013-05-02  125.599998   92.281898  116.379997  105.209999     0.0   \n",
       "2013-05-03  108.127998   79.099998  106.250000   97.750000     0.0   \n",
       "\n",
       "               Marketcap  \n",
       "Date                      \n",
       "2013-04-29  1.603769e+09  \n",
       "2013-04-30  1.542813e+09  \n",
       "2013-05-01  1.298955e+09  \n",
       "2013-05-02  1.168517e+09  \n",
       "2013-05-03  1.085995e+09  "
      ]
     },
     "execution_count": 2,
     "metadata": {},
     "output_type": "execute_result"
    }
   ],
   "source": [
    "# Focus on Bitcoin Here\n",
    "\n",
    "coin_df = pd.read_csv('Data/coin_Bitcoin.csv')\n",
    "\n",
    "coin_df.index = pd.to_datetime(coin_df['Date']).dt.date\n",
    "coin_df.index = pd.DatetimeIndex(coin_df.index)\n",
    "\n",
    "# Not useful\n",
    "coin_df.drop('Date', axis=1, inplace=True)\n",
    "coin_df.drop('SNo', axis=1, inplace=True)\n",
    "coin_df.drop('Symbol', axis=1, inplace=True)\n",
    "coin_df.drop('Name', axis=1, inplace=True)\n",
    "\n",
    "coin_df.head()"
   ]
  },
  {
   "cell_type": "code",
   "execution_count": 3,
   "id": "green-trouble",
   "metadata": {},
   "outputs": [
    {
     "data": {
      "text/html": [
       "<div>\n",
       "<style scoped>\n",
       "    .dataframe tbody tr th:only-of-type {\n",
       "        vertical-align: middle;\n",
       "    }\n",
       "\n",
       "    .dataframe tbody tr th {\n",
       "        vertical-align: top;\n",
       "    }\n",
       "\n",
       "    .dataframe thead th {\n",
       "        text-align: right;\n",
       "    }\n",
       "</style>\n",
       "<table border=\"1\" class=\"dataframe\">\n",
       "  <thead>\n",
       "    <tr style=\"text-align: right;\">\n",
       "      <th></th>\n",
       "      <th>T10YIE</th>\n",
       "    </tr>\n",
       "    <tr>\n",
       "      <th>DATE</th>\n",
       "      <th></th>\n",
       "    </tr>\n",
       "  </thead>\n",
       "  <tbody>\n",
       "    <tr>\n",
       "      <th>2016-04-12</th>\n",
       "      <td>1.57</td>\n",
       "    </tr>\n",
       "    <tr>\n",
       "      <th>2016-04-13</th>\n",
       "      <td>1.56</td>\n",
       "    </tr>\n",
       "    <tr>\n",
       "      <th>2016-04-14</th>\n",
       "      <td>1.56</td>\n",
       "    </tr>\n",
       "    <tr>\n",
       "      <th>2016-04-15</th>\n",
       "      <td>1.56</td>\n",
       "    </tr>\n",
       "    <tr>\n",
       "      <th>2016-04-18</th>\n",
       "      <td>1.57</td>\n",
       "    </tr>\n",
       "  </tbody>\n",
       "</table>\n",
       "</div>"
      ],
      "text/plain": [
       "            T10YIE\n",
       "DATE              \n",
       "2016-04-12    1.57\n",
       "2016-04-13    1.56\n",
       "2016-04-14    1.56\n",
       "2016-04-15    1.56\n",
       "2016-04-18    1.57"
      ]
     },
     "execution_count": 3,
     "metadata": {},
     "output_type": "execute_result"
    }
   ],
   "source": [
    "# Focus on Inflation Here\n",
    "inflation_df = pd.read_csv('FRED_CPI_Datasets/T10YIE.csv')\n",
    "\n",
    "inflation_df.index = pd.to_datetime(inflation_df['DATE']).dt.date\n",
    "inflation_df.index = pd.DatetimeIndex(inflation_df.index)\n",
    "\n",
    "inflation_df['T10YIE'] = pd.to_numeric(inflation_df['T10YIE'],errors='coerce')\n",
    "# Not useful\n",
    "inflation_df.drop('DATE', axis=1, inplace=True)\n",
    "\n",
    "inflation_df.head()"
   ]
  },
  {
   "cell_type": "code",
   "execution_count": 4,
   "id": "textile-tunisia",
   "metadata": {},
   "outputs": [
    {
     "data": {
      "text/html": [
       "<div>\n",
       "<style scoped>\n",
       "    .dataframe tbody tr th:only-of-type {\n",
       "        vertical-align: middle;\n",
       "    }\n",
       "\n",
       "    .dataframe tbody tr th {\n",
       "        vertical-align: top;\n",
       "    }\n",
       "\n",
       "    .dataframe thead th {\n",
       "        text-align: right;\n",
       "    }\n",
       "</style>\n",
       "<table border=\"1\" class=\"dataframe\">\n",
       "  <thead>\n",
       "    <tr style=\"text-align: right;\">\n",
       "      <th></th>\n",
       "      <th>High</th>\n",
       "      <th>Low</th>\n",
       "      <th>Open</th>\n",
       "      <th>Close</th>\n",
       "      <th>Volume</th>\n",
       "      <th>Marketcap</th>\n",
       "      <th>Return</th>\n",
       "    </tr>\n",
       "    <tr>\n",
       "      <th>Date</th>\n",
       "      <th></th>\n",
       "      <th></th>\n",
       "      <th></th>\n",
       "      <th></th>\n",
       "      <th></th>\n",
       "      <th></th>\n",
       "      <th></th>\n",
       "    </tr>\n",
       "  </thead>\n",
       "  <tbody>\n",
       "    <tr>\n",
       "      <th>2013-04-30</th>\n",
       "      <td>146.929993</td>\n",
       "      <td>134.050003</td>\n",
       "      <td>144.000000</td>\n",
       "      <td>139.000000</td>\n",
       "      <td>0.0</td>\n",
       "      <td>1.542813e+09</td>\n",
       "      <td>-0.038328</td>\n",
       "    </tr>\n",
       "    <tr>\n",
       "      <th>2013-05-01</th>\n",
       "      <td>139.889999</td>\n",
       "      <td>107.720001</td>\n",
       "      <td>139.000000</td>\n",
       "      <td>116.989998</td>\n",
       "      <td>0.0</td>\n",
       "      <td>1.298955e+09</td>\n",
       "      <td>-0.158345</td>\n",
       "    </tr>\n",
       "    <tr>\n",
       "      <th>2013-05-02</th>\n",
       "      <td>125.599998</td>\n",
       "      <td>92.281898</td>\n",
       "      <td>116.379997</td>\n",
       "      <td>105.209999</td>\n",
       "      <td>0.0</td>\n",
       "      <td>1.168517e+09</td>\n",
       "      <td>-0.100692</td>\n",
       "    </tr>\n",
       "    <tr>\n",
       "      <th>2013-05-03</th>\n",
       "      <td>108.127998</td>\n",
       "      <td>79.099998</td>\n",
       "      <td>106.250000</td>\n",
       "      <td>97.750000</td>\n",
       "      <td>0.0</td>\n",
       "      <td>1.085995e+09</td>\n",
       "      <td>-0.070906</td>\n",
       "    </tr>\n",
       "    <tr>\n",
       "      <th>2013-05-04</th>\n",
       "      <td>115.000000</td>\n",
       "      <td>92.500000</td>\n",
       "      <td>98.099998</td>\n",
       "      <td>112.500000</td>\n",
       "      <td>0.0</td>\n",
       "      <td>1.250317e+09</td>\n",
       "      <td>0.150895</td>\n",
       "    </tr>\n",
       "  </tbody>\n",
       "</table>\n",
       "</div>"
      ],
      "text/plain": [
       "                  High         Low        Open       Close  Volume  \\\n",
       "Date                                                                 \n",
       "2013-04-30  146.929993  134.050003  144.000000  139.000000     0.0   \n",
       "2013-05-01  139.889999  107.720001  139.000000  116.989998     0.0   \n",
       "2013-05-02  125.599998   92.281898  116.379997  105.209999     0.0   \n",
       "2013-05-03  108.127998   79.099998  106.250000   97.750000     0.0   \n",
       "2013-05-04  115.000000   92.500000   98.099998  112.500000     0.0   \n",
       "\n",
       "               Marketcap    Return  \n",
       "Date                                \n",
       "2013-04-30  1.542813e+09 -0.038328  \n",
       "2013-05-01  1.298955e+09 -0.158345  \n",
       "2013-05-02  1.168517e+09 -0.100692  \n",
       "2013-05-03  1.085995e+09 -0.070906  \n",
       "2013-05-04  1.250317e+09  0.150895  "
      ]
     },
     "execution_count": 4,
     "metadata": {},
     "output_type": "execute_result"
    }
   ],
   "source": [
    "# Add a classification column. The class of each data point is determined by the percent change in close price\n",
    "# day by day\n",
    "coin_df['Return'] = coin_df['Close'].pct_change()\n",
    "# First row in df has NaN 'return' since there is no previous day\n",
    "coin_df.drop(coin_df.index[0], inplace=True)\n",
    "coin_df.head()"
   ]
  },
  {
   "cell_type": "code",
   "execution_count": 5,
   "id": "rational-asthma",
   "metadata": {
    "scrolled": true
   },
   "outputs": [
    {
     "data": {
      "text/html": [
       "<div>\n",
       "<style scoped>\n",
       "    .dataframe tbody tr th:only-of-type {\n",
       "        vertical-align: middle;\n",
       "    }\n",
       "\n",
       "    .dataframe tbody tr th {\n",
       "        vertical-align: top;\n",
       "    }\n",
       "\n",
       "    .dataframe thead th {\n",
       "        text-align: right;\n",
       "    }\n",
       "</style>\n",
       "<table border=\"1\" class=\"dataframe\">\n",
       "  <thead>\n",
       "    <tr style=\"text-align: right;\">\n",
       "      <th></th>\n",
       "      <th>T10YIE</th>\n",
       "      <th>Return</th>\n",
       "    </tr>\n",
       "    <tr>\n",
       "      <th>DATE</th>\n",
       "      <th></th>\n",
       "      <th></th>\n",
       "    </tr>\n",
       "  </thead>\n",
       "  <tbody>\n",
       "    <tr>\n",
       "      <th>2016-04-13</th>\n",
       "      <td>1.56</td>\n",
       "      <td>-0.006369</td>\n",
       "    </tr>\n",
       "    <tr>\n",
       "      <th>2016-04-14</th>\n",
       "      <td>1.56</td>\n",
       "      <td>0.000000</td>\n",
       "    </tr>\n",
       "    <tr>\n",
       "      <th>2016-04-15</th>\n",
       "      <td>1.56</td>\n",
       "      <td>0.000000</td>\n",
       "    </tr>\n",
       "    <tr>\n",
       "      <th>2016-04-18</th>\n",
       "      <td>1.57</td>\n",
       "      <td>0.006410</td>\n",
       "    </tr>\n",
       "    <tr>\n",
       "      <th>2016-04-19</th>\n",
       "      <td>1.60</td>\n",
       "      <td>0.019108</td>\n",
       "    </tr>\n",
       "  </tbody>\n",
       "</table>\n",
       "</div>"
      ],
      "text/plain": [
       "            T10YIE    Return\n",
       "DATE                        \n",
       "2016-04-13    1.56 -0.006369\n",
       "2016-04-14    1.56  0.000000\n",
       "2016-04-15    1.56  0.000000\n",
       "2016-04-18    1.57  0.006410\n",
       "2016-04-19    1.60  0.019108"
      ]
     },
     "execution_count": 5,
     "metadata": {},
     "output_type": "execute_result"
    }
   ],
   "source": [
    "# Add a classification column. The class of each data point is determined by the percent change in close price\n",
    "# day by day\n",
    "inflation_df['Return'] = inflation_df['T10YIE'].pct_change()\n",
    "inflation_df['Return'] = pd.to_numeric(inflation_df['Return'],errors='coerce')\n",
    "# First row in df has NaN 'return' since there is no previous day\n",
    "inflation_df.drop(inflation_df.index[0], inplace=True)\n",
    "inflation_df.head()"
   ]
  },
  {
   "cell_type": "markdown",
   "id": "subsequent-detective",
   "metadata": {},
   "source": [
    "### Data Visualization"
   ]
  },
  {
   "cell_type": "code",
   "execution_count": 6,
   "id": "juvenile-pittsburgh",
   "metadata": {
    "scrolled": true
   },
   "outputs": [
    {
     "data": {
      "image/png": "[encoded data removed]",
      "text/plain": [
       "<Figure size 864x432 with 7 Axes>"
      ]
     },
     "metadata": {
      "needs_background": "light"
     },
     "output_type": "display_data"
    }
   ],
   "source": [
    "# A basic visualization of Date vs the coin_df columns\n",
    "fig = plt.figure(figsize=(12, 6))\n",
    "\n",
    "# High over time\n",
    "high_axis = fig.add_subplot(3, 3, 1)\n",
    "high_axis.plot(coin_df.index, coin_df['High'])\n",
    "high_axis.set_title('Bitcoin High Over Time')\n",
    "high_axis.set_xlabel('Date')\n",
    "high_axis.set_ylabel('Bitcoin High')\n",
    "\n",
    "# Low over time\n",
    "low_axis = fig.add_subplot(3, 3, 2)\n",
    "low_axis.plot(coin_df.index, coin_df['Low'])\n",
    "low_axis.set_title('Bitcoin Low Over Time')\n",
    "low_axis.set_xlabel('Date')\n",
    "low_axis.set_ylabel('Bitcoin Low')\n",
    "\n",
    "# Open over time\n",
    "open_axis = fig.add_subplot(3, 3, 3)\n",
    "open_axis.plot(coin_df.index, coin_df['Open'])\n",
    "open_axis.set_title('Bitcoin Open Over Time')\n",
    "open_axis.set_xlabel('Date')\n",
    "open_axis.set_ylabel('Bitcoin Open')\n",
    "\n",
    "# Close over time\n",
    "close_axis = fig.add_subplot(3, 3, 4)\n",
    "close_axis.plot(coin_df.index, coin_df['Close'])\n",
    "close_axis.set_title('Bitcoin Close Over Time')\n",
    "close_axis.set_xlabel('Date')\n",
    "close_axis.set_ylabel('Bitcoin Close')\n",
    "\n",
    "# Volume over time\n",
    "volume_axis = fig.add_subplot(3, 3, 5)\n",
    "volume_axis.plot(coin_df.index, coin_df['Volume'])\n",
    "volume_axis.set_title('Bitcoin Volume Over Time')\n",
    "volume_axis.set_xlabel('Date')\n",
    "volume_axis.set_ylabel('Bitcoin Volume')\n",
    "\n",
    "# Marketcap over time\n",
    "marketcap_axis = fig.add_subplot(3, 3, 6)\n",
    "marketcap_axis.plot(coin_df.index, coin_df['Marketcap'])\n",
    "marketcap_axis.set_title('Bitcoin Marketcap Over Time')\n",
    "marketcap_axis.set_xlabel('Date')\n",
    "marketcap_axis.set_ylabel('Bitcoin Marketcap')\n",
    "\n",
    "# Return over time\n",
    "return_axis = fig.add_subplot(3, 3, 7)\n",
    "return_axis.plot(coin_df.index, coin_df['Return'])\n",
    "return_axis.set_title('Bitcoin Percent Return Over Time')\n",
    "return_axis.set_xlabel('Date')\n",
    "return_axis.set_ylabel('Bitcoin Percent Return')\n",
    "\n",
    "plt.tight_layout()\n",
    "plt.show()"
   ]
  },
  {
   "cell_type": "code",
   "execution_count": 7,
   "id": "european-alexandria",
   "metadata": {
    "scrolled": true
   },
   "outputs": [
    {
     "data": {
      "image/png": "[encoded data removed]",
      "text/plain": [
       "<Figure size 864x432 with 2 Axes>"
      ]
     },
     "metadata": {
      "needs_background": "light"
     },
     "output_type": "display_data"
    }
   ],
   "source": [
    "# A basic visualization of Date vs the inflation_df columns\n",
    "fig = plt.figure(figsize=(12, 6))\n",
    "\n",
    "# Inflation over time\n",
    "high_axis = fig.add_subplot(3, 3, 1)\n",
    "high_axis.plot(inflation_df.index, inflation_df['T10YIE'])\n",
    "high_axis.set_title('Inflation Price Over Time')\n",
    "high_axis.set_xlabel('Date')\n",
    "high_axis.set_ylabel('Inflation Price')\n",
    "\n",
    "\n",
    "\n",
    "# Inflation price change over time\n",
    "return_axis = fig.add_subplot(3, 3, 7)\n",
    "return_axis.plot(inflation_df.index, inflation_df['Return'])\n",
    "return_axis.set_title('Inflation Percent Change Over Time')\n",
    "return_axis.set_xlabel('Date')\n",
    "return_axis.set_ylabel('Inflation Percent Change')\n",
    "\n",
    "plt.tight_layout()\n",
    "plt.show()"
   ]
  },
  {
   "cell_type": "markdown",
   "id": "solar-protection",
   "metadata": {},
   "source": [
    "---"
   ]
  },
  {
   "cell_type": "markdown",
   "id": "corrected-scheduling",
   "metadata": {},
   "source": [
    "### Class Assignment"
   ]
  },
  {
   "cell_type": "code",
   "execution_count": 8,
   "id": "logical-tamil",
   "metadata": {
    "scrolled": true
   },
   "outputs": [
    {
     "data": {
      "text/html": [
       "<div>\n",
       "<style scoped>\n",
       "    .dataframe tbody tr th:only-of-type {\n",
       "        vertical-align: middle;\n",
       "    }\n",
       "\n",
       "    .dataframe tbody tr th {\n",
       "        vertical-align: top;\n",
       "    }\n",
       "\n",
       "    .dataframe thead th {\n",
       "        text-align: right;\n",
       "    }\n",
       "</style>\n",
       "<table border=\"1\" class=\"dataframe\">\n",
       "  <thead>\n",
       "    <tr style=\"text-align: right;\">\n",
       "      <th></th>\n",
       "      <th>High</th>\n",
       "      <th>Low</th>\n",
       "      <th>Open</th>\n",
       "      <th>Close</th>\n",
       "      <th>Volume</th>\n",
       "      <th>Marketcap</th>\n",
       "      <th>Return</th>\n",
       "    </tr>\n",
       "    <tr>\n",
       "      <th>Date</th>\n",
       "      <th></th>\n",
       "      <th></th>\n",
       "      <th></th>\n",
       "      <th></th>\n",
       "      <th></th>\n",
       "      <th></th>\n",
       "      <th></th>\n",
       "    </tr>\n",
       "  </thead>\n",
       "  <tbody>\n",
       "    <tr>\n",
       "      <th>2013-04-30</th>\n",
       "      <td>146.929993</td>\n",
       "      <td>134.050003</td>\n",
       "      <td>144.000000</td>\n",
       "      <td>139.000000</td>\n",
       "      <td>0.0</td>\n",
       "      <td>1.542813e+09</td>\n",
       "      <td>bad</td>\n",
       "    </tr>\n",
       "    <tr>\n",
       "      <th>2013-05-01</th>\n",
       "      <td>139.889999</td>\n",
       "      <td>107.720001</td>\n",
       "      <td>139.000000</td>\n",
       "      <td>116.989998</td>\n",
       "      <td>0.0</td>\n",
       "      <td>1.298955e+09</td>\n",
       "      <td>very bad</td>\n",
       "    </tr>\n",
       "    <tr>\n",
       "      <th>2013-05-02</th>\n",
       "      <td>125.599998</td>\n",
       "      <td>92.281898</td>\n",
       "      <td>116.379997</td>\n",
       "      <td>105.209999</td>\n",
       "      <td>0.0</td>\n",
       "      <td>1.168517e+09</td>\n",
       "      <td>very bad</td>\n",
       "    </tr>\n",
       "    <tr>\n",
       "      <th>2013-05-03</th>\n",
       "      <td>108.127998</td>\n",
       "      <td>79.099998</td>\n",
       "      <td>106.250000</td>\n",
       "      <td>97.750000</td>\n",
       "      <td>0.0</td>\n",
       "      <td>1.085995e+09</td>\n",
       "      <td>bad</td>\n",
       "    </tr>\n",
       "    <tr>\n",
       "      <th>2013-05-04</th>\n",
       "      <td>115.000000</td>\n",
       "      <td>92.500000</td>\n",
       "      <td>98.099998</td>\n",
       "      <td>112.500000</td>\n",
       "      <td>0.0</td>\n",
       "      <td>1.250317e+09</td>\n",
       "      <td>very good</td>\n",
       "    </tr>\n",
       "  </tbody>\n",
       "</table>\n",
       "</div>"
      ],
      "text/plain": [
       "                  High         Low        Open       Close  Volume  \\\n",
       "Date                                                                 \n",
       "2013-04-30  146.929993  134.050003  144.000000  139.000000     0.0   \n",
       "2013-05-01  139.889999  107.720001  139.000000  116.989998     0.0   \n",
       "2013-05-02  125.599998   92.281898  116.379997  105.209999     0.0   \n",
       "2013-05-03  108.127998   79.099998  106.250000   97.750000     0.0   \n",
       "2013-05-04  115.000000   92.500000   98.099998  112.500000     0.0   \n",
       "\n",
       "               Marketcap     Return  \n",
       "Date                                 \n",
       "2013-04-30  1.542813e+09        bad  \n",
       "2013-05-01  1.298955e+09   very bad  \n",
       "2013-05-02  1.168517e+09   very bad  \n",
       "2013-05-03  1.085995e+09        bad  \n",
       "2013-05-04  1.250317e+09  very good  "
      ]
     },
     "execution_count": 8,
     "metadata": {},
     "output_type": "execute_result"
    }
   ],
   "source": [
    "# Sentiment on return: \n",
    "# > .10 then very good 0 < < 0.10 then good converse for bad and very bad\n",
    "def get_sentiment(return_val):\n",
    "    if return_val >= 0.10:\n",
    "        return 'very good'\n",
    "    elif return_val > 0 and return_val < 0.10:\n",
    "        return 'good'\n",
    "    elif return_val <= 0 and return_val > -0.10:\n",
    "        return 'bad'\n",
    "    elif return_val <= -0.10:\n",
    "        return 'very bad'\n",
    "    else:\n",
    "        print(return_val)\n",
    "        return None\n",
    "# Replace Return column with label\n",
    "coin_df['Return'] = [get_sentiment(return_val) for return_val in coin_df['Return']]\n",
    "coin_df.head()"
   ]
  },
  {
   "cell_type": "code",
   "execution_count": 9,
   "id": "liked-characteristic",
   "metadata": {},
   "outputs": [
    {
     "data": {
      "text/html": [
       "<div>\n",
       "<style scoped>\n",
       "    .dataframe tbody tr th:only-of-type {\n",
       "        vertical-align: middle;\n",
       "    }\n",
       "\n",
       "    .dataframe tbody tr th {\n",
       "        vertical-align: top;\n",
       "    }\n",
       "\n",
       "    .dataframe thead th {\n",
       "        text-align: right;\n",
       "    }\n",
       "</style>\n",
       "<table border=\"1\" class=\"dataframe\">\n",
       "  <thead>\n",
       "    <tr style=\"text-align: right;\">\n",
       "      <th></th>\n",
       "      <th>T10YIE</th>\n",
       "      <th>Return</th>\n",
       "    </tr>\n",
       "    <tr>\n",
       "      <th>DATE</th>\n",
       "      <th></th>\n",
       "      <th></th>\n",
       "    </tr>\n",
       "  </thead>\n",
       "  <tbody>\n",
       "    <tr>\n",
       "      <th>2016-04-13</th>\n",
       "      <td>1.56</td>\n",
       "      <td>bad</td>\n",
       "    </tr>\n",
       "    <tr>\n",
       "      <th>2016-04-14</th>\n",
       "      <td>1.56</td>\n",
       "      <td>bad</td>\n",
       "    </tr>\n",
       "    <tr>\n",
       "      <th>2016-04-15</th>\n",
       "      <td>1.56</td>\n",
       "      <td>bad</td>\n",
       "    </tr>\n",
       "    <tr>\n",
       "      <th>2016-04-18</th>\n",
       "      <td>1.57</td>\n",
       "      <td>good</td>\n",
       "    </tr>\n",
       "    <tr>\n",
       "      <th>2016-04-19</th>\n",
       "      <td>1.60</td>\n",
       "      <td>good</td>\n",
       "    </tr>\n",
       "  </tbody>\n",
       "</table>\n",
       "</div>"
      ],
      "text/plain": [
       "            T10YIE Return\n",
       "DATE                     \n",
       "2016-04-13    1.56    bad\n",
       "2016-04-14    1.56    bad\n",
       "2016-04-15    1.56    bad\n",
       "2016-04-18    1.57   good\n",
       "2016-04-19    1.60   good"
      ]
     },
     "execution_count": 9,
     "metadata": {},
     "output_type": "execute_result"
    }
   ],
   "source": [
    "def get_sentiment(return_value):\n",
    "    if return_value >= 0.10:\n",
    "        return 'very good'\n",
    "    elif return_value > 0 and return_value < 0.10:\n",
    "        return 'good'\n",
    "    elif return_value <= 0 and return_value > -0.10:\n",
    "        return 'bad'\n",
    "    elif return_value <= -0.10:\n",
    "        return 'very bad'\n",
    "    else:\n",
    "        print(return_value)\n",
    "        return None\n",
    "# Replace Return column with label\n",
    "inflation_df['Return'] = [get_sentiment(return_value) for return_value in inflation_df['Return']]\n",
    "inflation_df.head()"
   ]
  },
  {
   "cell_type": "code",
   "execution_count": 10,
   "id": "sweet-piece",
   "metadata": {},
   "outputs": [
    {
     "name": "stdout",
     "output_type": "stream",
     "text": [
      "{'bad': 1260, 'very bad': 50, 'very good': 66, 'good': 1485}\n"
     ]
    }
   ],
   "source": [
    "# We are faced with a new problem: Class Imbalance. This will be addressed in the next section\n",
    "class_counts = {}\n",
    "for class_ in coin_df['Return']:\n",
    "    class_counts[class_] = class_counts.get(class_, 0) + 1\n",
    "print(class_counts)"
   ]
  },
  {
   "cell_type": "code",
   "execution_count": 11,
   "id": "welcome-satellite",
   "metadata": {},
   "outputs": [
    {
     "name": "stdout",
     "output_type": "stream",
     "text": [
      "{'bad': 761, 'good': 532, 'very bad': 6, 'very good': 5}\n"
     ]
    }
   ],
   "source": [
    "# We are faced with a new problem: Class Imbalance. This will be addressed in the next section\n",
    "inflation_class_counts = {}\n",
    "for class_ in inflation_df['Return']:\n",
    "    inflation_class_counts[class_] = inflation_class_counts.get(class_, 0) + 1\n",
    "print(inflation_class_counts)"
   ]
  },
  {
   "cell_type": "markdown",
   "id": "ahead-reproduction",
   "metadata": {},
   "source": [
    "---"
   ]
  },
  {
   "cell_type": "markdown",
   "id": "rural-detail",
   "metadata": {},
   "source": [
    "### Model Evaluation/Parameter Tuning\n",
    "\n",
    "In the next few code blocks, we deal with Class Imbalance issues, and evaluate multiple models with fine-tuned parameters."
   ]
  },
  {
   "cell_type": "code",
   "execution_count": 12,
   "id": "appropriate-yemen",
   "metadata": {},
   "outputs": [],
   "source": [
    "# To decide on the best model, we should fine tune the parameters of the models in consideration to see\n",
    "# the best performances of our models.\n",
    "\n",
    "# Because Bitcoin prices can be very volatile with plenty of outliers,\n",
    "# we use RobustScaler\n",
    "from sklearn.preprocessing import RobustScaler\n",
    "from sklearn.model_selection import GridSearchCV\n",
    "\n",
    "X = coin_df[['Open', 'High', 'Low', 'Volume', 'Marketcap', 'Close']]\n",
    "y = coin_df['Return']\n",
    "\n",
    "X_train, X_test, y_train, y_test = train_test_split(X, y, test_size=0.3, random_state=101)\n",
    "\n",
    "transformer = RobustScaler().fit(X_train)\n",
    "X_train = transformer.transform(X_train)\n",
    "X_test = transformer.transform(X_test)"
   ]
  },
  {
   "cell_type": "code",
   "execution_count": 13,
   "id": "accepting-titanium",
   "metadata": {},
   "outputs": [
    {
     "data": {
      "text/html": [
       "<div>\n",
       "<style scoped>\n",
       "    .dataframe tbody tr th:only-of-type {\n",
       "        vertical-align: middle;\n",
       "    }\n",
       "\n",
       "    .dataframe tbody tr th {\n",
       "        vertical-align: top;\n",
       "    }\n",
       "\n",
       "    .dataframe thead th {\n",
       "        text-align: right;\n",
       "    }\n",
       "</style>\n",
       "<table border=\"1\" class=\"dataframe\">\n",
       "  <thead>\n",
       "    <tr style=\"text-align: right;\">\n",
       "      <th></th>\n",
       "      <th>T10YIE</th>\n",
       "      <th>Return</th>\n",
       "    </tr>\n",
       "    <tr>\n",
       "      <th>DATE</th>\n",
       "      <th></th>\n",
       "      <th></th>\n",
       "    </tr>\n",
       "  </thead>\n",
       "  <tbody>\n",
       "    <tr>\n",
       "      <th>2016-04-13</th>\n",
       "      <td>1.56</td>\n",
       "      <td>bad</td>\n",
       "    </tr>\n",
       "    <tr>\n",
       "      <th>2016-04-14</th>\n",
       "      <td>1.56</td>\n",
       "      <td>bad</td>\n",
       "    </tr>\n",
       "    <tr>\n",
       "      <th>2016-04-15</th>\n",
       "      <td>1.56</td>\n",
       "      <td>bad</td>\n",
       "    </tr>\n",
       "    <tr>\n",
       "      <th>2016-04-18</th>\n",
       "      <td>1.57</td>\n",
       "      <td>good</td>\n",
       "    </tr>\n",
       "    <tr>\n",
       "      <th>2016-04-19</th>\n",
       "      <td>1.60</td>\n",
       "      <td>good</td>\n",
       "    </tr>\n",
       "    <tr>\n",
       "      <th>...</th>\n",
       "      <td>...</td>\n",
       "      <td>...</td>\n",
       "    </tr>\n",
       "    <tr>\n",
       "      <th>2021-04-06</th>\n",
       "      <td>2.32</td>\n",
       "      <td>bad</td>\n",
       "    </tr>\n",
       "    <tr>\n",
       "      <th>2021-04-07</th>\n",
       "      <td>2.34</td>\n",
       "      <td>good</td>\n",
       "    </tr>\n",
       "    <tr>\n",
       "      <th>2021-04-08</th>\n",
       "      <td>2.33</td>\n",
       "      <td>bad</td>\n",
       "    </tr>\n",
       "    <tr>\n",
       "      <th>2021-04-09</th>\n",
       "      <td>2.31</td>\n",
       "      <td>bad</td>\n",
       "    </tr>\n",
       "    <tr>\n",
       "      <th>2021-04-12</th>\n",
       "      <td>2.33</td>\n",
       "      <td>good</td>\n",
       "    </tr>\n",
       "  </tbody>\n",
       "</table>\n",
       "<p>1250 rows × 2 columns</p>\n",
       "</div>"
      ],
      "text/plain": [
       "            T10YIE Return\n",
       "DATE                     \n",
       "2016-04-13    1.56    bad\n",
       "2016-04-14    1.56    bad\n",
       "2016-04-15    1.56    bad\n",
       "2016-04-18    1.57   good\n",
       "2016-04-19    1.60   good\n",
       "...            ...    ...\n",
       "2021-04-06    2.32    bad\n",
       "2021-04-07    2.34   good\n",
       "2021-04-08    2.33    bad\n",
       "2021-04-09    2.31    bad\n",
       "2021-04-12    2.33   good\n",
       "\n",
       "[1250 rows x 2 columns]"
      ]
     },
     "execution_count": 13,
     "metadata": {},
     "output_type": "execute_result"
    }
   ],
   "source": [
    "inflation_df.dropna(0)"
   ]
  },
  {
   "cell_type": "code",
   "execution_count": 14,
   "id": "automotive-wrist",
   "metadata": {},
   "outputs": [],
   "source": [
    "inflation_df = inflation_df.replace([np.inf, -np.inf], np.nan).dropna(axis=0)\n"
   ]
  },
  {
   "cell_type": "code",
   "execution_count": 15,
   "id": "julian-romania",
   "metadata": {},
   "outputs": [],
   "source": [
    "# To decide on the best model, we should fine tune the parameters of the models in consideration to see\n",
    "# the best performances of our models.\n",
    "\n",
    "# Because Bitcoin prices can be very volatile with plenty of outliers,\n",
    "# we use RobustScaler\n",
    "from sklearn.preprocessing import RobustScaler\n",
    "from sklearn.model_selection import GridSearchCV\n",
    "\n",
    "inflation_X = inflation_df[['T10YIE']]\n",
    "inflation_y = inflation_df['Return']\n",
    "\n",
    "inflation_X_train, inflation_X_test, inflation_y_train, inflation_y_test = train_test_split(inflation_X, inflation_y, test_size=0.3, random_state=101)\n",
    "\n",
    "inflation_transformer = RobustScaler().fit(inflation_X_train)\n",
    "inflation_X_train = inflation_transformer.transform(inflation_X_train)\n",
    "inflation_X_test = inflation_transformer.transform(inflation_X_test)"
   ]
  },
  {
   "cell_type": "markdown",
   "id": "irish-float",
   "metadata": {},
   "source": [
    "### Class Imbalance\n",
    "\n",
    "As we saw above, the number of \"good\" vs \"bad\" data points heavily outweigh the \"very good\" and \"very bad\" data points. In the next cell, we attempt to assign class weights to account for this disparity."
   ]
  },
  {
   "cell_type": "code",
   "execution_count": 16,
   "id": "assumed-parts",
   "metadata": {
    "scrolled": true
   },
   "outputs": [
    {
     "name": "stdout",
     "output_type": "stream",
     "text": [
      "{'bad': 0.5693970420932878, 'good': 0.4798657718120805, 'very bad': 15.166666666666666, 'very good': 10.648936170212766}\n"
     ]
    }
   ],
   "source": [
    "# We should now deal with the issue of class_weights\n",
    "from sklearn.utils import class_weight\n",
    "labels = np.unique(y_train)\n",
    "class_weights = dict(zip(labels, class_weight.compute_class_weight('balanced', classes=labels, y=y_train)))\n",
    "print(class_weights)"
   ]
  },
  {
   "cell_type": "code",
   "execution_count": 17,
   "id": "arabic-letters",
   "metadata": {
    "scrolled": true
   },
   "outputs": [
    {
     "name": "stdout",
     "output_type": "stream",
     "text": [
      "{'bad': 0.4528985507246377, 'good': 0.5711488250652742, 'very bad': 43.75, 'very good': 54.6875}\n"
     ]
    }
   ],
   "source": [
    "# We should now deal with the issue of class_weights\n",
    "from sklearn.utils import class_weight\n",
    "inflation_labels = np.unique(inflation_y_train)\n",
    "inflation_class_weights = dict(zip(inflation_labels, class_weight.compute_class_weight('balanced', classes=inflation_labels, y=inflation_y_train)))\n",
    "print(inflation_class_weights)"
   ]
  },
  {
   "cell_type": "markdown",
   "id": "rubber-thirty",
   "metadata": {},
   "source": [
    "### Logistic Regression Evaluation"
   ]
  },
  {
   "cell_type": "code",
   "execution_count": 18,
   "id": "bright-japan",
   "metadata": {},
   "outputs": [
    {
     "name": "stdout",
     "output_type": "stream",
     "text": [
      "Best grid score: 0.87\n",
      "Grid test score: 0.86\n",
      "Best grid parameters: {'C': 1000}\n"
     ]
    }
   ],
   "source": [
    "# Logistic Regression Parameter Tuning\n",
    "from sklearn.linear_model import LogisticRegression\n",
    "param_grid = {  'C': [0.001, 0.01, 0.1, 1, 10, 100, 1000]\n",
    "                }\n",
    "\n",
    "lr = LogisticRegression(max_iter=2000, class_weight=class_weights)\n",
    "grid = GridSearchCV(lr, param_grid)\n",
    "grid.fit(X_train, y_train)\n",
    "# lr_pred = lr.predict(X_test)\n",
    "# print('Logistic Reg Score: {:.2f}'.format(lr.score(X_test, y_test)))\n",
    "print(\"Best grid score: {:.2f}\".format(grid.best_score_))\n",
    "print(\"Grid test score: {:.2f}\".format(grid.score(X_test, y_test)))\n",
    "print(\"Best grid parameters: {}\".format(grid.best_params_))\n",
    "lr_best_params = grid.best_params_"
   ]
  },
  {
   "cell_type": "code",
   "execution_count": 19,
   "id": "latin-trade",
   "metadata": {},
   "outputs": [
    {
     "name": "stderr",
     "output_type": "stream",
     "text": [
      "/Users/caleb/jupyter/lib/python3.8/site-packages/sklearn/model_selection/_split.py:666: UserWarning: The least populated class in y has only 4 members, which is less than n_splits=5.\n",
      "  warnings.warn((\"The least populated class in y has only %d\"\n"
     ]
    },
    {
     "name": "stdout",
     "output_type": "stream",
     "text": [
      "Best grid score: 0.49\n",
      "Grid test score: 0.47\n",
      "Best grid parameters: {'C': 1000}\n"
     ]
    }
   ],
   "source": [
    "# Logistic Regression Parameter Tuning\n",
    "from sklearn.linear_model import LogisticRegression\n",
    "param_grid = {  'C': [0.001, 0.01, 0.1, 1, 10, 100, 1000]\n",
    "                }\n",
    "\n",
    "lr = LogisticRegression(max_iter=2000, class_weight=inflation_class_weights)\n",
    "grid = GridSearchCV(lr, param_grid)\n",
    "grid.fit(inflation_X_train, inflation_y_train)\n",
    "# lr_pred = lr.predict(X_test)\n",
    "# print('Logistic Reg Score: {:.2f}'.format(lr.score(X_test, y_test)))\n",
    "print(\"Best grid score: {:.2f}\".format(grid.best_score_))\n",
    "print(\"Grid test score: {:.2f}\".format(grid.score(inflation_X_test, inflation_y_test)))\n",
    "print(\"Best grid parameters: {}\".format(grid.best_params_))\n",
    "inflation_lr_best_params = grid.best_params_"
   ]
  },
  {
   "cell_type": "markdown",
   "id": "resistant-platinum",
   "metadata": {},
   "source": [
    "### Decision Tree Evaluation"
   ]
  },
  {
   "cell_type": "code",
   "execution_count": 20,
   "id": "alpine-north",
   "metadata": {},
   "outputs": [
    {
     "name": "stdout",
     "output_type": "stream",
     "text": [
      "Best grid score: 0.66\n",
      "Grid test score: 0.69\n",
      "Best grid parameters: {'criterion': 'entropy', 'max_depth': 50}\n"
     ]
    }
   ],
   "source": [
    "# Decision Tree Parameter Tuning\n",
    "from sklearn.tree import DecisionTreeClassifier\n",
    "n_components = list(range(1,X.shape[1]+1,1))\n",
    "criterion = ['gini', 'entropy']\n",
    "max_depth = [2,4,6,8,10,12]\n",
    "param_grid = {\n",
    "    'criterion': ['gini', 'entropy'],\n",
    "    'max_depth': [2,4,6,8,10,12,14,16,18,20,25,30,40,50,70]\n",
    "}\n",
    "dt = DecisionTreeClassifier(class_weight=class_weights)\n",
    "grid = GridSearchCV(dt, param_grid)\n",
    "grid.fit(X_train, y_train)\n",
    "print(\"Best grid score: {:.2f}\".format(grid.best_score_))\n",
    "print(\"Grid test score: {:.2f}\".format(grid.score(X_test, y_test)))\n",
    "print(\"Best grid parameters: {}\".format(grid.best_params_))\n",
    "dt_best_params = grid.best_params_"
   ]
  },
  {
   "cell_type": "code",
   "execution_count": 21,
   "id": "atlantic-columbia",
   "metadata": {},
   "outputs": [
    {
     "name": "stderr",
     "output_type": "stream",
     "text": [
      "/Users/caleb/jupyter/lib/python3.8/site-packages/sklearn/model_selection/_split.py:666: UserWarning: The least populated class in y has only 4 members, which is less than n_splits=5.\n",
      "  warnings.warn((\"The least populated class in y has only %d\"\n"
     ]
    },
    {
     "name": "stdout",
     "output_type": "stream",
     "text": [
      "Best grid score: 0.52\n",
      "Grid test score: 0.58\n",
      "Best grid parameters: {'criterion': 'gini', 'max_depth': 2}\n"
     ]
    }
   ],
   "source": [
    "# Decision Tree Parameter Tuning\n",
    "from sklearn.tree import DecisionTreeClassifier\n",
    "n_components = list(range(1,X.shape[1]+1,1))\n",
    "criterion = ['gini', 'entropy']\n",
    "max_depth = [2,4,6,8,10,12]\n",
    "param_grid = {\n",
    "    'criterion': ['gini', 'entropy'],\n",
    "    'max_depth': [2,4,6,8,10,12,14,16,18,20,25,30,40,50,70]\n",
    "}\n",
    "dt = DecisionTreeClassifier(class_weight=inflation_class_weights)\n",
    "grid = GridSearchCV(dt, param_grid)\n",
    "grid.fit(inflation_X_train, inflation_y_train)\n",
    "print(\"Best grid score: {:.2f}\".format(grid.best_score_))\n",
    "print(\"Grid test score: {:.2f}\".format(grid.score(inflation_X_test, inflation_y_test)))\n",
    "print(\"Best grid parameters: {}\".format(grid.best_params_))\n",
    "inflation_dt_best_params = grid.best_params_"
   ]
  },
  {
   "cell_type": "markdown",
   "id": "ongoing-anthropology",
   "metadata": {},
   "source": [
    "### KNN Evaluation"
   ]
  },
  {
   "cell_type": "code",
   "execution_count": 22,
   "id": "lonely-royal",
   "metadata": {},
   "outputs": [
    {
     "name": "stdout",
     "output_type": "stream",
     "text": [
      "Best grid score: 0.62\n",
      "Grid test score: 0.66\n",
      "Best grid parameters: {'metric': 'euclidean', 'n_neighbors': 3, 'weights': 'distance'}\n"
     ]
    }
   ],
   "source": [
    "# K-Nearest Neighbors Parameter Tuning\n",
    "from sklearn.neighbors import KNeighborsClassifier\n",
    "param_grid = {\n",
    "    'n_neighbors': [3, 5, 11, 19],\n",
    "    'weights': ['uniform', 'distance'],\n",
    "    'metric': ['euclidean', 'manhattan']\n",
    "}\n",
    "knn = KNeighborsClassifier() # No class_weight param\n",
    "grid = GridSearchCV(knn, param_grid)\n",
    "grid.fit(X_train, y_train)\n",
    "print(\"Best grid score: {:.2f}\".format(grid.best_score_))\n",
    "print(\"Grid test score: {:.2f}\".format(grid.score(X_test, y_test)))\n",
    "print(\"Best grid parameters: {}\".format(grid.best_params_))\n",
    "knn_best_params = grid.best_params_"
   ]
  },
  {
   "cell_type": "code",
   "execution_count": 23,
   "id": "fresh-greek",
   "metadata": {},
   "outputs": [
    {
     "name": "stderr",
     "output_type": "stream",
     "text": [
      "/Users/caleb/jupyter/lib/python3.8/site-packages/sklearn/model_selection/_split.py:666: UserWarning: The least populated class in y has only 4 members, which is less than n_splits=5.\n",
      "  warnings.warn((\"The least populated class in y has only %d\"\n"
     ]
    },
    {
     "name": "stdout",
     "output_type": "stream",
     "text": [
      "Best grid score: 0.52\n",
      "Grid test score: 0.57\n",
      "Best grid parameters: {'metric': 'euclidean', 'n_neighbors': 11, 'weights': 'distance'}\n"
     ]
    }
   ],
   "source": [
    "# K-Nearest Neighbors Parameter Tuning\n",
    "from sklearn.neighbors import KNeighborsClassifier\n",
    "param_grid = {\n",
    "    'n_neighbors': [3, 5, 11, 19],\n",
    "    'weights': ['uniform', 'distance'],\n",
    "    'metric': ['euclidean', 'manhattan']\n",
    "}\n",
    "knn = KNeighborsClassifier() # No class_weight param\n",
    "grid = GridSearchCV(knn, param_grid)\n",
    "grid.fit(inflation_X_train, inflation_y_train)\n",
    "print(\"Best grid score: {:.2f}\".format(grid.best_score_))\n",
    "print(\"Grid test score: {:.2f}\".format(grid.score(inflation_X_test, inflation_y_test)))\n",
    "print(\"Best grid parameters: {}\".format(grid.best_params_))\n",
    "inflation_knn_best_params = grid.best_params_"
   ]
  },
  {
   "cell_type": "markdown",
   "id": "serious-algeria",
   "metadata": {},
   "source": [
    "### SVC Evaluation"
   ]
  },
  {
   "cell_type": "code",
   "execution_count": 24,
   "id": "polish-habitat",
   "metadata": {
    "scrolled": true
   },
   "outputs": [
    {
     "name": "stdout",
     "output_type": "stream",
     "text": [
      "Best grid score: 0.87\n",
      "Grid test score: 0.86\n",
      "Best grid parameters: {'C': 1000, 'gamma': 1, 'kernel': 'linear'}\n"
     ]
    }
   ],
   "source": [
    "# SVC Parameter Tuning\n",
    "from sklearn.svm import SVC\n",
    "param_grid = {\n",
    "    'C':[1,10,100,1000],\n",
    "    'gamma':[1,0.1,0.001,0.0001],\n",
    "    'kernel':['linear','rbf']\n",
    "}\n",
    "svc = SVC(class_weight=class_weights)\n",
    "grid = GridSearchCV(svc, param_grid)\n",
    "grid.fit(X_train, y_train)\n",
    "print(\"Best grid score: {:.2f}\".format(grid.best_score_))\n",
    "print(\"Grid test score: {:.2f}\".format(grid.score(X_test, y_test)))\n",
    "print(\"Best grid parameters: {}\".format(grid.best_params_))\n",
    "svc_best_params = grid.best_params_"
   ]
  },
  {
   "cell_type": "code",
   "execution_count": 25,
   "id": "fitting-newfoundland",
   "metadata": {
    "scrolled": true
   },
   "outputs": [
    {
     "name": "stderr",
     "output_type": "stream",
     "text": [
      "/Users/caleb/jupyter/lib/python3.8/site-packages/sklearn/model_selection/_split.py:666: UserWarning: The least populated class in y has only 4 members, which is less than n_splits=5.\n",
      "  warnings.warn((\"The least populated class in y has only %d\"\n"
     ]
    },
    {
     "name": "stdout",
     "output_type": "stream",
     "text": [
      "Best grid score: 0.53\n",
      "Grid test score: 0.60\n",
      "Best grid parameters: {'C': 100, 'gamma': 0.1, 'kernel': 'rbf'}\n"
     ]
    }
   ],
   "source": [
    "# SVC Parameter Tuning\n",
    "from sklearn.svm import SVC\n",
    "param_grid = {\n",
    "    'C':[1,10,100,1000],\n",
    "    'gamma':[1,0.1,0.001,0.0001],\n",
    "    'kernel':['linear','rbf']\n",
    "}\n",
    "svc = SVC(class_weight=inflation_class_weights)\n",
    "grid = GridSearchCV(svc, param_grid)\n",
    "grid.fit(inflation_X_train, inflation_y_train)\n",
    "print(\"Best grid score: {:.2f}\".format(grid.best_score_))\n",
    "print(\"Grid test score: {:.2f}\".format(grid.score(inflation_X_test, inflation_y_test)))\n",
    "print(\"Best grid parameters: {}\".format(grid.best_params_))\n",
    "inflation_svc_best_params = grid.best_params_"
   ]
  },
  {
   "cell_type": "markdown",
   "id": "unique-wings",
   "metadata": {},
   "source": [
    "### Retraining with Best Parameters"
   ]
  },
  {
   "cell_type": "code",
   "execution_count": 26,
   "id": "burning-printer",
   "metadata": {},
   "outputs": [
    {
     "name": "stdout",
     "output_type": "stream",
     "text": [
      "Logistic Regression Score: 0.86\n",
      "Decision Tree Score: 0.69\n",
      "KNN Score: 0.66\n",
      "SVC Score: 0.86\n"
     ]
    }
   ],
   "source": [
    "# Let's retrain the models using the fine-tuned parameters found\n",
    "# so we can examine the confusion matrix and scoring report and make a conclusion.\n",
    "lr = LogisticRegression(max_iter=2000, C=lr_best_params['C'], class_weight=class_weights)\n",
    "lr.fit(X_train, y_train)\n",
    "lr_pred = lr.predict(X_test)\n",
    "print('Logistic Regression Score: {:.2f}'.format(lr.score(X_test, y_test)))\n",
    "\n",
    "dt = DecisionTreeClassifier(criterion=dt_best_params['criterion'], max_depth=dt_best_params['max_depth'], class_weight=class_weights)\n",
    "dt.fit(X_train, y_train)\n",
    "dt_pred = dt.predict(X_test)\n",
    "print('Decision Tree Score: {:.2f}'.format(dt.score(X_test, y_test)))\n",
    "\n",
    "knn = KNeighborsClassifier(metric=knn_best_params['metric'], n_neighbors=knn_best_params['n_neighbors'], weights=knn_best_params['weights'])\n",
    "knn.fit(X_train, y_train)\n",
    "knn_pred = knn.predict(X_test)\n",
    "print('KNN Score: {:.2f}'.format(knn.score(X_test, y_test)))\n",
    "\n",
    "svc = SVC(C=svc_best_params['C'], gamma=svc_best_params['gamma'], kernel=svc_best_params['kernel'], class_weight=class_weights)\n",
    "svc.fit(X_train, y_train)\n",
    "svc_pred = svc.predict(X_test)\n",
    "print('SVC Score: {:.2f}'.format(svc.score(X_test, y_test)))"
   ]
  },
  {
   "cell_type": "code",
   "execution_count": 28,
   "id": "banner-issue",
   "metadata": {},
   "outputs": [
    {
     "name": "stdout",
     "output_type": "stream",
     "text": [
      "Logistic Regression Score: 0.47\n",
      "Decision Tree Score: 0.58\n",
      "KNN Score: 0.57\n",
      "SVC Score: 0.60\n"
     ]
    }
   ],
   "source": [
    "# Let's retrain the models using the fine-tuned parameters found\n",
    "# so we can examine the confusion matrix and scoring report and make a conclusion.\n",
    "inflation_lr = LogisticRegression(max_iter=2000, C=inflation_lr_best_params['C'], class_weight=inflation_class_weights)\n",
    "inflation_lr.fit(inflation_X_train, inflation_y_train)\n",
    "inflation_lr_pred = inflation_lr.predict(inflation_X_test)\n",
    "print('Logistic Regression Score: {:.2f}'.format(inflation_lr.score(inflation_X_test, inflation_y_test)))\n",
    "\n",
    "inflation_dt = DecisionTreeClassifier(criterion=inflation_dt_best_params['criterion'], max_depth=inflation_dt_best_params['max_depth'], class_weight=inflation_class_weights)\n",
    "inflation_dt.fit(inflation_X_train, inflation_y_train)\n",
    "inflation_dt_pred = inflation_dt.predict(inflation_X_test)\n",
    "print('Decision Tree Score: {:.2f}'.format(inflation_dt.score(inflation_X_test, inflation_y_test)))\n",
    "\n",
    "inflation_knn = KNeighborsClassifier(metric=inflation_knn_best_params['metric'], n_neighbors=inflation_knn_best_params['n_neighbors'], weights=inflation_knn_best_params['weights'])\n",
    "inflation_knn.fit(inflation_X_train, inflation_y_train)\n",
    "inflation_knn_pred = inflation_knn.predict(inflation_X_test)\n",
    "print('KNN Score: {:.2f}'.format(inflation_knn.score(inflation_X_test, inflation_y_test)))\n",
    "\n",
    "inflation_svc = SVC(C=inflation_svc_best_params['C'], gamma=inflation_svc_best_params['gamma'], kernel=inflation_svc_best_params['kernel'], class_weight=inflation_class_weights)\n",
    "inflation_svc.fit(inflation_X_train, inflation_y_train)\n",
    "inflation_svc_pred = inflation_svc.predict(inflation_X_test)\n",
    "print('SVC Score: {:.2f}'.format(inflation_svc.score(inflation_X_test, inflation_y_test)))"
   ]
  },
  {
   "cell_type": "markdown",
   "id": "rocky-prime",
   "metadata": {},
   "source": [
    "---"
   ]
  },
  {
   "cell_type": "markdown",
   "id": "first-section",
   "metadata": {},
   "source": [
    "### Score Reporting\n",
    "\n",
    "Here, we take a closer look at the performance of our models, as raw accuracy is often not a great indicator."
   ]
  },
  {
   "cell_type": "markdown",
   "id": "confidential-discount",
   "metadata": {},
   "source": [
    "### Confusion Matrices"
   ]
  },
  {
   "cell_type": "code",
   "execution_count": 29,
   "id": "handmade-korean",
   "metadata": {
    "scrolled": false
   },
   "outputs": [
    {
     "name": "stdout",
     "output_type": "stream",
     "text": [
      "Logistic Regression Confusion Matrix:\n",
      "           Bad  Good  Very Good  Very Bad\n",
      "Bad        306    28         46         1\n",
      "Good        23   395         14        10\n",
      "Very Good    0     0         17         0\n",
      "Very Bad     0     1          0        18 \n",
      "\n",
      "Decision Tree Classifier Confusion Matrix:\n",
      "           Bad  Good  Very Good  Very Bad\n",
      "Bad        275    98          6         2\n",
      "Good       119   312          1        10\n",
      "Very Good    9     2          5         1\n",
      "Very Bad     3    14          0         2 \n",
      "\n",
      "KNN Classifier Confusion Matrix:\n",
      "           Bad  Good  Very Good  Very Bad\n",
      "Bad        235   146          0         0\n",
      "Good       112   327          0         3\n",
      "Very Good   10     3          4         0\n",
      "Very Bad     4    13          0         2 \n",
      "\n",
      "SVC Classifier Confusion Matrix:\n",
      "           Bad  Good  Very Good  Very Bad\n",
      "Bad        307    37         36         1\n",
      "Good        30   398          9         5\n",
      "Very Good    0     0         17         0\n",
      "Very Bad     1     1          2        15 \n",
      "\n"
     ]
    }
   ],
   "source": [
    "from sklearn.metrics import confusion_matrix\n",
    "labels = [\"Bad\", \"Good\", \"Very Good\", \"Very Bad\"]\n",
    "print(\"Logistic Regression Confusion Matrix:\")\n",
    "print(pd.DataFrame(confusion_matrix(y_test, lr_pred), index=labels, columns=labels), '\\n')\n",
    "print(\"Decision Tree Classifier Confusion Matrix:\")\n",
    "print(pd.DataFrame(confusion_matrix(y_test, dt_pred), index=labels, columns=labels), '\\n')\n",
    "print(\"KNN Classifier Confusion Matrix:\")\n",
    "print(pd.DataFrame(confusion_matrix(y_test, knn_pred), index=labels, columns=labels), '\\n')\n",
    "print(\"SVC Classifier Confusion Matrix:\")\n",
    "print(pd.DataFrame(confusion_matrix(y_test, svc_pred), index=labels, columns=labels), '\\n')"
   ]
  },
  {
   "cell_type": "code",
   "execution_count": 30,
   "id": "crude-supplement",
   "metadata": {
    "scrolled": false
   },
   "outputs": [
    {
     "name": "stdout",
     "output_type": "stream",
     "text": [
      "Logistic Regression Confusion Matrix:\n",
      "           Bad  Good  Very Good  Very Bad\n",
      "Bad        103   117          0         4\n",
      "Good        72    74          0         3\n",
      "Very Good    0     0          0         1\n",
      "Very Bad     0     0          0         1 \n",
      "\n",
      "Decision Tree Classifier Confusion Matrix:\n",
      "           Bad  Good  Very Good  Very Bad\n",
      "Bad        201    19          0         4\n",
      "Good       131    16          0         2\n",
      "Very Good    0     0          0         1\n",
      "Very Bad     0     0          0         1 \n",
      "\n",
      "KNN Classifier Confusion Matrix:\n",
      "           Bad  Good  Very Good  Very Bad\n",
      "Bad        175    49          0         0\n",
      "Good       111    38          0         0\n",
      "Very Good    0     1          0         0\n",
      "Very Bad     1     0          0         0 \n",
      "\n",
      "SVC Classifier Confusion Matrix:\n",
      "           Bad  Good  Very Good  Very Bad\n",
      "Bad        193    27          0         4\n",
      "Good       114    32          0         3\n",
      "Very Good    0     0          0         1\n",
      "Very Bad     0     0          0         1 \n",
      "\n"
     ]
    }
   ],
   "source": [
    "from sklearn.metrics import confusion_matrix\n",
    "labels = [\"Bad\", \"Good\", \"Very Good\", \"Very Bad\"]\n",
    "print(\"Logistic Regression Confusion Matrix:\")\n",
    "print(pd.DataFrame(confusion_matrix(inflation_y_test, inflation_lr_pred), index=labels, columns=labels), '\\n')\n",
    "print(\"Decision Tree Classifier Confusion Matrix:\")\n",
    "print(pd.DataFrame(confusion_matrix(inflation_y_test, inflation_dt_pred), index=labels, columns=labels), '\\n')\n",
    "print(\"KNN Classifier Confusion Matrix:\")\n",
    "print(pd.DataFrame(confusion_matrix(inflation_y_test, inflation_knn_pred), index=labels, columns=labels), '\\n')\n",
    "print(\"SVC Classifier Confusion Matrix:\")\n",
    "print(pd.DataFrame(confusion_matrix(inflation_y_test, inflation_svc_pred), index=labels, columns=labels), '\\n')"
   ]
  },
  {
   "cell_type": "markdown",
   "id": "entire-stupid",
   "metadata": {},
   "source": [
    "### Classification Reports (f1-score, precision, accuracy, etc.)"
   ]
  },
  {
   "cell_type": "code",
   "execution_count": 31,
   "id": "photographic-affiliate",
   "metadata": {
    "scrolled": false
   },
   "outputs": [
    {
     "name": "stdout",
     "output_type": "stream",
     "text": [
      "Logistic Regression Classification Report:\n",
      "              precision    recall  f1-score   support\n",
      "\n",
      "         bad       0.93      0.80      0.86       381\n",
      "        good       0.93      0.89      0.91       442\n",
      "    very bad       0.22      1.00      0.36        17\n",
      "   very good       0.62      0.95      0.75        19\n",
      "\n",
      "    accuracy                           0.86       859\n",
      "   macro avg       0.68      0.91      0.72       859\n",
      "weighted avg       0.91      0.86      0.88       859\n",
      " \n",
      "\n",
      "Decision Tree Classifier Classification Report:\n",
      "              precision    recall  f1-score   support\n",
      "\n",
      "         bad       0.68      0.72      0.70       381\n",
      "        good       0.73      0.71      0.72       442\n",
      "    very bad       0.42      0.29      0.34        17\n",
      "   very good       0.13      0.11      0.12        19\n",
      "\n",
      "    accuracy                           0.69       859\n",
      "   macro avg       0.49      0.46      0.47       859\n",
      "weighted avg       0.69      0.69      0.69       859\n",
      " \n",
      "\n",
      "KNN Classifier Classification Report:\n",
      "              precision    recall  f1-score   support\n",
      "\n",
      "         bad       0.65      0.62      0.63       381\n",
      "        good       0.67      0.74      0.70       442\n",
      "    very bad       1.00      0.24      0.38        17\n",
      "   very good       0.40      0.11      0.17        19\n",
      "\n",
      "    accuracy                           0.66       859\n",
      "   macro avg       0.68      0.42      0.47       859\n",
      "weighted avg       0.66      0.66      0.65       859\n",
      " \n",
      "\n",
      "SVC Classifier Classification Report:\n",
      "              precision    recall  f1-score   support\n",
      "\n",
      "         bad       0.91      0.81      0.85       381\n",
      "        good       0.91      0.90      0.91       442\n",
      "    very bad       0.27      1.00      0.42        17\n",
      "   very good       0.71      0.79      0.75        19\n",
      "\n",
      "    accuracy                           0.86       859\n",
      "   macro avg       0.70      0.87      0.73       859\n",
      "weighted avg       0.89      0.86      0.87       859\n",
      " \n",
      "\n"
     ]
    }
   ],
   "source": [
    "from sklearn.metrics import classification_report\n",
    "print(\"Logistic Regression Classification Report:\")\n",
    "print(classification_report(y_test, lr_pred), '\\n')\n",
    "print(\"Decision Tree Classifier Classification Report:\")\n",
    "print(classification_report(y_test, dt_pred), '\\n')\n",
    "print(\"KNN Classifier Classification Report:\")\n",
    "print(classification_report(y_test, knn_pred), '\\n')\n",
    "print(\"SVC Classifier Classification Report:\")\n",
    "print(classification_report(y_test, svc_pred), '\\n')"
   ]
  },
  {
   "cell_type": "code",
   "execution_count": 32,
   "id": "polished-broadcast",
   "metadata": {
    "scrolled": false
   },
   "outputs": [
    {
     "name": "stdout",
     "output_type": "stream",
     "text": [
      "Logistic Regression Classification Report:\n",
      "              precision    recall  f1-score   support\n",
      "\n",
      "         bad       0.59      0.46      0.52       224\n",
      "        good       0.39      0.50      0.44       149\n",
      "    very bad       0.00      0.00      0.00         1\n",
      "   very good       0.11      1.00      0.20         1\n",
      "\n",
      "    accuracy                           0.47       375\n",
      "   macro avg       0.27      0.49      0.29       375\n",
      "weighted avg       0.51      0.47      0.48       375\n",
      " \n",
      "\n",
      "Decision Tree Classifier Classification Report:\n",
      "              precision    recall  f1-score   support\n",
      "\n",
      "         bad       0.61      0.90      0.72       224\n",
      "        good       0.46      0.11      0.17       149\n",
      "    very bad       0.00      0.00      0.00         1\n",
      "   very good       0.12      1.00      0.22         1\n",
      "\n",
      "    accuracy                           0.58       375\n",
      "   macro avg       0.30      0.50      0.28       375\n",
      "weighted avg       0.54      0.58      0.50       375\n",
      " \n",
      "\n",
      "KNN Classifier Classification Report:\n",
      "              precision    recall  f1-score   support\n",
      "\n",
      "         bad       0.61      0.78      0.68       224\n",
      "        good       0.43      0.26      0.32       149\n",
      "    very bad       0.00      0.00      0.00         1\n",
      "   very good       0.00      0.00      0.00         1\n",
      "\n",
      "    accuracy                           0.57       375\n",
      "   macro avg       0.26      0.26      0.25       375\n",
      "weighted avg       0.54      0.57      0.54       375\n",
      " \n",
      "\n",
      "SVC Classifier Classification Report:\n",
      "              precision    recall  f1-score   support\n",
      "\n",
      "         bad       0.63      0.86      0.73       224\n",
      "        good       0.54      0.21      0.31       149\n",
      "    very bad       0.00      0.00      0.00         1\n",
      "   very good       0.11      1.00      0.20         1\n",
      "\n",
      "    accuracy                           0.60       375\n",
      "   macro avg       0.32      0.52      0.31       375\n",
      "weighted avg       0.59      0.60      0.56       375\n",
      " \n",
      "\n"
     ]
    },
    {
     "name": "stderr",
     "output_type": "stream",
     "text": [
      "/Users/caleb/jupyter/lib/python3.8/site-packages/sklearn/metrics/_classification.py:1245: UndefinedMetricWarning: Precision and F-score are ill-defined and being set to 0.0 in labels with no predicted samples. Use `zero_division` parameter to control this behavior.\n",
      "  _warn_prf(average, modifier, msg_start, len(result))\n",
      "/Users/caleb/jupyter/lib/python3.8/site-packages/sklearn/metrics/_classification.py:1245: UndefinedMetricWarning: Precision and F-score are ill-defined and being set to 0.0 in labels with no predicted samples. Use `zero_division` parameter to control this behavior.\n",
      "  _warn_prf(average, modifier, msg_start, len(result))\n",
      "/Users/caleb/jupyter/lib/python3.8/site-packages/sklearn/metrics/_classification.py:1245: UndefinedMetricWarning: Precision and F-score are ill-defined and being set to 0.0 in labels with no predicted samples. Use `zero_division` parameter to control this behavior.\n",
      "  _warn_prf(average, modifier, msg_start, len(result))\n",
      "/Users/caleb/jupyter/lib/python3.8/site-packages/sklearn/metrics/_classification.py:1245: UndefinedMetricWarning: Precision and F-score are ill-defined and being set to 0.0 in labels with no predicted samples. Use `zero_division` parameter to control this behavior.\n",
      "  _warn_prf(average, modifier, msg_start, len(result))\n",
      "/Users/caleb/jupyter/lib/python3.8/site-packages/sklearn/metrics/_classification.py:1245: UndefinedMetricWarning: Precision and F-score are ill-defined and being set to 0.0 in labels with no predicted samples. Use `zero_division` parameter to control this behavior.\n",
      "  _warn_prf(average, modifier, msg_start, len(result))\n",
      "/Users/caleb/jupyter/lib/python3.8/site-packages/sklearn/metrics/_classification.py:1245: UndefinedMetricWarning: Precision and F-score are ill-defined and being set to 0.0 in labels with no predicted samples. Use `zero_division` parameter to control this behavior.\n",
      "  _warn_prf(average, modifier, msg_start, len(result))\n",
      "/Users/caleb/jupyter/lib/python3.8/site-packages/sklearn/metrics/_classification.py:1245: UndefinedMetricWarning: Precision and F-score are ill-defined and being set to 0.0 in labels with no predicted samples. Use `zero_division` parameter to control this behavior.\n",
      "  _warn_prf(average, modifier, msg_start, len(result))\n",
      "/Users/caleb/jupyter/lib/python3.8/site-packages/sklearn/metrics/_classification.py:1245: UndefinedMetricWarning: Precision and F-score are ill-defined and being set to 0.0 in labels with no predicted samples. Use `zero_division` parameter to control this behavior.\n",
      "  _warn_prf(average, modifier, msg_start, len(result))\n",
      "/Users/caleb/jupyter/lib/python3.8/site-packages/sklearn/metrics/_classification.py:1245: UndefinedMetricWarning: Precision and F-score are ill-defined and being set to 0.0 in labels with no predicted samples. Use `zero_division` parameter to control this behavior.\n",
      "  _warn_prf(average, modifier, msg_start, len(result))\n",
      "/Users/caleb/jupyter/lib/python3.8/site-packages/sklearn/metrics/_classification.py:1245: UndefinedMetricWarning: Precision and F-score are ill-defined and being set to 0.0 in labels with no predicted samples. Use `zero_division` parameter to control this behavior.\n",
      "  _warn_prf(average, modifier, msg_start, len(result))\n",
      "/Users/caleb/jupyter/lib/python3.8/site-packages/sklearn/metrics/_classification.py:1245: UndefinedMetricWarning: Precision and F-score are ill-defined and being set to 0.0 in labels with no predicted samples. Use `zero_division` parameter to control this behavior.\n",
      "  _warn_prf(average, modifier, msg_start, len(result))\n",
      "/Users/caleb/jupyter/lib/python3.8/site-packages/sklearn/metrics/_classification.py:1245: UndefinedMetricWarning: Precision and F-score are ill-defined and being set to 0.0 in labels with no predicted samples. Use `zero_division` parameter to control this behavior.\n",
      "  _warn_prf(average, modifier, msg_start, len(result))\n"
     ]
    }
   ],
   "source": [
    "from sklearn.metrics import classification_report\n",
    "print(\"Logistic Regression Classification Report:\")\n",
    "print(classification_report(inflation_y_test, inflation_lr_pred), '\\n')\n",
    "print(\"Decision Tree Classifier Classification Report:\")\n",
    "print(classification_report(inflation_y_test, inflation_dt_pred), '\\n')\n",
    "print(\"KNN Classifier Classification Report:\")\n",
    "print(classification_report(inflation_y_test, inflation_knn_pred), '\\n')\n",
    "print(\"SVC Classifier Classification Report:\")\n",
    "print(classification_report(inflation_y_test, inflation_svc_pred), '\\n')"
   ]
  },
  {
   "cell_type": "markdown",
   "id": "wooden-northeast",
   "metadata": {},
   "source": [
    "### Interpretation of Evaluation"
   ]
  },
  {
   "cell_type": "markdown",
   "id": "outer-dating",
   "metadata": {},
   "source": [
    "The confusion matrices and the classification reports above give us more insight into the performance of the models. From lecture, \"When the skew in the class distributions are severe, accuracy can become an unreliable measure of model performance\". This is apparent here due to the disproportion between \"bad\" and \"good\" data points vs. \"very bad\" and \"very good\" data points.\n",
    "\n",
    "Looking at the metrics for our **LogisticRegression** model, we see from the confusion matrix that its accuracy is not all due to the correct \"good\" and \"bad\" classifications. We see that it was able to classify \"very good\" and \"very bad\" data points accurately. However, when we examing the classification report, we see that the f1-score for \"very bad\" is not ideal. This is due to the fact that while we have the maximum recall, we have a low precision. This is a con of this model that needs to be considered.\n",
    "\n",
    "We can safely eliminate the **DecisionTreeClassifier** and the **KNeighborsClassifier** from our candidate models as they are unable to have any success in predicting the two classes with the fewest data points. This is supported by their respective classification reports.\n",
    "\n",
    "Finally, we have the **SVC Classifier**. This classifier's performance is up-to-par with our **LogisticRegression** classifier (which is the best model seen thus far). We see that while its success with \"very bad\" is not as good as its Logistic counterpart, we observe higher f1-scores. While the f1-scores for \"very bad\" and \"very good\" leave something to be desired, we can say that, overall, the SVC provides us with better metrics.\n",
    "\n",
    "Thus, we will proceed with the SVC Classifier for feature selection. "
   ]
  },
  {
   "cell_type": "markdown",
   "id": "iraqi-russia",
   "metadata": {},
   "source": [
    "---"
   ]
  },
  {
   "cell_type": "markdown",
   "id": "architectural-showcase",
   "metadata": {},
   "source": [
    "### Model-Based Feature Selection with SVC"
   ]
  },
  {
   "cell_type": "markdown",
   "id": "complete-investment",
   "metadata": {},
   "source": [
    "### Metrics with All Features"
   ]
  },
  {
   "cell_type": "code",
   "execution_count": 33,
   "id": "arctic-funeral",
   "metadata": {
    "scrolled": true
   },
   "outputs": [
    {
     "name": "stdout",
     "output_type": "stream",
     "text": [
      "Score with all features: 0.858\n",
      "           Bad  Good  Very Good  Very Bad\n",
      "Bad        307    37         36         1\n",
      "Good        30   398          9         5\n",
      "Very Good    0     0         17         0\n",
      "Very Bad     1     1          2        15 \n",
      "\n",
      "              precision    recall  f1-score   support\n",
      "\n",
      "         bad       0.91      0.81      0.85       381\n",
      "        good       0.91      0.90      0.91       442\n",
      "    very bad       0.27      1.00      0.42        17\n",
      "   very good       0.71      0.79      0.75        19\n",
      "\n",
      "    accuracy                           0.86       859\n",
      "   macro avg       0.70      0.87      0.73       859\n",
      "weighted avg       0.89      0.86      0.87       859\n",
      "\n"
     ]
    }
   ],
   "source": [
    "from sklearn.feature_selection import SelectFromModel\n",
    "\n",
    "labels = [\"Bad\", \"Good\", \"Very Good\", \"Very Bad\"]\n",
    "\n",
    "svc = SVC(C=svc_best_params['C'],\n",
    "          gamma=svc_best_params['gamma'],\n",
    "          kernel=svc_best_params['kernel'],\n",
    "          class_weight=class_weights)\n",
    "\n",
    "select = SelectFromModel(svc, threshold='median')\n",
    "select.fit(X_train, y_train)\n",
    "X_train_fs = select.transform(X_train)\n",
    "\n",
    "# With all features\n",
    "svc.fit(X_train, y_train)\n",
    "print('Score with all features: {:.3f}'.format(svc.score(X_test, y_test)))\n",
    "svc_pred = svc.predict(X_test)\n",
    "print(pd.DataFrame(confusion_matrix(y_test, svc_pred), index=labels, columns=labels), '\\n')\n",
    "print(classification_report(y_test, svc_pred))"
   ]
  },
  {
   "cell_type": "code",
   "execution_count": 37,
   "id": "static-flesh",
   "metadata": {
    "scrolled": true
   },
   "outputs": [
    {
     "name": "stdout",
     "output_type": "stream",
     "text": [
      "Score with all features: 0.603\n",
      "           Bad  Good  Very Good  Very Bad\n",
      "Bad        193    27          0         4\n",
      "Good       114    32          0         3\n",
      "Very Good    0     0          0         1\n",
      "Very Bad     0     0          0         1 \n",
      "\n",
      "              precision    recall  f1-score   support\n",
      "\n",
      "         bad       0.63      0.86      0.73       224\n",
      "        good       0.54      0.21      0.31       149\n",
      "    very bad       0.00      0.00      0.00         1\n",
      "   very good       0.11      1.00      0.20         1\n",
      "\n",
      "    accuracy                           0.60       375\n",
      "   macro avg       0.32      0.52      0.31       375\n",
      "weighted avg       0.59      0.60      0.56       375\n",
      "\n"
     ]
    },
    {
     "name": "stderr",
     "output_type": "stream",
     "text": [
      "/Users/caleb/jupyter/lib/python3.8/site-packages/sklearn/metrics/_classification.py:1245: UndefinedMetricWarning: Precision and F-score are ill-defined and being set to 0.0 in labels with no predicted samples. Use `zero_division` parameter to control this behavior.\n",
      "  _warn_prf(average, modifier, msg_start, len(result))\n",
      "/Users/caleb/jupyter/lib/python3.8/site-packages/sklearn/metrics/_classification.py:1245: UndefinedMetricWarning: Precision and F-score are ill-defined and being set to 0.0 in labels with no predicted samples. Use `zero_division` parameter to control this behavior.\n",
      "  _warn_prf(average, modifier, msg_start, len(result))\n",
      "/Users/caleb/jupyter/lib/python3.8/site-packages/sklearn/metrics/_classification.py:1245: UndefinedMetricWarning: Precision and F-score are ill-defined and being set to 0.0 in labels with no predicted samples. Use `zero_division` parameter to control this behavior.\n",
      "  _warn_prf(average, modifier, msg_start, len(result))\n"
     ]
    }
   ],
   "source": [
    "from sklearn.feature_selection import SelectFromModel\n",
    "\n",
    "labels = [\"Bad\", \"Good\", \"Very Good\", \"Very Bad\"]\n",
    "\n",
    "inflation_svc = SVC(C=inflation_svc_best_params['C'],\n",
    "          gamma=inflation_svc_best_params['gamma'],\n",
    "          kernel=inflation_svc_best_params['kernel'],\n",
    "          class_weight=inflation_class_weights)\n",
    "\n",
    "inflation_select = SelectFromModel(svc, threshold='median')\n",
    "inflation_select.fit(inflation_X_train, inflation_y_train)\n",
    "inflation_X_train_fs = inflation_select.transform(inflation_X_train)\n",
    "\n",
    "# With all features\n",
    "inflation_svc.fit(inflation_X_train, inflation_y_train)\n",
    "print('Score with all features: {:.3f}'.format(inflation_svc.score(inflation_X_test, inflation_y_test)))\n",
    "inflation_svc_pred = inflation_svc.predict(inflation_X_test)\n",
    "print(pd.DataFrame(confusion_matrix(inflation_y_test, inflation_svc_pred), index=labels, columns=labels), '\\n')\n",
    "print(classification_report(inflation_y_test, inflation_svc_pred))"
   ]
  },
  {
   "cell_type": "markdown",
   "id": "greater-turner",
   "metadata": {},
   "source": [
    "### Metrics with Selected Features"
   ]
  },
  {
   "cell_type": "code",
   "execution_count": 38,
   "id": "reasonable-victory",
   "metadata": {
    "scrolled": false
   },
   "outputs": [
    {
     "name": "stdout",
     "output_type": "stream",
     "text": [
      "Selected Features: ['Open', 'High', 'Close']\n",
      "Score with selected features: 0.796\n",
      "           Bad  Good  Very Good  Very Bad\n",
      "Bad        337     2         42         0\n",
      "Good        93   314         28         7\n",
      "Very Good    0     0         17         0\n",
      "Very Bad     3     0          0        16 \n",
      "\n",
      "              precision    recall  f1-score   support\n",
      "\n",
      "         bad       0.78      0.88      0.83       381\n",
      "        good       0.99      0.71      0.83       442\n",
      "    very bad       0.20      1.00      0.33        17\n",
      "   very good       0.70      0.84      0.76        19\n",
      "\n",
      "    accuracy                           0.80       859\n",
      "   macro avg       0.67      0.86      0.69       859\n",
      "weighted avg       0.88      0.80      0.82       859\n",
      "\n"
     ]
    }
   ],
   "source": [
    "# With selected features\n",
    "svc.fit(X_train_fs, y_train)\n",
    "X_test_fs = select.transform(X_test)\n",
    "svc_pred = svc.predict(X_test_fs)\n",
    "\n",
    "mask = select.get_support()\n",
    "selected_features = []\n",
    "for i in range(len(X.columns)):\n",
    "    if mask[i]:\n",
    "        selected_features += [X.columns[i]]\n",
    "\n",
    "print(f'Selected Features: {selected_features}')\n",
    "print('Score with selected features: {:.3f}'.format(svc.score(X_test_fs, y_test)))\n",
    "print(pd.DataFrame(confusion_matrix(y_test, svc_pred), index=labels, columns=labels), '\\n')\n",
    "print(classification_report(y_test, svc_pred))"
   ]
  },
  {
   "cell_type": "code",
   "execution_count": 40,
   "id": "mediterranean-cologne",
   "metadata": {
    "scrolled": false
   },
   "outputs": [
    {
     "name": "stdout",
     "output_type": "stream",
     "text": [
      "Selected Features: ['T10YIE']\n",
      "Score with selected features: 0.603\n",
      "           Bad  Good  Very Good  Very Bad\n",
      "Bad        193    27          0         4\n",
      "Good       114    32          0         3\n",
      "Very Good    0     0          0         1\n",
      "Very Bad     0     0          0         1 \n",
      "\n",
      "              precision    recall  f1-score   support\n",
      "\n",
      "         bad       0.63      0.86      0.73       224\n",
      "        good       0.54      0.21      0.31       149\n",
      "    very bad       0.00      0.00      0.00         1\n",
      "   very good       0.11      1.00      0.20         1\n",
      "\n",
      "    accuracy                           0.60       375\n",
      "   macro avg       0.32      0.52      0.31       375\n",
      "weighted avg       0.59      0.60      0.56       375\n",
      "\n"
     ]
    },
    {
     "name": "stderr",
     "output_type": "stream",
     "text": [
      "/Users/caleb/jupyter/lib/python3.8/site-packages/sklearn/metrics/_classification.py:1245: UndefinedMetricWarning: Precision and F-score are ill-defined and being set to 0.0 in labels with no predicted samples. Use `zero_division` parameter to control this behavior.\n",
      "  _warn_prf(average, modifier, msg_start, len(result))\n",
      "/Users/caleb/jupyter/lib/python3.8/site-packages/sklearn/metrics/_classification.py:1245: UndefinedMetricWarning: Precision and F-score are ill-defined and being set to 0.0 in labels with no predicted samples. Use `zero_division` parameter to control this behavior.\n",
      "  _warn_prf(average, modifier, msg_start, len(result))\n",
      "/Users/caleb/jupyter/lib/python3.8/site-packages/sklearn/metrics/_classification.py:1245: UndefinedMetricWarning: Precision and F-score are ill-defined and being set to 0.0 in labels with no predicted samples. Use `zero_division` parameter to control this behavior.\n",
      "  _warn_prf(average, modifier, msg_start, len(result))\n"
     ]
    }
   ],
   "source": [
    "# With selected features\n",
    "inflation_svc.fit(inflation_X_train_fs, inflation_y_train)\n",
    "inflation_X_test_fs = inflation_select.transform(inflation_X_test)\n",
    "inflation_svc_pred = inflation_svc.predict(inflation_X_test_fs)\n",
    "\n",
    "inflation_mask = select.get_support()\n",
    "inflation_selected_features = []\n",
    "for i in range(len(inflation_X.columns)):\n",
    "    if inflation_mask[i]:\n",
    "       inflation_selected_features += [inflation_X.columns[i]]\n",
    "\n",
    "print(f'Selected Features: {inflation_selected_features}')\n",
    "print('Score with selected features: {:.3f}'.format(inflation_svc.score(inflation_X_test_fs, inflation_y_test)))\n",
    "print(pd.DataFrame(confusion_matrix(inflation_y_test, inflation_svc_pred), index=labels, columns=labels), '\\n')\n",
    "print(classification_report(inflation_y_test, inflation_svc_pred))"
   ]
  },
  {
   "cell_type": "markdown",
   "id": "personal-region",
   "metadata": {},
   "source": [
    "While we observed a drop in accuracy with the selected features, this is necessarily always a bad sign. We want to avoid overfitting, and too many features may contribute to this. While we did notice a slight drop in f1-scores, we believe that this is a consequence of our model not overfitting as much."
   ]
  },
  {
   "cell_type": "markdown",
   "id": "diverse-tolerance",
   "metadata": {},
   "source": [
    "---"
   ]
  },
  {
   "cell_type": "markdown",
   "id": "dietary-jacket",
   "metadata": {},
   "source": [
    "### Cross Fold Validation"
   ]
  },
  {
   "cell_type": "code",
   "execution_count": 41,
   "id": "unable-killing",
   "metadata": {},
   "outputs": [
    {
     "name": "stdout",
     "output_type": "stream",
     "text": [
      "Scores over 10 runs\n",
      "[0.6445993  0.82167832 0.6993007  0.88811189 0.8986014  0.96853147\n",
      " 0.95804196 0.97202797 0.98601399 0.97902098]\n"
     ]
    }
   ],
   "source": [
    "# Now that we have fine-tuned our chose model, we can observe its performance with a cross-fold validation.\n",
    "from sklearn.model_selection import cross_val_score\n",
    "from sklearn.pipeline import make_pipeline\n",
    "\n",
    "# \"Reset\" our data\n",
    "X = coin_df[['Open', 'High', 'Low', 'Volume', 'Marketcap', 'Close']]\n",
    "y = coin_df['Return']\n",
    "\n",
    "# Our best model\n",
    "svc = SVC(C=svc_best_params['C'],\n",
    "          gamma=svc_best_params['gamma'],\n",
    "          kernel=svc_best_params['kernel'],\n",
    "          class_weight=class_weights)\n",
    "\n",
    "# Use a pipeline to include scaling and feature selection\n",
    "clf = make_pipeline(RobustScaler(), SelectFromModel(svc), svc)\n",
    "scores = cross_val_score(clf, X, y, cv=10)\n",
    "print('Scores over 10 runs')\n",
    "print(scores)"
   ]
  },
  {
   "cell_type": "code",
   "execution_count": 43,
   "id": "solar-france",
   "metadata": {},
   "outputs": [
    {
     "name": "stderr",
     "output_type": "stream",
     "text": [
      "/Users/caleb/jupyter/lib/python3.8/site-packages/sklearn/model_selection/_split.py:666: UserWarning: The least populated class in y has only 5 members, which is less than n_splits=10.\n",
      "  warnings.warn((\"The least populated class in y has only %d\"\n"
     ]
    },
    {
     "name": "stdout",
     "output_type": "stream",
     "text": [
      "Scores over 10 runs\n",
      "[0.472 0.576 0.576 0.568 0.568 0.536 0.576 0.176 0.312 0.544]\n"
     ]
    }
   ],
   "source": [
    "# Now that we have fine-tuned our chose model, we can observe its performance with a cross-fold validation.\n",
    "from sklearn.model_selection import cross_val_score\n",
    "from sklearn.pipeline import make_pipeline\n",
    "\n",
    "# \"Reset\" our data\n",
    "inflation_X = inflation_df[['T10YIE']]\n",
    "inflation_y = inflation_df['Return']\n",
    "\n",
    "# Our best model\n",
    "inflation_svc = SVC(C=inflation_svc_best_params['C'],\n",
    "          gamma=inflation_svc_best_params['gamma'],\n",
    "          kernel=inflation_svc_best_params['kernel'],\n",
    "          class_weight=inflation_class_weights)\n",
    "\n",
    "# Use a pipeline to include scaling and feature selection\n",
    "inflation_clf = make_pipeline(RobustScaler(), SelectFromModel(svc), inflation_svc)\n",
    "inflation_scores = cross_val_score(inflation_clf, inflation_X, inflation_y, cv=10)\n",
    "print('Scores over 10 runs')\n",
    "print(inflation_scores)"
   ]
  },
  {
   "cell_type": "markdown",
   "id": "major-medline",
   "metadata": {},
   "source": [
    "### Further Insights"
   ]
  },
  {
   "cell_type": "markdown",
   "id": "preceding-thesis",
   "metadata": {},
   "source": [
    "The results above provide some more interesting insights. We see that the data split used for training heavily influences the overall accuracy. These scores provide more insight into the dataset we have. What we can infer from the worst performances (\\~60%) is that the test data is dense with \"very good\" and \"very bad\" data points. Similarly, we can assume, for the overly-high scores (\\~97%), that the test data is heavily skewed towards \"good\" and \"bad\" due to a lack of \"very bad\" and \"very good\" data points."
   ]
  }
 ],
 "metadata": {
  "kernelspec": {
   "display_name": "Python 3",
   "language": "python",
   "name": "python3"
  },
  "language_info": {
   "codemirror_mode": {
    "name": "ipython",
    "version": 3
   },
   "file_extension": ".py",
   "mimetype": "text/x-python",
   "name": "python",
   "nbconvert_exporter": "python",
   "pygments_lexer": "ipython3",
   "version": "3.8.6"
  }
 },
 "nbformat": 4,
 "nbformat_minor": 5
}
